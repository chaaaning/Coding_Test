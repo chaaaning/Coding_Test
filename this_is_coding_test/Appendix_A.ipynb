{
 "cells": [
  {
   "cell_type": "markdown",
   "metadata": {},
   "source": [
    "# 주요 라이브러리의 문법과 유의점\n",
    "---\n",
    "\n",
    "파이썬에서 지원하는 표준 라이브러리는 굉장히 다양하지만, 코딩 테스트를 준비하며 반드시 알아야 하는 라이브러리는 6가지 정도이다. 6가지 라이브러리는 많은 기능을 포함하고 있기에, 가장 중요하고 알아야 할 핵심을 정리해 보자.\n",
    "\n",
    "- `내장 함수`: print(), input()과 같은 기본 입출력 기능부터 sorted()와 같은 정렬 기능을 포함하고 있는 기본 내장 라이브러리이다. 파이썬 프로그램을 작성할 때 없어서는 안되는 필수적인 기능을 포함하고 있다.\n",
    "- `itertools`: 파이썬에서 반복되는 형태의 데이터를 처리하는 기능을 제공하는 라이브러리이다. 순열과 조합 라이브러리를 제공한다.\n",
    "- `heapq`: 힙(Heap) 기능을 제공하는 라이브러리이다. 우선순위 큐 기능을 구현하기 위해 사용한다.\n",
    "- `bisect`: 이진 탐색(Binary Search) 기능을 제공하는 라이브러리이다.\n",
    "- `collections`: 덱(deque), 카운터(Counter) 등의 유용한 자료구조를 포함하고 있는 라이브러이다."
   ]
  },
  {
   "cell_type": "markdown",
   "metadata": {},
   "source": [
    "## Built-In Fuction\n",
    "---"
   ]
  },
  {
   "cell_type": "code",
   "execution_count": 14,
   "metadata": {},
   "outputs": [
    {
     "name": "stdout",
     "output_type": "stream",
     "text": [
      "sum: 15   min: 1  max: 5\n",
      "eval: 70\n",
      "incease: [2, 3, 5, 7, 9] \n",
      "decrease: [9, 7, 5, 3, 2]\n",
      "about keys: [('이순신', 74), ('아무개', 50), ('홍길동', 35)]\n"
     ]
    }
   ],
   "source": [
    "# sum(), min(), max()\n",
    "res = [1,2,3,4,5]\n",
    "print(f'sum: {sum(res)}   min: {min(res)}  max: {max(res)}')\n",
    "\n",
    "# eval()\n",
    "res1 = eval(\"(3+7)*7\")\n",
    "print(f'eval: {res1}')\n",
    "\n",
    "# sorted()\n",
    "res2 = [9,2,5,3,7]\n",
    "print(f'incease: {sorted(res2)} \\n\\\n",
    "decrease: {sorted(res2, reverse=True)}')\n",
    "\n",
    "res3 = [(\"홍길동\", 35),(\"이순신\", 74),(\"아무개\", 50)]\n",
    "print(f'about keys: {sorted(res3, key = lambda x: x[1], reverse=True)}')"
   ]
  },
  {
   "cell_type": "markdown",
   "metadata": {},
   "source": [
    "## itertools\n",
    "---\n",
    "\n",
    "**유용한 클래스**\n",
    "\n",
    "- `permutation` : 순열\n",
    "- `combination` : 조합\n",
    "- `product` : 순열(중복 허용)\n",
    "- `combinations_with_replacement` : 조합(중복 허용)"
   ]
  },
  {
   "cell_type": "code",
   "execution_count": 17,
   "metadata": {},
   "outputs": [
    {
     "name": "stdout",
     "output_type": "stream",
     "text": [
      "permutation: [('A', 'B', 'C'), ('A', 'C', 'B'), ('B', 'A', 'C'), ('B', 'C', 'A'), ('C', 'A', 'B'), ('C', 'B', 'A')]\n",
      "combinataion: [('A', 'B'), ('A', 'C'), ('B', 'C')]\n",
      "product: [('A', 'A'), ('A', 'B'), ('A', 'C'), ('B', 'A'), ('B', 'B'), ('B', 'C'), ('C', 'A'), ('C', 'B'), ('C', 'C')]\n",
      "combinations_with_replacement: [('A', 'A'), ('A', 'B'), ('A', 'C'), ('B', 'B'), ('B', 'C'), ('C', 'C')]\n"
     ]
    }
   ],
   "source": [
    "from itertools import permutations, combinations, product, combinations_with_replacement\n",
    "\n",
    "data = [\"A\",\"B\",\"C\"]\n",
    "\n",
    "# 3P3\n",
    "print(f'permutation: {list(permutations(data, 3))}')\n",
    "\n",
    "# 3C2\n",
    "print(f'combinataion: {list(combinations(data, 2))}')\n",
    "\n",
    "# 3P2 (중복 허용)\n",
    "print(f'product: {list(product(data, repeat=2))}')\n",
    "\n",
    "# 3C2\n",
    "print(f'combinations_with_replacement: {list(combinations_with_replacement(data,2))}')"
   ]
  },
  {
   "cell_type": "markdown",
   "metadata": {},
   "source": [
    "## heapq\n",
    "---\n",
    "\n",
    "- 파이썬에서는 힙 기능을 위해 heapq 라이브러리를 제공한다. heapq는 다익스트라 최단 경로 알고리즘을 포함해 다양한 알고리즘에서 우선순위 큐 기능을 구현하고자 할 때 사용된다. heapq 외에 PriorityQueue 라이브러리를 사용할 수 있지만, heapq가 더 빠르게 동작하므로 heapq를 사용하도록 한다.\n",
    "\n",
    "- 파이썬의 힙은 최소 힙으로 구성되어 있으므로 단순히 원소를 힙에 전부 넣었다가 빼는 것만으로도 시간 복잡도 $O(NlogN)$에 오름차순 정렬이 완료된다. 보통 최소 힙 자료구조의 최상단 원소는 항상 '가장 작은' 원소이기 때문이다.\n",
    "\n",
    "- 원소의 삽입은 `heapq.heappush()` 메서드를 사용하고, 꺼낼 때는 `heapq.heappop()` 메서드를 이용한다. 힙 정렬을 hwapq로 구현하면서 heapq의 사용방법을 알아본다."
   ]
  },
  {
   "cell_type": "code",
   "execution_count": 20,
   "metadata": {},
   "outputs": [
    {
     "name": "stdout",
     "output_type": "stream",
     "text": [
      "[0, 1, 2, 3, 4, 5, 6, 7, 8, 9]\n",
      "[9, 8, 7, 6, 5, 4, 3, 2, 1, 0]\n"
     ]
    }
   ],
   "source": [
    "import heapq\n",
    "\n",
    "def heapsort(iterable, seq=\"increase\"):\n",
    "    h = []\n",
    "    result = []\n",
    "    for value in iterable:\n",
    "        if seq==\"increase\":\n",
    "            heapq.heappush(h, value)\n",
    "        else:\n",
    "            heapq.heappush(h, -value)\n",
    "        \n",
    "    for i in range(len(h)):\n",
    "        if seq==\"increase\":\n",
    "            result.append(heapq.heappop(h))\n",
    "        else:\n",
    "            result.append(-heapq.heappop(h))\n",
    "    return result\n",
    "\n",
    "print(heapsort([1,3,5,7,9,2,4,6,8,0]))\n",
    "print(heapsort([1,3,5,7,9,2,4,6,8,0], seq=\"decrease\"))"
   ]
  },
  {
   "cell_type": "markdown",
   "metadata": {},
   "source": [
    "## bisect\n",
    "---\n",
    "\n",
    "- 파이썬에서는 이진 탐색을 쉽게 구현할 수 있도록 bisect 라이브러리를 제공한다. bisect 라이브러리는 '정렬된 배열'에서 특정한 원소를 찾아야 할 때, 굉장히 효과적으로 사용된다.\n",
    "\n",
    "- `bisect` 라이브러리는 `bisect_left()`, `bisect_right()` 함수가 중요하게 사용되며, 이 두 함수는 시간복잡도 $O(logN)$에 동작한다.\n",
    "    > `bisect_left(a,x)` : 정렬된 순서를 유지하면서 리스트 a에 데이터 x를 삽입할 가장 왼쪽 인덱스를 찾는 메서드  \n",
    "    > `bisect_right(a,x)` : 정렬된 순서를 유지하면서 리스트 a에 데이터 x를 삽입할 가장 오른쪽 인덱스를 찾는 메서드\n"
   ]
  },
  {
   "cell_type": "code",
   "execution_count": 24,
   "metadata": {},
   "outputs": [
    {
     "name": "stdout",
     "output_type": "stream",
     "text": [
      "left: 2 \t right: 4\n",
      "2\n",
      "6\n"
     ]
    }
   ],
   "source": [
    "from bisect import bisect_left, bisect_right\n",
    "\n",
    "# 기본적인 사용\n",
    "a = [1,2,4,4,8]\n",
    "print(f'left: {bisect_left(a,4)} \\t right: {bisect_right(a,4)}')\n",
    "\n",
    "# 정렬된 리스트에서 값이 특정 범위에 속하는 원소의 개수 (O(logN)으로 계산됨)\n",
    "def count_by_range(a, l_value, r_value):\n",
    "    right_idx = bisect_right(a, r_value)\n",
    "    left_idx = bisect_left(a, l_value)\n",
    "    return right_idx-left_idx\n",
    "\n",
    "a = [1,2,3,3,3,3,4,4,8,9]\n",
    "\n",
    "print(count_by_range(a,4,4))    # 4의 갯수 세기\n",
    "print(count_by_range(a,-1,3))   # -1 ~ 3 사이의 원소 갯수 세기"
   ]
  },
  {
   "cell_type": "markdown",
   "metadata": {},
   "source": [
    "## collections\n",
    "---\n",
    "\n",
    "- `collectins` 라이브러리는 유용한 자료구조를 제공하는 표준 라이브러리이다. `collections` 라이브러리의 기능 중에서 코딩 테스트에서 유용하게 사용되는 클래스는 `deque`, `Counter` 두 가지가 있다.\n",
    "\n",
    "    **deque**\n",
    "    > 파이썬에서 Queue를 구현할 때 사용된다. 별도 Queue 라이브러리가 있지만, 일반적인 큐 자료구조를 구현하는 라이브러리는 안디ㅏ. 다라서 deque를 이용해 큐를 구현해야 한다. 리스트와 큐를 비교하면 다음과 같다.\n",
    "    > |                   |list  |deque |deque code line |\n",
    "    > |-------------------|------|------|----------------|\n",
    "    > |가장 앞쪽에 원소 추가|$O(N)$|$O(1)$|`.appendleft(x)`|\n",
    "    > |가장 뒤쪽에 원소 추가|$O(1)$|$O(1)$|`.append(x)`    |\n",
    "    > |가장 앞쪽의 원소 제거|$O(N)$|$O(1)$|`.popleft()`    |\n",
    "    > |가장 뒤쪽의 원소 제거|$O(1)$|$O(1)$|`.pop()`        |\n",
    "\n",
    "    > deque에서는 리스트 자료형과 다르게 인덱싱, 슬르아싱 등의 기능은 사용할 수 없지만 연속적으로 나열된 데이터의 시작과 끝 부분에 데이터를 삽입하거나 삭제할 때는 매우 효과적으로 사용될 수 있다.\n",
    "\n",
    "    **Counter**\n",
    "    > 등장 횟수를 세는 기능을 제공한다. 구체적으로 iterable 객체가 주여졌을 때, 해당 객체 내부의 원소가 몇 번씩 등장했는지 알려준다."
   ]
  },
  {
   "cell_type": "code",
   "execution_count": 1,
   "metadata": {},
   "outputs": [
    {
     "name": "stdout",
     "output_type": "stream",
     "text": [
      "deque([1, 2, 3, 4, 5]), type is <class 'collections.deque'>\n",
      "[1, 2, 3, 4, 5], type is <class 'list'>\n"
     ]
    }
   ],
   "source": [
    "from collections import deque\n",
    "\n",
    "data = deque([2,3,4])\n",
    "data.append(5)\n",
    "data.appendleft(1)\n",
    "\n",
    "print(f'{data}, type is {type(data)}')\n",
    "print(f'{list(data)}, type is {type(list(data))}')"
   ]
  },
  {
   "cell_type": "markdown",
   "metadata": {},
   "source": [
    "## math\n",
    "---\n",
    "\n",
    "- math 라이브러리는 자주 사용되는 수학적인 기능으 포함하고 있는 라이브러리이다. 팩토리얼, 제곱근, 최대공약수 등을 계산해주는 기능을 포함하고 있으므로 수학 계산을 요구하는 문제를 만났을 때효과적인  사용이 가능하다."
   ]
  },
  {
   "cell_type": "code",
   "execution_count": 4,
   "metadata": {},
   "outputs": [
    {
     "name": "stdout",
     "output_type": "stream",
     "text": [
      "factorical: 120\n",
      "sqrt: 2.6457513110645907\n",
      "gcd: 7\n",
      "pi: 3.141592653589793\n",
      "e: 2.718281828459045\n"
     ]
    }
   ],
   "source": [
    "import math\n",
    "\n",
    "print(f'factorical: {math.factorial(5)}')\n",
    "print(f'sqrt: {math.sqrt(7)}')\n",
    "print(f'gcd: {math.gcd(21,14)}')\n",
    "print(f'pi: {math.pi}')\n",
    "print(f'e: {math.e}')"
   ]
  }
 ],
 "metadata": {
  "interpreter": {
   "hash": "d4576b5319827f6bc06284c622af9275fa0d40cfa27315b28dba6ed73bbabe70"
  },
  "kernelspec": {
   "display_name": "Python 3.8.8 ('main')",
   "language": "python",
   "name": "python3"
  },
  "language_info": {
   "codemirror_mode": {
    "name": "ipython",
    "version": 3
   },
   "file_extension": ".py",
   "mimetype": "text/x-python",
   "name": "python",
   "nbconvert_exporter": "python",
   "pygments_lexer": "ipython3",
   "version": "3.8.8"
  },
  "orig_nbformat": 4
 },
 "nbformat": 4,
 "nbformat_minor": 2
}
