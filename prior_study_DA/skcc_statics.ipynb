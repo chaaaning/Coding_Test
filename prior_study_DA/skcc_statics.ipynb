{
 "cells": [
  {
   "cell_type": "code",
   "execution_count": 3,
   "id": "6cb64592",
   "metadata": {},
   "outputs": [],
   "source": [
    "import os\n",
    "os.chdir(r\"D:\\\\myData\\\\데이터분석\\\\FastCampus_전처리\\\\part-2.-탐색적-데이터-분석\\\\2. 탐색적 데이터 분석\\\\데이터\")\n",
    "with open(\"성인여성_키_데이터.txt\",\"r\") as f:\n",
    "    data = f.read().split('\\n')\n",
    "    data = list(map(float, data))"
   ]
  },
  {
   "cell_type": "markdown",
   "id": "7ccafca6",
   "metadata": {},
   "source": [
    "# 단일표본 t-검정"
   ]
  },
  {
   "cell_type": "code",
   "execution_count": 4,
   "id": "acb63d57",
   "metadata": {},
   "outputs": [
    {
     "data": {
      "text/plain": [
       "KstestResult(statistic=1.0, pvalue=0.0)"
      ]
     },
     "execution_count": 4,
     "metadata": {},
     "output_type": "execute_result"
    }
   ],
   "source": [
    "# kstest  - 정규성 검정\n",
    "from scipy.stats import *\n",
    "\n",
    "kstest(data,'norm')"
   ]
  },
  {
   "cell_type": "code",
   "execution_count": 5,
   "id": "5693b7b3",
   "metadata": {},
   "outputs": [
    {
     "data": {
      "text/plain": [
       "Ttest_1sampResult(statistic=-2.979804412662668, pvalue=0.006510445335847954)"
      ]
     },
     "execution_count": 5,
     "metadata": {},
     "output_type": "execute_result"
    }
   ],
   "source": [
    "# 단일표본 t_test\n",
    "ttest_1samp(data, 163)"
   ]
  },
  {
   "cell_type": "markdown",
   "id": "3f12e6e2",
   "metadata": {},
   "source": [
    "# 독립표본 t-검정"
   ]
  },
  {
   "cell_type": "code",
   "execution_count": 10,
   "id": "574a0453",
   "metadata": {},
   "outputs": [],
   "source": [
    "import pandas as pd\n",
    "df1 = pd.read_csv(\"반별_점수_type1.csv\", engine=\"python\", encoding='euc-kr')\n",
    "\n",
    "group_A = df1[\"점수\"].loc[df1['반']=='A'].values # ndarray\n",
    "group_B = df1[\"점수\"].loc[df1['반']=='B'].values"
   ]
  },
  {
   "cell_type": "code",
   "execution_count": 13,
   "id": "cbb4d631",
   "metadata": {},
   "outputs": [
    {
     "name": "stdout",
     "output_type": "stream",
     "text": [
      "KstestResult(statistic=1.0, pvalue=0.0)\n",
      "KstestResult(statistic=1.0, pvalue=0.0)\n"
     ]
    }
   ],
   "source": [
    "# 정규성 검정\n",
    "print(kstest(group_A, 'norm'))\n",
    "print(kstest(group_B, 'norm'))"
   ]
  },
  {
   "cell_type": "code",
   "execution_count": 15,
   "id": "77efcbeb",
   "metadata": {},
   "outputs": [
    {
     "name": "stdout",
     "output_type": "stream",
     "text": [
      "LeveneResult(statistic=2.033067087400979, pvalue=0.164964086222101)\n"
     ]
    }
   ],
   "source": [
    "# 등분산성 검정 levene\n",
    "print(levene(group_A,group_B)) # < 0.05 가 아니므로 등분산"
   ]
  },
  {
   "cell_type": "code",
   "execution_count": 16,
   "id": "60845fae",
   "metadata": {},
   "outputs": [
    {
     "data": {
      "text/plain": [
       "Ttest_indResult(statistic=2.5128526794964134, pvalue=0.01801095352893767)"
      ]
     },
     "execution_count": 16,
     "metadata": {},
     "output_type": "execute_result"
    }
   ],
   "source": [
    "ttest_ind(group_A, group_B, equal_var = True)"
   ]
  },
  {
   "cell_type": "code",
   "execution_count": null,
   "id": "d9731844",
   "metadata": {},
   "outputs": [],
   "source": []
  }
 ],
 "metadata": {
  "kernelspec": {
   "display_name": "Python 3",
   "language": "python",
   "name": "python3"
  },
  "language_info": {
   "codemirror_mode": {
    "name": "ipython",
    "version": 3
   },
   "file_extension": ".py",
   "mimetype": "text/x-python",
   "name": "python",
   "nbconvert_exporter": "python",
   "pygments_lexer": "ipython3",
   "version": "3.8.8"
  }
 },
 "nbformat": 4,
 "nbformat_minor": 5
}
