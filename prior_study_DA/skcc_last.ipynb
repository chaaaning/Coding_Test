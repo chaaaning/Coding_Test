{
 "cells": [
  {
   "cell_type": "code",
   "execution_count": 1,
   "id": "169f9216-fa1c-480f-89fc-8756e2f085a3",
   "metadata": {},
   "outputs": [],
   "source": [
    "import pandas as pd\n",
    "import numpy as np\n",
    "import warnings\n",
    "\n",
    "pd.set_option('display.max_rows',None)\n",
    "pd.set_option('display.max_columns',10)\n",
    "warnings.simplefilter('ignore')\n",
    "\n",
    "file_path = 'D:\\\\mydata\\\\데이터분석\\\\FastCampus_전처리\\\\part-5.-머신러닝-모델의-성능-향상을-위한-전처리\\\\5. 머신러닝 모델의 성능 향상을 위한 전처리\\\\데이터\\\\'"
   ]
  },
  {
   "cell_type": "code",
   "execution_count": 2,
   "id": "0ac9865e-22bd-4fcb-a0a4-38048b063aeb",
   "metadata": {},
   "outputs": [
    {
     "name": "stdout",
     "output_type": "stream",
     "text": [
      "<class 'pandas.core.frame.DataFrame'>\n",
      "RangeIndex: 7043 entries, 0 to 7042\n",
      "Data columns (total 21 columns):\n",
      " #   Column            Non-Null Count  Dtype  \n",
      "---  ------            --------------  -----  \n",
      " 0   customerID        7043 non-null   object \n",
      " 1   gender            7043 non-null   object \n",
      " 2   SeniorCitizen     7043 non-null   int64  \n",
      " 3   Partner           7043 non-null   object \n",
      " 4   Dependents        7043 non-null   object \n",
      " 5   tenure            7043 non-null   int64  \n",
      " 6   PhoneService      7043 non-null   object \n",
      " 7   MultipleLines     7043 non-null   object \n",
      " 8   InternetService   7043 non-null   object \n",
      " 9   OnlineSecurity    7043 non-null   object \n",
      " 10  OnlineBackup      7043 non-null   object \n",
      " 11  DeviceProtection  7043 non-null   object \n",
      " 12  TechSupport       7043 non-null   object \n",
      " 13  StreamingTV       7043 non-null   object \n",
      " 14  StreamingMovies   7043 non-null   object \n",
      " 15  Contract          7043 non-null   object \n",
      " 16  PaperlessBilling  7043 non-null   object \n",
      " 17  PaymentMethod     7043 non-null   object \n",
      " 18  MonthlyCharges    7043 non-null   float64\n",
      " 19  TotalCharges      7043 non-null   object \n",
      " 20  Churn             7043 non-null   object \n",
      "dtypes: float64(1), int64(2), object(18)\n",
      "memory usage: 1.1+ MB\n"
     ]
    }
   ],
   "source": [
    "df = pd.read_csv(file_path+'Telco_churn_prediction.csv')\n",
    "df.info()"
   ]
  },
  {
   "cell_type": "code",
   "execution_count": 3,
   "id": "48b8af0d-46d9-4b26-a836-5fd3406c2042",
   "metadata": {},
   "outputs": [],
   "source": [
    "X = df.drop(['customerID','Churn'], axis=1)\n",
    "Y = df['Churn']\n",
    "\n",
    "from sklearn.model_selection import train_test_split\n",
    "\n",
    "x_train, x_test, y_train, y_test = train_test_split(X,Y)"
   ]
  },
  {
   "cell_type": "code",
   "execution_count": 4,
   "id": "cc9d4675-5b02-4ec6-bb02-f40d2d7d61b7",
   "metadata": {},
   "outputs": [
    {
     "name": "stdout",
     "output_type": "stream",
     "text": [
      "<class 'pandas.core.frame.DataFrame'>\n",
      "Int64Index: 5282 entries, 1787 to 2384\n",
      "Data columns (total 19 columns):\n",
      " #   Column            Non-Null Count  Dtype  \n",
      "---  ------            --------------  -----  \n",
      " 0   gender            5282 non-null   object \n",
      " 1   SeniorCitizen     5282 non-null   int64  \n",
      " 2   Partner           5282 non-null   object \n",
      " 3   Dependents        5282 non-null   object \n",
      " 4   tenure            5282 non-null   int64  \n",
      " 5   PhoneService      5282 non-null   object \n",
      " 6   MultipleLines     5282 non-null   object \n",
      " 7   InternetService   5282 non-null   object \n",
      " 8   OnlineSecurity    5282 non-null   object \n",
      " 9   OnlineBackup      5282 non-null   object \n",
      " 10  DeviceProtection  5282 non-null   object \n",
      " 11  TechSupport       5282 non-null   object \n",
      " 12  StreamingTV       5282 non-null   object \n",
      " 13  StreamingMovies   5282 non-null   object \n",
      " 14  Contract          5282 non-null   object \n",
      " 15  PaperlessBilling  5282 non-null   object \n",
      " 16  PaymentMethod     5282 non-null   object \n",
      " 17  MonthlyCharges    5282 non-null   float64\n",
      " 18  TotalCharges      5282 non-null   object \n",
      "dtypes: float64(1), int64(2), object(16)\n",
      "memory usage: 825.3+ KB\n"
     ]
    }
   ],
   "source": [
    "x_train.info()"
   ]
  },
  {
   "cell_type": "code",
   "execution_count": 5,
   "id": "17125afa-fa8a-44b0-9721-c38fc7e6b331",
   "metadata": {},
   "outputs": [
    {
     "name": "stdout",
     "output_type": "stream",
     "text": [
      "gender : ['Female', 'Male'] ::: 2\n",
      "SeniorCitizen : [0, 1] ::: 2\n",
      "Partner : ['No', 'Yes'] ::: 2\n",
      "Dependents : ['No', 'Yes'] ::: 2\n",
      "tenure : [0, 1, 2, 3, 4, 5, 6, 7, 8, 9] ::: 73\n",
      "PhoneService : ['No', 'Yes'] ::: 2\n",
      "MultipleLines : ['No', 'No phone service', 'Yes'] ::: 3\n",
      "InternetService : ['DSL', 'Fiber optic', 'No'] ::: 3\n",
      "OnlineSecurity : ['No', 'No internet service', 'Yes'] ::: 3\n",
      "OnlineBackup : ['No', 'No internet service', 'Yes'] ::: 3\n",
      "DeviceProtection : ['No', 'No internet service', 'Yes'] ::: 3\n",
      "TechSupport : ['No', 'No internet service', 'Yes'] ::: 3\n",
      "StreamingTV : ['No', 'No internet service', 'Yes'] ::: 3\n",
      "StreamingMovies : ['No', 'No internet service', 'Yes'] ::: 3\n",
      "Contract : ['Month-to-month', 'One year', 'Two year'] ::: 3\n",
      "PaperlessBilling : ['No', 'Yes'] ::: 2\n",
      "PaymentMethod : ['Bank transfer (automatic)', 'Credit card (automatic)', 'Electronic check', 'Mailed check'] ::: 4\n",
      "MonthlyCharges : [18.25, 18.4, 18.55, 18.7, 18.75, 18.8, 18.85, 18.9, 18.95, 19.0] ::: 1453\n",
      "TotalCharges : [' ', '100.2', '100.25', '100.35', '100.4', '100.9', '1001.2', '1001.5', '1003.05', '1004.35'] ::: 4966\n"
     ]
    }
   ],
   "source": [
    "for col in x_train.columns:\n",
    "    print(f'{col} : {sorted(x_train[col].unique())[:10]} ::: {len(x_train[col].unique())}')"
   ]
  },
  {
   "cell_type": "code",
   "execution_count": 6,
   "id": "bee0f543-c021-44f7-a4f5-3c65af7ec25c",
   "metadata": {},
   "outputs": [],
   "source": [
    "x_train['TotalCharges'].replace(' ', np.nan, inplace=True)\n",
    "x_test['TotalCharges'].replace(' ', np.nan, inplace=True)\n",
    "\n",
    "x_train['TotalCharges'] = x_train['TotalCharges'].astype(float)\n",
    "x_test['TotalCharges'] = x_test['TotalCharges'].astype(float)"
   ]
  },
  {
   "cell_type": "code",
   "execution_count": 7,
   "id": "57909a00-ee40-4e07-8c1e-5a403c2f601c",
   "metadata": {},
   "outputs": [
    {
     "data": {
      "text/plain": [
       "['gender',\n",
       " 'Partner',\n",
       " 'Dependents',\n",
       " 'PhoneService',\n",
       " 'MultipleLines',\n",
       " 'InternetService',\n",
       " 'OnlineSecurity',\n",
       " 'OnlineBackup',\n",
       " 'DeviceProtection',\n",
       " 'TechSupport',\n",
       " 'StreamingTV',\n",
       " 'StreamingMovies',\n",
       " 'Contract',\n",
       " 'PaperlessBilling',\n",
       " 'PaymentMethod']"
      ]
     },
     "execution_count": 7,
     "metadata": {},
     "output_type": "execute_result"
    }
   ],
   "source": [
    "category_cols = [col for col in x_train.columns if x_train[col].dtypes==object]\n",
    "category_cols"
   ]
  },
  {
   "cell_type": "code",
   "execution_count": 12,
   "id": "077ba360-c07c-4ced-89ec-c0e3e37bed29",
   "metadata": {},
   "outputs": [],
   "source": [
    "def make_suffix(df):\n",
    "    suffix_cols = []\n",
    "    col_names = []\n",
    "    for col in df.columns:\n",
    "        values = sorted(df[col].unique())[1:]\n",
    "        suffix_cols += values\n",
    "        col_names += [col] * len(values)\n",
    "        \n",
    "    return list(pd.Series(col_names)+'_'+pd.Series(suffix_cols))"
   ]
  },
  {
   "cell_type": "code",
   "execution_count": 15,
   "id": "16514f09-a050-467c-990a-95fe43703349",
   "metadata": {},
   "outputs": [],
   "source": [
    "from sklearn.preprocessing import OneHotEncoder as OHE\n",
    "\n",
    "dummy_model = OHE(drop='first', sparse=False).fit(x_train[category_cols])\n",
    "\n",
    "x_train_ohe = pd.DataFrame(dummy_model.transform(x_train[category_cols]), columns=make_suffix(x_train[category_cols]))\n",
    "x_test_ohe = pd.DataFrame(dummy_model.transform(x_test[category_cols]), columns=make_suffix(x_test[category_cols]))\n",
    "\n",
    "x_train_ohe.index = x_train.index\n",
    "x_test_ohe.index = x_test.index\n",
    "\n",
    "x_train = pd.concat([x_train.drop(category_cols, axis=1), x_train_ohe], axis=1)\n",
    "x_test = pd.concat([x_test.drop(category_cols, axis=1), x_test_ohe], axis=1)"
   ]
  },
  {
   "cell_type": "code",
   "execution_count": 16,
   "id": "46f3d989-e8c7-4419-8cfc-11b3437ec782",
   "metadata": {},
   "outputs": [
    {
     "data": {
      "text/html": [
       "<div>\n",
       "<style scoped>\n",
       "    .dataframe tbody tr th:only-of-type {\n",
       "        vertical-align: middle;\n",
       "    }\n",
       "\n",
       "    .dataframe tbody tr th {\n",
       "        vertical-align: top;\n",
       "    }\n",
       "\n",
       "    .dataframe thead th {\n",
       "        text-align: right;\n",
       "    }\n",
       "</style>\n",
       "<table border=\"1\" class=\"dataframe\">\n",
       "  <thead>\n",
       "    <tr style=\"text-align: right;\">\n",
       "      <th></th>\n",
       "      <th>SeniorCitizen</th>\n",
       "      <th>tenure</th>\n",
       "      <th>MonthlyCharges</th>\n",
       "      <th>TotalCharges</th>\n",
       "      <th>gender_Male</th>\n",
       "      <th>...</th>\n",
       "      <th>Contract_Two year</th>\n",
       "      <th>PaperlessBilling_Yes</th>\n",
       "      <th>PaymentMethod_Credit card (automatic)</th>\n",
       "      <th>PaymentMethod_Electronic check</th>\n",
       "      <th>PaymentMethod_Mailed check</th>\n",
       "    </tr>\n",
       "  </thead>\n",
       "  <tbody>\n",
       "    <tr>\n",
       "      <th>1787</th>\n",
       "      <td>1</td>\n",
       "      <td>42</td>\n",
       "      <td>105.20</td>\n",
       "      <td>4599.15</td>\n",
       "      <td>0.0</td>\n",
       "      <td>...</td>\n",
       "      <td>0.0</td>\n",
       "      <td>1.0</td>\n",
       "      <td>0.0</td>\n",
       "      <td>0.0</td>\n",
       "      <td>0.0</td>\n",
       "    </tr>\n",
       "    <tr>\n",
       "      <th>4844</th>\n",
       "      <td>0</td>\n",
       "      <td>37</td>\n",
       "      <td>20.30</td>\n",
       "      <td>755.40</td>\n",
       "      <td>0.0</td>\n",
       "      <td>...</td>\n",
       "      <td>0.0</td>\n",
       "      <td>0.0</td>\n",
       "      <td>0.0</td>\n",
       "      <td>0.0</td>\n",
       "      <td>0.0</td>\n",
       "    </tr>\n",
       "    <tr>\n",
       "      <th>6338</th>\n",
       "      <td>0</td>\n",
       "      <td>1</td>\n",
       "      <td>20.25</td>\n",
       "      <td>20.25</td>\n",
       "      <td>1.0</td>\n",
       "      <td>...</td>\n",
       "      <td>0.0</td>\n",
       "      <td>1.0</td>\n",
       "      <td>0.0</td>\n",
       "      <td>0.0</td>\n",
       "      <td>1.0</td>\n",
       "    </tr>\n",
       "    <tr>\n",
       "      <th>626</th>\n",
       "      <td>0</td>\n",
       "      <td>23</td>\n",
       "      <td>84.25</td>\n",
       "      <td>1968.10</td>\n",
       "      <td>1.0</td>\n",
       "      <td>...</td>\n",
       "      <td>0.0</td>\n",
       "      <td>0.0</td>\n",
       "      <td>0.0</td>\n",
       "      <td>1.0</td>\n",
       "      <td>0.0</td>\n",
       "    </tr>\n",
       "    <tr>\n",
       "      <th>71</th>\n",
       "      <td>0</td>\n",
       "      <td>52</td>\n",
       "      <td>20.40</td>\n",
       "      <td>1090.65</td>\n",
       "      <td>0.0</td>\n",
       "      <td>...</td>\n",
       "      <td>0.0</td>\n",
       "      <td>1.0</td>\n",
       "      <td>0.0</td>\n",
       "      <td>1.0</td>\n",
       "      <td>0.0</td>\n",
       "    </tr>\n",
       "  </tbody>\n",
       "</table>\n",
       "<p>5 rows × 30 columns</p>\n",
       "</div>"
      ],
      "text/plain": [
       "      SeniorCitizen  tenure  MonthlyCharges  TotalCharges  gender_Male  ...  \\\n",
       "1787              1      42          105.20       4599.15          0.0  ...   \n",
       "4844              0      37           20.30        755.40          0.0  ...   \n",
       "6338              0       1           20.25         20.25          1.0  ...   \n",
       "626               0      23           84.25       1968.10          1.0  ...   \n",
       "71                0      52           20.40       1090.65          0.0  ...   \n",
       "\n",
       "      Contract_Two year  PaperlessBilling_Yes  \\\n",
       "1787                0.0                   1.0   \n",
       "4844                0.0                   0.0   \n",
       "6338                0.0                   1.0   \n",
       "626                 0.0                   0.0   \n",
       "71                  0.0                   1.0   \n",
       "\n",
       "      PaymentMethod_Credit card (automatic)  PaymentMethod_Electronic check  \\\n",
       "1787                                    0.0                             0.0   \n",
       "4844                                    0.0                             0.0   \n",
       "6338                                    0.0                             0.0   \n",
       "626                                     0.0                             1.0   \n",
       "71                                      0.0                             1.0   \n",
       "\n",
       "      PaymentMethod_Mailed check  \n",
       "1787                         0.0  \n",
       "4844                         0.0  \n",
       "6338                         1.0  \n",
       "626                          0.0  \n",
       "71                           0.0  \n",
       "\n",
       "[5 rows x 30 columns]"
      ]
     },
     "execution_count": 16,
     "metadata": {},
     "output_type": "execute_result"
    }
   ],
   "source": [
    "x_train.head()"
   ]
  },
  {
   "cell_type": "code",
   "execution_count": 20,
   "id": "bd2c9f7d-c083-4c00-934f-ac8c136ac7cb",
   "metadata": {},
   "outputs": [
    {
     "data": {
      "text/plain": [
       "SeniorCitizen                            0\n",
       "tenure                                   0\n",
       "MonthlyCharges                           0\n",
       "TotalCharges                             0\n",
       "gender_Male                              0\n",
       "Partner_Yes                              0\n",
       "Dependents_Yes                           0\n",
       "PhoneService_Yes                         0\n",
       "MultipleLines_No phone service           0\n",
       "MultipleLines_Yes                        0\n",
       "InternetService_Fiber optic              0\n",
       "InternetService_No                       0\n",
       "OnlineSecurity_No internet service       0\n",
       "OnlineSecurity_Yes                       0\n",
       "OnlineBackup_No internet service         0\n",
       "OnlineBackup_Yes                         0\n",
       "DeviceProtection_No internet service     0\n",
       "DeviceProtection_Yes                     0\n",
       "TechSupport_No internet service          0\n",
       "TechSupport_Yes                          0\n",
       "StreamingTV_No internet service          0\n",
       "StreamingTV_Yes                          0\n",
       "StreamingMovies_No internet service      0\n",
       "StreamingMovies_Yes                      0\n",
       "Contract_One year                        0\n",
       "Contract_Two year                        0\n",
       "PaperlessBilling_Yes                     0\n",
       "PaymentMethod_Credit card (automatic)    0\n",
       "PaymentMethod_Electronic check           0\n",
       "PaymentMethod_Mailed check               0\n",
       "dtype: int64"
      ]
     },
     "execution_count": 20,
     "metadata": {},
     "output_type": "execute_result"
    }
   ],
   "source": [
    "from sklearn.impute import KNNImputer\n",
    "\n",
    "KI = KNNImputer(n_neighbors=5)\n",
    "KI.fit(x_train)\n",
    "\n",
    "x_train = pd.DataFrame(KI.transform(x_train), columns=x_train.columns)\n",
    "x_test = pd.DataFrame(KI.transform(x_test), columns=x_test.columns)\n",
    "x_train.isna().sum()"
   ]
  },
  {
   "cell_type": "code",
   "execution_count": 21,
   "id": "051430c6-d1b4-4889-b5aa-8eb86d982bfb",
   "metadata": {},
   "outputs": [
    {
     "data": {
      "text/plain": [
       "['tenure', 'MonthlyCharges', 'TotalCharges']"
      ]
     },
     "execution_count": 21,
     "metadata": {},
     "output_type": "execute_result"
    }
   ],
   "source": [
    "cont_cols = [col for col in x_train.columns if len(x_train[col].unique()) > 3]\n",
    "cate_cols = [col for col in x_train.columns if len(x_train[col].unique()) <= 3]\n",
    "\n",
    "cont_cols"
   ]
  },
  {
   "cell_type": "code",
   "execution_count": 23,
   "id": "d7513f79-14b7-4e1d-9728-a2d5733f91bb",
   "metadata": {},
   "outputs": [
    {
     "name": "stdout",
     "output_type": "stream",
     "text": [
      "tenure            0\n",
      "MonthlyCharges    0\n",
      "TotalCharges      0\n",
      "dtype: int64\n"
     ]
    }
   ],
   "source": [
    "def IQR_Rule(arr):\n",
    "    q1 = np.quantile(arr, 0.25)\n",
    "    q3 = np.quantile(arr, 0.75)\n",
    "    IQR = q3-q1\n",
    "    \n",
    "    not_outliers_cond = (q1-1.5*IQR < arr)&(q3+1.5*IQR > arr)\n",
    "    return not_outliers_cond\n",
    "\n",
    "num_outliers = len(x_train) - x_train[cont_cols].apply(IQR_Rule).sum(axis=0)\n",
    "print(num_outliers)"
   ]
  },
  {
   "cell_type": "code",
   "execution_count": 25,
   "id": "26389e2a-73f4-4b14-b374-4f4705571ea7",
   "metadata": {},
   "outputs": [
    {
     "data": {
      "text/plain": [
       "No     3870\n",
       "Yes    1412\n",
       "Name: Churn, dtype: int64"
      ]
     },
     "execution_count": 25,
     "metadata": {},
     "output_type": "execute_result"
    }
   ],
   "source": [
    "y_train.value_counts()"
   ]
  },
  {
   "cell_type": "code",
   "execution_count": 26,
   "id": "be5577a6-89d8-43a5-b746-78cf0abf9b7f",
   "metadata": {},
   "outputs": [],
   "source": [
    "y_train.replace({'No':-1,'Yes':1}, inplace=True)\n",
    "y_test.replace({'No':-1,'Yes':1}, inplace=True)"
   ]
  },
  {
   "cell_type": "code",
   "execution_count": 27,
   "id": "5e7dd271-0382-4798-961b-2521a49463a6",
   "metadata": {},
   "outputs": [
    {
     "name": "stdout",
     "output_type": "stream",
     "text": [
      "0.750709823963657\n"
     ]
    }
   ],
   "source": [
    "from sklearn.neighbors import KNeighborsClassifier as KNN\n",
    "from sklearn.metrics import accuracy_score\n",
    "\n",
    "kNN_model = KNN(n_neighbors=5).fit(x_train, y_train)\n",
    "y_pred = kNN_model.predict(x_test)\n",
    "print(accuracy_score(y_test, y_pred))"
   ]
  },
  {
   "cell_type": "code",
   "execution_count": 28,
   "id": "c07e7808-96de-4fca-90ba-8e48b09c3777",
   "metadata": {},
   "outputs": [
    {
     "data": {
      "text/plain": [
       "{'SeniorCitizen': 1.164566118935981,\n",
       " 'tenure': 7.5599350636664795,\n",
       " 'MonthlyCharges': 880.311339051679,\n",
       " 'TotalCharges': 10.692655159482971,\n",
       " 'gender_Male': 1.002966246454167,\n",
       " 'Partner_Yes': 1.4760590945986285,\n",
       " 'Dependents_Yes': 1.404942289914632,\n",
       " 'PhoneService_Yes': inf,\n",
       " 'MultipleLines_No phone service': inf,\n",
       " 'MultipleLines_Yes': 7.3673335853229185,\n",
       " 'InternetService_Fiber optic': 150.66773780896852,\n",
       " 'InternetService_No': inf,\n",
       " 'OnlineSecurity_No internet service': inf,\n",
       " 'OnlineSecurity_Yes': 6.460336851392473,\n",
       " 'OnlineBackup_No internet service': inf,\n",
       " 'OnlineBackup_Yes': 6.84876935883724,\n",
       " 'DeviceProtection_No internet service': inf,\n",
       " 'DeviceProtection_Yes': 7.031297884916123,\n",
       " 'TechSupport_No internet service': inf,\n",
       " 'TechSupport_Yes': 6.573717719718945,\n",
       " 'StreamingTV_No internet service': inf,\n",
       " 'StreamingTV_Yes': 24.569954930080414,\n",
       " 'StreamingMovies_No internet service': inf,\n",
       " 'StreamingMovies_Yes': 24.495991342926164,\n",
       " 'Contract_One year': 1.6388192354367488,\n",
       " 'Contract_Two year': 2.628218932911881,\n",
       " 'PaperlessBilling_Yes': 1.2108013579299544,\n",
       " 'PaymentMethod_Credit card (automatic)': 1.5746993206163689,\n",
       " 'PaymentMethod_Electronic check': 1.9945990799196247,\n",
       " 'PaymentMethod_Mailed check': 1.8940937656011927}"
      ]
     },
     "execution_count": 28,
     "metadata": {},
     "output_type": "execute_result"
    }
   ],
   "source": [
    "from sklearn.linear_model import LinearRegression as LR\n",
    "\n",
    "VIF_dict = dict()\n",
    "\n",
    "for col in x_train.columns:\n",
    "    model = LR().fit(x_train.drop([col],axis=1), x_train[col])\n",
    "    r2 = model.score(x_train.drop([col],axis=1), x_train[col])\n",
    "    VIF = 1/(1-r2)\n",
    "    VIF_dict[col] = VIF\n",
    "    \n",
    "VIF_dict"
   ]
  },
  {
   "cell_type": "code",
   "execution_count": 29,
   "id": "b1defaf3-ff09-4739-9f5f-c09a22dee8ed",
   "metadata": {},
   "outputs": [
    {
     "data": {
      "text/plain": [
       "['MonthlyCharges',\n",
       " 'PhoneService_Yes',\n",
       " 'MultipleLines_No phone service',\n",
       " 'InternetService_Fiber optic',\n",
       " 'InternetService_No',\n",
       " 'OnlineSecurity_No internet service',\n",
       " 'OnlineBackup_No internet service',\n",
       " 'DeviceProtection_No internet service',\n",
       " 'TechSupport_No internet service',\n",
       " 'StreamingTV_No internet service',\n",
       " 'StreamingMovies_No internet service']"
      ]
     },
     "execution_count": 29,
     "metadata": {},
     "output_type": "execute_result"
    }
   ],
   "source": [
    "remove_cols = [key for key in VIF_dict.keys() if VIF_dict[key] > 30]\n",
    "remove_cols"
   ]
  },
  {
   "cell_type": "code",
   "execution_count": 30,
   "id": "f647764b-e477-4915-ab90-9dc8c9906104",
   "metadata": {},
   "outputs": [],
   "source": [
    "x_train.drop(remove_cols, axis=1, inplace=True)\n",
    "x_test.drop(remove_cols, axis=1, inplace=True)\n",
    "\n",
    "cont_cols = list(set(cont_cols)-set(remove_cols))\n",
    "cate_cols = list(set(cate_cols)-set(remove_cols))"
   ]
  },
  {
   "cell_type": "code",
   "execution_count": 32,
   "id": "b796dc3c-5763-4f10-b672-4e25515c28de",
   "metadata": {},
   "outputs": [
    {
     "data": {
      "text/plain": [
       "TotalCharges    0.964029\n",
       "tenure          0.238264\n",
       "dtype: float64"
      ]
     },
     "execution_count": 32,
     "metadata": {},
     "output_type": "execute_result"
    }
   ],
   "source": [
    "skew_score = x_train[cont_cols].skew()\n",
    "skew_score"
   ]
  },
  {
   "cell_type": "code",
   "execution_count": 35,
   "id": "03ab3a1f-09ec-4b39-bb71-d7430af3f91f",
   "metadata": {},
   "outputs": [],
   "source": [
    "biased_cols = x_train[cont_cols].columns[skew_score.abs() > 1.5]\n",
    "x_train[biased_cols] = np.log10(x_train[biased_cols] - x_train[biased_cols].min()+1)"
   ]
  },
  {
   "cell_type": "code",
   "execution_count": 36,
   "id": "939e0e34-ffa9-40c3-a70f-817f020caea4",
   "metadata": {},
   "outputs": [
    {
     "data": {
      "text/html": [
       "<div>\n",
       "<style scoped>\n",
       "    .dataframe tbody tr th:only-of-type {\n",
       "        vertical-align: middle;\n",
       "    }\n",
       "\n",
       "    .dataframe tbody tr th {\n",
       "        vertical-align: top;\n",
       "    }\n",
       "\n",
       "    .dataframe thead th {\n",
       "        text-align: right;\n",
       "    }\n",
       "</style>\n",
       "<table border=\"1\" class=\"dataframe\">\n",
       "  <thead>\n",
       "    <tr style=\"text-align: right;\">\n",
       "      <th></th>\n",
       "      <th>SeniorCitizen</th>\n",
       "      <th>tenure</th>\n",
       "      <th>TotalCharges</th>\n",
       "      <th>gender_Male</th>\n",
       "      <th>Partner_Yes</th>\n",
       "      <th>...</th>\n",
       "      <th>Contract_Two year</th>\n",
       "      <th>PaperlessBilling_Yes</th>\n",
       "      <th>PaymentMethod_Credit card (automatic)</th>\n",
       "      <th>PaymentMethod_Electronic check</th>\n",
       "      <th>PaymentMethod_Mailed check</th>\n",
       "    </tr>\n",
       "  </thead>\n",
       "  <tbody>\n",
       "    <tr>\n",
       "      <th>0</th>\n",
       "      <td>1.0</td>\n",
       "      <td>0.583333</td>\n",
       "      <td>0.529297</td>\n",
       "      <td>0.0</td>\n",
       "      <td>1.0</td>\n",
       "      <td>...</td>\n",
       "      <td>0.0</td>\n",
       "      <td>1.0</td>\n",
       "      <td>0.0</td>\n",
       "      <td>0.0</td>\n",
       "      <td>0.0</td>\n",
       "    </tr>\n",
       "    <tr>\n",
       "      <th>1</th>\n",
       "      <td>0.0</td>\n",
       "      <td>0.513889</td>\n",
       "      <td>0.085120</td>\n",
       "      <td>0.0</td>\n",
       "      <td>0.0</td>\n",
       "      <td>...</td>\n",
       "      <td>0.0</td>\n",
       "      <td>0.0</td>\n",
       "      <td>0.0</td>\n",
       "      <td>0.0</td>\n",
       "      <td>0.0</td>\n",
       "    </tr>\n",
       "    <tr>\n",
       "      <th>2</th>\n",
       "      <td>0.0</td>\n",
       "      <td>0.013889</td>\n",
       "      <td>0.000168</td>\n",
       "      <td>1.0</td>\n",
       "      <td>0.0</td>\n",
       "      <td>...</td>\n",
       "      <td>0.0</td>\n",
       "      <td>1.0</td>\n",
       "      <td>0.0</td>\n",
       "      <td>0.0</td>\n",
       "      <td>1.0</td>\n",
       "    </tr>\n",
       "    <tr>\n",
       "      <th>3</th>\n",
       "      <td>0.0</td>\n",
       "      <td>0.319444</td>\n",
       "      <td>0.225258</td>\n",
       "      <td>1.0</td>\n",
       "      <td>1.0</td>\n",
       "      <td>...</td>\n",
       "      <td>0.0</td>\n",
       "      <td>0.0</td>\n",
       "      <td>0.0</td>\n",
       "      <td>1.0</td>\n",
       "      <td>0.0</td>\n",
       "    </tr>\n",
       "    <tr>\n",
       "      <th>4</th>\n",
       "      <td>0.0</td>\n",
       "      <td>0.722222</td>\n",
       "      <td>0.123861</td>\n",
       "      <td>0.0</td>\n",
       "      <td>1.0</td>\n",
       "      <td>...</td>\n",
       "      <td>0.0</td>\n",
       "      <td>1.0</td>\n",
       "      <td>0.0</td>\n",
       "      <td>1.0</td>\n",
       "      <td>0.0</td>\n",
       "    </tr>\n",
       "  </tbody>\n",
       "</table>\n",
       "<p>5 rows × 19 columns</p>\n",
       "</div>"
      ],
      "text/plain": [
       "   SeniorCitizen    tenure  TotalCharges  gender_Male  Partner_Yes  ...  \\\n",
       "0            1.0  0.583333      0.529297          0.0          1.0  ...   \n",
       "1            0.0  0.513889      0.085120          0.0          0.0  ...   \n",
       "2            0.0  0.013889      0.000168          1.0          0.0  ...   \n",
       "3            0.0  0.319444      0.225258          1.0          1.0  ...   \n",
       "4            0.0  0.722222      0.123861          0.0          1.0  ...   \n",
       "\n",
       "   Contract_Two year  PaperlessBilling_Yes  \\\n",
       "0                0.0                   1.0   \n",
       "1                0.0                   0.0   \n",
       "2                0.0                   1.0   \n",
       "3                0.0                   0.0   \n",
       "4                0.0                   1.0   \n",
       "\n",
       "   PaymentMethod_Credit card (automatic)  PaymentMethod_Electronic check  \\\n",
       "0                                    0.0                             0.0   \n",
       "1                                    0.0                             0.0   \n",
       "2                                    0.0                             0.0   \n",
       "3                                    0.0                             1.0   \n",
       "4                                    0.0                             1.0   \n",
       "\n",
       "   PaymentMethod_Mailed check  \n",
       "0                         0.0  \n",
       "1                         0.0  \n",
       "2                         1.0  \n",
       "3                         0.0  \n",
       "4                         0.0  \n",
       "\n",
       "[5 rows x 19 columns]"
      ]
     },
     "execution_count": 36,
     "metadata": {},
     "output_type": "execute_result"
    }
   ],
   "source": [
    "from sklearn.preprocessing import MinMaxScaler\n",
    "\n",
    "MMS = MinMaxScaler().fit(x_train)\n",
    "s_x_train = pd.DataFrame(MMS.transform(x_train), columns = x_train.columns)\n",
    "s_x_test = pd.DataFrame(MMS.transform(x_test), columns = x_test.columns)\n",
    "\n",
    "s_x_train.head()"
   ]
  },
  {
   "cell_type": "code",
   "execution_count": 37,
   "id": "f6a3a7e1-8816-4d83-a026-3d3b4a5c17d5",
   "metadata": {},
   "outputs": [],
   "source": [
    "from sklearn.ensemble import RandomForestClassifier as RFC\n",
    "from sklearn.tree import DecisionTreeClassifier as DTC\n",
    "from sklearn.linear_model import LogisticRegression as LGR\n",
    "\n",
    "from sklearn.model_selection import ParameterGrid as PG\n",
    "from sklearn.metrics import f1_score, classification_report\n",
    "from sklearn.feature_selection import f_classif, chi2\n",
    "\n",
    "MPG = dict() # model parameter grid\n",
    "\n",
    "MPG[RFC] = PG({'max_depth':[2,3,4,5,6],\n",
    "               'n_estimators':[5, 10, 25, 50, 75, 100]})\n",
    "MPG[DTC] = PG({'max_depth':[2,3,4,5,6],\n",
    "               'min_samples_leaf':[1,2,3,4,5,6]})\n",
    "MPG[LGR] = PG({'C':[0.0001, 0.005, 0.001, 0.005, 0.01, 0.5, 0.1],\n",
    "               'max_iter':[10,100,1000,10000,100000]})\n",
    "MPG[KNN] = PG({'n_neighbors':[3,5,7,9,11]})"
   ]
  },
  {
   "cell_type": "code",
   "execution_count": 38,
   "id": "7c118ec2-43d9-4315-aaf1-1575b1c4d34a",
   "metadata": {},
   "outputs": [
    {
     "data": {
      "text/plain": [
       "tenure                                   2.818166e-161\n",
       "Contract_Two year                         1.919828e-82\n",
       "PaymentMethod_Electronic check            2.377284e-74\n",
       "TotalCharges                              1.189847e-51\n",
       "Contract_One year                         1.617775e-29\n",
       "SeniorCitizen                             1.504183e-27\n",
       "TechSupport_Yes                           7.678418e-26\n",
       "OnlineSecurity_Yes                        7.232845e-25\n",
       "Dependents_Yes                            5.591139e-24\n",
       "PaymentMethod_Credit card (automatic)     2.291404e-19\n",
       "PaperlessBilling_Yes                      5.361269e-18\n",
       "Partner_Yes                               1.835174e-16\n",
       "PaymentMethod_Mailed check                2.584568e-09\n",
       "OnlineBackup_Yes                          5.550739e-08\n",
       "DeviceProtection_Yes                      5.066801e-05\n",
       "StreamingTV_Yes                           2.043694e-04\n",
       "StreamingMovies_Yes                       1.127826e-03\n",
       "MultipleLines_Yes                         7.550717e-02\n",
       "gender_Male                               4.346939e-01\n",
       "dtype: float64"
      ]
     },
     "execution_count": 38,
     "metadata": {},
     "output_type": "execute_result"
    }
   ],
   "source": [
    "cont_cols_pval = f_classif(s_x_train[cont_cols],y_train)[1]\n",
    "cate_cols_pval = chi2(s_x_train[cate_cols],y_train)[1]\n",
    "\n",
    "cont_pvals = pd.Series(cont_cols_pval, index=cont_cols)\n",
    "cate_pvals = pd.Series(cate_cols_pval, index=cate_cols)\n",
    "\n",
    "pvals = pd.concat([cont_pvals, cate_pvals])\n",
    "pvals.sort_values(ascending=True ,inplace=True)\n",
    "\n",
    "pvals"
   ]
  },
  {
   "cell_type": "code",
   "execution_count": 40,
   "id": "431c25d8-9689-42c8-b8d0-367062a34b61",
   "metadata": {
    "scrolled": true,
    "tags": []
   },
   "outputs": [
    {
     "name": "stdout",
     "output_type": "stream",
     "text": [
      "19\n",
      "18\n",
      "17\n",
      "16\n",
      "15\n",
      "14\n",
      "13\n",
      "12\n",
      "11\n",
      "10\n",
      "9\n",
      "8\n",
      "7\n",
      "6\n"
     ]
    }
   ],
   "source": [
    "best_score = 0\n",
    "for k in range(len(s_x_train.columns),5,-1):\n",
    "    print(k)\n",
    "    ss_x_train = s_x_train[pvals.iloc[:k].index]\n",
    "    ss_x_test = s_x_test[pvals.iloc[:k].index]\n",
    "    for M in MPG.keys():\n",
    "        for P in MPG[M]:\n",
    "            model = M(**P).fit(ss_x_train, y_train)\n",
    "            y_pred = model.predict(ss_x_test)\n",
    "            score = f1_score(y_test, y_pred, average='weighted')\n",
    "            \n",
    "            if score > best_score:\n",
    "                best_score = score.mean()\n",
    "                best_model = M\n",
    "                best_params = P\n",
    "                best_feature = ss_x_train.columns\n",
    "                report = classification_report(y_test, y_pred)"
   ]
  },
  {
   "cell_type": "code",
   "execution_count": 41,
   "id": "b50ffa3e-b6e0-4cd7-9a9a-c910021fb234",
   "metadata": {},
   "outputs": [
    {
     "name": "stdout",
     "output_type": "stream",
     "text": [
      "best_score : 0.7885295940218972\n",
      "best_model : <class 'sklearn.linear_model._logistic.LogisticRegression'>\n",
      "best_params : {'C': 0.5, 'max_iter': 100}\n",
      "best_features : Index(['tenure', 'Contract_Two year', 'PaymentMethod_Electronic check',\n",
      "       'TotalCharges', 'Contract_One year', 'SeniorCitizen', 'TechSupport_Yes',\n",
      "       'OnlineSecurity_Yes', 'Dependents_Yes',\n",
      "       'PaymentMethod_Credit card (automatic)', 'PaperlessBilling_Yes',\n",
      "       'Partner_Yes', 'PaymentMethod_Mailed check', 'OnlineBackup_Yes',\n",
      "       'DeviceProtection_Yes', 'StreamingTV_Yes', 'StreamingMovies_Yes',\n",
      "       'MultipleLines_Yes', 'gender_Male'],\n",
      "      dtype='object')\n",
      "==================================================\n",
      "              precision    recall  f1-score   support\n",
      "\n",
      "          -1       0.84      0.90      0.87      1304\n",
      "           1       0.64      0.49      0.56       457\n",
      "\n",
      "    accuracy                           0.80      1761\n",
      "   macro avg       0.74      0.70      0.71      1761\n",
      "weighted avg       0.79      0.80      0.79      1761\n",
      "\n"
     ]
    }
   ],
   "source": [
    "print(f'best_score : {best_score}')\n",
    "print(f'best_model : {best_model}')\n",
    "print(f'best_params : {best_params}')\n",
    "print(f'best_features : {best_feature}')\n",
    "print('='*50)\n",
    "print(report)"
   ]
  }
 ],
 "metadata": {
  "kernelspec": {
   "display_name": "Python 3.8.8 ('main')",
   "language": "python",
   "name": "python3"
  },
  "language_info": {
   "codemirror_mode": {
    "name": "ipython",
    "version": 3
   },
   "file_extension": ".py",
   "mimetype": "text/x-python",
   "name": "python",
   "nbconvert_exporter": "python",
   "pygments_lexer": "ipython3",
   "version": "3.8.8"
  },
  "vscode": {
   "interpreter": {
    "hash": "5418eef80854e52bdd31b62ac8e168a96471c21ff09caab6ca68827813545a18"
   }
  }
 },
 "nbformat": 4,
 "nbformat_minor": 5
}
