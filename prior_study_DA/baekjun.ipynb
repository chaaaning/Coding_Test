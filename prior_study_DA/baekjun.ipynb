{
 "cells": [
  {
   "cell_type": "code",
   "execution_count": 13,
   "metadata": {},
   "outputs": [
    {
     "data": {
      "text/plain": [
       "-1"
      ]
     },
     "execution_count": 13,
     "metadata": {},
     "output_type": "execute_result"
    }
   ],
   "source": [
    "# 백준 기본수학1 - 1. 손익분기점\n",
    "a, b, c = map(int, input().split(' '))\n",
    "\n",
    "if b>=c: point=-1\n",
    "else: point = a//(c-b)+1\n",
    "    \n",
    "print(point)\n",
    "\"\"\"\n",
    "해당문제는 반복문보다 수식을 사용하는 것을 테스트하는 문제\n",
    "포인트 1. 수식으로 문제를 해결해야 함\n",
    "포인트 2. b=c의 경우를 고려하지 않음\n",
    "포인트 3. map 함수를 이용한 간단한 입력\n",
    "\n",
    "\"\"\""
   ]
  },
  {
   "cell_type": "code",
   "execution_count": 10,
   "metadata": {},
   "outputs": [
    {
     "name": "stdout",
     "output_type": "stream",
     "text": [
      "1\n",
      "1\n"
     ]
    }
   ],
   "source": [
    "# 백준 기본수학1 - 2. 벌집\n",
    "a = int(input())\n",
    "count=1\n",
    "x = 1\n",
    "while True:\n",
    "    if a==1: break\n",
    "    elif a-1<=6*x:\n",
    "        count+=1\n",
    "        break\n",
    "    else:\n",
    "        count += 1\n",
    "        x += count\n",
    "\n",
    "print(count)\n",
    "\n",
    "\"\"\"\n",
    "1인 경우를 생각\n",
    "반복문보다 빨리 푸는 경우 찾아보기\n",
    "\n",
    "\"\"\""
   ]
  },
  {
   "cell_type": "code",
   "execution_count": 94,
   "metadata": {},
   "outputs": [
    {
     "name": "stdout",
     "output_type": "stream",
     "text": [
      "3\n",
      "2/1\n"
     ]
    },
    {
     "data": {
      "text/plain": [
       "'\\n조건식 오류\\n분수사이에 띄어쓰기 들어가지 않는 것\\n\\n'"
      ]
     },
     "execution_count": 94,
     "metadata": {},
     "output_type": "execute_result"
    }
   ],
   "source": [
    "# 백준 기본수학1 - 3. 분수 찾기\n",
    "x = int(input())\n",
    "count = 1\n",
    "pre_cnt = 0\n",
    "while True:\n",
    "    if x==1: break\n",
    "    elif x <= pre_cnt+count:\n",
    "        break\n",
    "    else:\n",
    "        pre_cnt+=count\n",
    "        count+=1\n",
    "\n",
    "diff = x-(pre_cnt+1)\n",
    "if x==1: print(\"1/1\")\n",
    "elif count%2 == 0:\n",
    "    son, mom = 1, count\n",
    "    print(str(son+diff)+\"/\"+str(mom-diff))\n",
    "else:\n",
    "    son, mom = count, 1\n",
    "    print(str(son-diff)+\"/\"+str(mom+diff))\n",
    "    \n",
    "\"\"\"\n",
    "조건식 오류\n",
    "분수사이에 띄어쓰기 들어가지 않는 것\n",
    "\n",
    "\"\"\""
   ]
  },
  {
   "cell_type": "code",
   "execution_count": 109,
   "metadata": {},
   "outputs": [
    {
     "name": "stdout",
     "output_type": "stream",
     "text": [
      "4 2 7\n",
      "3\n"
     ]
    }
   ],
   "source": [
    "# 백준 기본수학1 - 4. 달팽이는 올라가고 싶다\n",
    "import math\n",
    "\n",
    "x, y, z = map(int, input().split(' '))\n",
    "\n",
    "if x >= z: print(1)\n",
    "else:\n",
    "    print(math.ceil((z-x)/(x-y))+1)\n",
    "    \n",
    "\"\"\"\n",
    "규칙은 빨리 찾았으나, 반올림 숫자 처리 미숙\n",
    "\n",
    "\"\"\""
   ]
  },
  {
   "cell_type": "code",
   "execution_count": 39,
   "metadata": {},
   "outputs": [
    {
     "name": "stdout",
     "output_type": "stream",
     "text": [
      "1\n",
      "1 2 2\n",
      "102\n"
     ]
    }
   ],
   "source": [
    "# 백준 기본수학1 - 5. ACM Hotel\n",
    "iteration = int(input())\n",
    "htls=[]\n",
    "\n",
    "for i in range(0, iteration):\n",
    "    a=list(map(int, input().split(' ')))\n",
    "    htls.append(a)\n",
    "\n",
    "for htl in htls:\n",
    "    w=htl[2]//htl[0]+1\n",
    "    h=htl[2]%htl[0]\n",
    "    \n",
    "    if h==0:\n",
    "        w = w-1\n",
    "        h = htl[0]\n",
    "    \n",
    "    if len(str(w)) < 2:\n",
    "        print((str(h))+'0'+str(w))\n",
    "        \n",
    "    else: print(str(h)+str(w))\n",
    "        \n",
    "\"\"\"\n",
    "1. 중간 0 기입 조건 오류\n",
    "2. 나누어 떨어지는 경우 고려 X\n",
    "\n",
    "\"\"\""
   ]
  },
  {
   "cell_type": "code",
   "execution_count": 63,
   "metadata": {},
   "outputs": [
    {
     "name": "stdout",
     "output_type": "stream",
     "text": [
      "1\n",
      "14\n",
      "14\n",
      "37442160\n"
     ]
    }
   ],
   "source": [
    "# 백준 기본수학1 - 6. 부녀회장이 될테야\n",
    "# 메모제이션, 이미 호출한 녀석들을 저장해두고 불러오기만 함\n",
    "cache = [[0]*15 for i in range(15)]\n",
    "\n",
    "def find_bu(i,j):\n",
    "    if i==0: return j;\n",
    "    if j==1: return 1;\n",
    "    if j==2: return i+2;\n",
    "    \n",
    "    if cache[i][j]!=0: return cache[i][j]; # 중간에 리턴으로 끊기\n",
    "    \n",
    "    cache[i][j] = find_bu(i, j-1)+find_bu(i-1, j)\n",
    "    return cache[i][j]\n",
    "\n",
    "itern = int(input())\n",
    "cases = []\n",
    "\n",
    "for i in range(0,itern):\n",
    "    c = int(input())\n",
    "    s = int(input())\n",
    "    cases.append([c,s])\n",
    "    \n",
    "for a in cases:\n",
    "    print(find_bu(a[0], a[1]))"
   ]
  },
  {
   "cell_type": "code",
   "execution_count": 10,
   "metadata": {},
   "outputs": [
    {
     "name": "stdout",
     "output_type": "stream",
     "text": [
      "42\n",
      "10\n"
     ]
    }
   ],
   "source": [
    "# 백준 기본수학1 - 7. 설탕 배달\n",
    "\n",
    "n = int(input())\n",
    "\n",
    "five_num = n//5\n",
    "og_rest = n%5\n",
    "three_num = 0\n",
    "\n",
    "while True:\n",
    "    if og_rest==0: break\n",
    "    else:\n",
    "        if (n-five_num*5)%3==0:\n",
    "            three_num = (n-five_num*5)//3\n",
    "            break\n",
    "        elif five_num==0 and three_num==0: break\n",
    "        five_num -= 1\n",
    "        \n",
    "if five_num==0 and three_num==0: print(-1)\n",
    "else: print(five_num+three_num)"
   ]
  },
  {
   "cell_type": "code",
   "execution_count": 1,
   "metadata": {},
   "outputs": [
    {
     "name": "stdout",
     "output_type": "stream",
     "text": [
      "9223372036854775807 9223372036854775808\n",
      "18446744073709551615\n"
     ]
    }
   ],
   "source": [
    "# 백준 기본수학1 - 8. 큰 수\n",
    "\n",
    "a, b = map(int, input().split(' '))\n",
    "print(a+b)"
   ]
  },
  {
   "cell_type": "code",
   "execution_count": null,
   "metadata": {},
   "outputs": [],
   "source": [
    "# 백준 기본수학1 - 9. fly to the alpha centauri"
   ]
  },
  {
   "cell_type": "code",
   "execution_count": 45,
   "metadata": {},
   "outputs": [
    {
     "name": "stdout",
     "output_type": "stream",
     "text": [
      "3\n",
      "1 2 5\n",
      "2\n",
      "5\n",
      "2\n"
     ]
    }
   ],
   "source": [
    "# 백준 기본수학2 - 1. 소수 찾기\n",
    "ans = 0\n",
    "itern = int(input())\n",
    "num_list = list(map(int, input().split(' ')))\n",
    "if len(num_list) > itern: num_list = num_list[0:itern]\n",
    "\n",
    "for num in num_list:\n",
    "    if num==2:\n",
    "        ans+=1\n",
    "    for i in range(2, num):\n",
    "        if num%i == 0:\n",
    "            break\n",
    "        if i+1 == num:\n",
    "            ans+=1\n",
    "print(ans)"
   ]
  },
  {
   "cell_type": "code",
   "execution_count": 42,
   "metadata": {
    "scrolled": false
   },
   "outputs": [
    {
     "name": "stdout",
     "output_type": "stream",
     "text": [
      "1\n",
      "10000\n",
      "5736396\n",
      "2\n"
     ]
    }
   ],
   "source": [
    "# 백준 기본수학2 - 2. 소수\n",
    "import math\n",
    "\n",
    "m = int(input())\n",
    "n = int(input())\n",
    "ans = []\n",
    "for i in range(m, n+1):\n",
    "    i_sqrt = int(math.sqrt(i))\n",
    "    if i==2:\n",
    "        ans.append(2)\n",
    "    if math.sqrt(i)-i_sqrt==0:\n",
    "        continue\n",
    "    for j in range(2, i):\n",
    "        j_sqrt = int(math.sqrt(j))\n",
    "\n",
    "        if math.sqrt(i)-j_sqrt==0:\n",
    "            continue\n",
    "        if i%j==0:\n",
    "            break\n",
    "        if j+1 == i:\n",
    "            ans.append(i)\n",
    "            \n",
    "if len(ans)==0: print(-1)\n",
    "else:\n",
    "    print(sum(ans))\n",
    "    print(ans[0])\n",
    "#print(ans)"
   ]
  },
  {
   "cell_type": "code",
   "execution_count": 40,
   "metadata": {},
   "outputs": [
    {
     "name": "stdout",
     "output_type": "stream",
     "text": [
      "1\n",
      "10000\n",
      "5736396\n",
      "2\n"
     ]
    }
   ],
   "source": [
    "# 백준 기본수학2 - 2. 소수 // 내가 생각한 풀이\n",
    "import math\n",
    "\n",
    "m = int(input())\n",
    "n = int(input())\n",
    "ans = []\n",
    "\n",
    "for i in range(m, n+1):\n",
    "    i_sqrt = int(math.sqrt(i))\n",
    "    \n",
    "    if math.sqrt(i)-i_sqrt==0:\n",
    "        continue\n",
    "        \n",
    "    for j in range(2, i+1):\n",
    "        j_sqrt = int(math.sqrt(j))\n",
    "        if math.sqrt(j)-j_sqrt==0:\n",
    "            continue   \n",
    "        elif j == i:\n",
    "            ans.append(i)\n",
    "        elif i%j==0:\n",
    "            break\n",
    "        \n",
    "            \n",
    "if len(ans)==0: print(-1)\n",
    "else:\n",
    "    print(sum(ans))\n",
    "    print(ans[0])\n",
    "#print(ans)"
   ]
  },
  {
   "cell_type": "code",
   "execution_count": 225,
   "metadata": {},
   "outputs": [
    {
     "name": "stdout",
     "output_type": "stream",
     "text": [
      "6\n",
      "2\n",
      "3\n"
     ]
    }
   ],
   "source": [
    "## 백준 기본수학2 - 3. 소인수 분해\n",
    "import math\n",
    "\n",
    "num = int(input())\n",
    "og_num = num\n",
    "mid = int(math.sqrt(num))\n",
    "cnt = 0\n",
    "for i in range(2, mid+1):\n",
    "    while True:\n",
    "        if num%i != 0:\n",
    "            break\n",
    "        else:\n",
    "            chk_sum = num//i\n",
    "            print(i)\n",
    "            cnt+=1\n",
    "            num = num//i\n",
    "\n",
    "        if num==1:break\n",
    "            \n",
    "if og_num==1: cnt+=1\n",
    "elif cnt==1: print(chk_sum)\n",
    "elif cnt==0: print(og_num)"
   ]
  },
  {
   "cell_type": "code",
   "execution_count": 179,
   "metadata": {},
   "outputs": [
    {
     "name": "stdout",
     "output_type": "stream",
     "text": [
      "873651004249\n",
      "934693\n",
      "934693\n"
     ]
    }
   ],
   "source": [
    "n=int(input())\n",
    "p=2\n",
    "while 1:\n",
    "    if n==1: break\n",
    "    if n%p: p+=1\n",
    "    else: print(p); n//=p"
   ]
  },
  {
   "cell_type": "code",
   "execution_count": 24,
   "metadata": {},
   "outputs": [
    {
     "name": "stdout",
     "output_type": "stream",
     "text": [
      "1 10\n",
      "2\n",
      "3\n",
      "5\n",
      "7\n"
     ]
    }
   ],
   "source": [
    "# 백준 기본수학2 - 4. 소수 구하기 (에라스토테네스의 체)\n",
    "import math\n",
    "\n",
    "a, b = map(int, input().split(' '))\n",
    "\n",
    "tf = [True for i in range(b+1)]\n",
    "\n",
    "for i in range(2, int(math.sqrt(b))+1):\n",
    "    if tf[i]==True:\n",
    "        j=2\n",
    "        while i*j <= b:\n",
    "            tf[i*j]=False\n",
    "            j+=1\n",
    "        \n",
    "for i in range(a, b+1):\n",
    "    if a==1 and b==1: break\n",
    "    elif i==1: continue\n",
    "    if tf[i]: print(i)"
   ]
  },
  {
   "cell_type": "code",
   "execution_count": 5,
   "metadata": {},
   "outputs": [
    {
     "name": "stdout",
     "output_type": "stream",
     "text": [
      "1\n",
      "10\n",
      "100\n",
      "1000\n",
      "10000\n",
      "100000\n",
      "0\n",
      "1\n",
      "4\n",
      "21\n",
      "135\n",
      "1033\n",
      "8392\n"
     ]
    }
   ],
   "source": [
    "# 백준 기본수학2 - 5. 베르트랑 공준\n",
    "import math\n",
    "\n",
    "tc = None\n",
    "tc_lst = []\n",
    "while True:\n",
    "    tc=int(input())\n",
    "    if tc==0: break\n",
    "    else: tc_lst.append(tc)\n",
    "\n",
    "m = max(tc_lst)\n",
    "\n",
    "tf = [True for i in range(2*m+1)]\n",
    "\n",
    "for i in range(2, int(math.sqrt(2*m))+1):\n",
    "    if tf[i]==True:\n",
    "        j=2\n",
    "        while i*j <= 2*m:\n",
    "            tf[i*j]=False\n",
    "            j+=1\n",
    "                \n",
    "for n in tc_lst:\n",
    "    cnt=0\n",
    "    for i in range(n+1, 2*n+1):\n",
    "        if tf[i]: cnt+=1\n",
    "    print(cnt)"
   ]
  },
  {
   "cell_type": "code",
   "execution_count": 17,
   "metadata": {},
   "outputs": [
    {
     "name": "stdout",
     "output_type": "stream",
     "text": [
      "3\n",
      "4\n",
      "5\n",
      "6\n",
      "2 2\n",
      "2 3\n",
      "3 3\n"
     ]
    }
   ],
   "source": [
    "# 백준 기본수학2 - 6. 골드바흐 추측\n",
    "\n",
    "it = int(input())\n",
    "tc_list=[]\n",
    "for i in range(0,it):\n",
    "    a = int(input())\n",
    "    tc_list.append(a)\n",
    "    \n",
    "m = max(tc_list)\n",
    "tf=[True for i in range(0, m+1)]\n",
    "\n",
    "for i in range(2, int(m**0.5)+1):\n",
    "    if tf[i]:\n",
    "        j=2\n",
    "        while i*j <= m:\n",
    "            tf[i*j]=False\n",
    "            j+=1\n",
    "\n",
    "for n in tc_list:\n",
    "    for i in range(n//2, -1, -1):\n",
    "        if tf[i] and tf[n-i]:\n",
    "            print(i,n-i)\n",
    "            break"
   ]
  },
  {
   "cell_type": "code",
   "execution_count": 20,
   "metadata": {},
   "outputs": [
    {
     "name": "stdout",
     "output_type": "stream",
     "text": [
      "6 2 10 3\n",
      "1\n"
     ]
    }
   ],
   "source": [
    "# 백준 기본수학2 - 7. 직사각형 탈출\n",
    "\n",
    "x, y, w, h = map(int, input().split())\n",
    "print(min(w-x, h-y, x, y))"
   ]
  },
  {
   "cell_type": "code",
   "execution_count": 34,
   "metadata": {},
   "outputs": [
    {
     "name": "stdout",
     "output_type": "stream",
     "text": [
      "30 20\n",
      "10 10\n",
      "10 20\n",
      "30 10\n"
     ]
    }
   ],
   "source": [
    "# 백준 기본수학2 - 8. 네 번째 탈출\n",
    "x_list = []\n",
    "y_list = []\n",
    "x_set = set()\n",
    "y_set = set()\n",
    "for i in range(0,3):\n",
    "    x, y = map(int, input().split())\n",
    "    x_list.append(x)\n",
    "    y_list.append(y)\n",
    "    x_set.add(x)\n",
    "    y_set.add(y)\n",
    "\n",
    "x_sum, y_sum = 0, 0\n",
    "for x in list(x_set):\n",
    "    x_sum+=x\n",
    "    x_list.remove(x)\n",
    "for y in list(y_set):\n",
    "    y_sum+=y\n",
    "    y_list.remove(y)\n",
    "    \n",
    "print(x_sum-x_list[0], y_sum-y_list[0])"
   ]
  },
  {
   "cell_type": "code",
   "execution_count": 2,
   "metadata": {},
   "outputs": [
    {
     "name": "stdout",
     "output_type": "stream",
     "text": [
      "6 8 10\n",
      "25 52 60\n",
      "5 12 13\n",
      "0 0 0\n",
      "right\n",
      "wrong\n",
      "right\n"
     ]
    }
   ],
   "source": [
    "# 백준 기본수학2 - 9. 직각 삼각형\n",
    "\n",
    "tc_lst = []\n",
    "while True:\n",
    "    tc = list(map(int, input().split(' ')))\n",
    "    if tc==[0,0,0]: break\n",
    "    else: tc_lst.append(tc)\n",
    "        \n",
    "for tc in tc_lst:\n",
    "    m = max(tc)\n",
    "    ans=0\n",
    "    for val in tc:\n",
    "        if val==m: continue\n",
    "        else: ans += val**2\n",
    "            \n",
    "    if ans == (m**2): print('right')\n",
    "    else: print('wrong')"
   ]
  },
  {
   "cell_type": "code",
   "execution_count": 20,
   "metadata": {},
   "outputs": [
    {
     "name": "stdout",
     "output_type": "stream",
     "text": [
      "42\n",
      "5541.769441\n",
      "3528.0\n"
     ]
    }
   ],
   "source": [
    "# 백준 기본수학2 - 10. 택시 기하학\n",
    "\n",
    "import math\n",
    "r = int(input())\n",
    "pi = math.pi\n",
    "\n",
    "print(round(pi*r**2, 6))\n",
    "print(round(2*r**2, 6))"
   ]
  },
  {
   "cell_type": "code",
   "execution_count": 49,
   "metadata": {},
   "outputs": [
    {
     "name": "stdout",
     "output_type": "stream",
     "text": [
      "1\n",
      "0 0 50 100 1 50\n",
      "0\n"
     ]
    }
   ],
   "source": [
    "# 백준 기본수학2 - 11. 터렛\n",
    "\n",
    "\n",
    "it = int(input())\n",
    "tc_list=[]\n",
    "for i in range(0, it):\n",
    "    tc = list(map(int, input().split()))\n",
    "    tc_list.append(tc)\n",
    "\n",
    "for tc in tc_list:\n",
    "    R=max(tc[2],tc[5])\n",
    "    r=min(tc[2],tc[5])\n",
    "\n",
    "    d = ((tc[0]-tc[3])**2+(tc[1]-tc[4])**2)**0.5\n",
    "\n",
    "    if d==0 and R-r==0: # 동심원\n",
    "        print(-1)\n",
    "    elif R+r < d: # 만나지 않을 때 / 외부\n",
    "        print(0)\n",
    "    elif R-r > d: # 만나지 않을 때 / 내부\n",
    "        print(0)\n",
    "    elif R+r==d: # 접점일 때 / 외접\n",
    "        print(1)\n",
    "    elif R-r == d: # 접점일 때 / 내접\n",
    "        print(1)\n",
    "    elif R+r > d and R-r < d:# 두 점에서 만날 때\n",
    "        print(2)\n",
    "    else: print(-1)"
   ]
  },
  {
   "cell_type": "code",
   "execution_count": 2,
   "metadata": {},
   "outputs": [
    {
     "name": "stdout",
     "output_type": "stream",
     "text": [
      "10\n",
      "3628800\n"
     ]
    }
   ],
   "source": [
    "# 백준 재귀1 - 1. 팩토리얼\n",
    "\n",
    "val = int(input())\n",
    "\n",
    "def factorial (n):\n",
    "    if n==0: return 1;\n",
    "    else: return n*factorial(n-1);\n",
    "    \n",
    "print(factorial(val))"
   ]
  },
  {
   "cell_type": "code",
   "execution_count": 5,
   "metadata": {},
   "outputs": [
    {
     "name": "stdout",
     "output_type": "stream",
     "text": [
      "10\n",
      "55\n"
     ]
    }
   ],
   "source": [
    "# 백준 재귀1 - 2. 피보나치 수 5\n",
    "\n",
    "val = int(input())\n",
    "\n",
    "def fibo(n):\n",
    "    if n==0: return 0;\n",
    "    elif n==1: return 1;\n",
    "    else: return fibo(n-1)+fibo(n-2)\n",
    "    \n",
    "print(fibo(val)) "
   ]
  },
  {
   "cell_type": "code",
   "execution_count": 19,
   "metadata": {
    "scrolled": true
   },
   "outputs": [
    {
     "name": "stdout",
     "output_type": "stream",
     "text": [
      "27\n",
      "***************************\n",
      "* ** ** ** ** ** ** ** ** *\n",
      "***************************\n",
      "***   ******   ******   ***\n",
      "* *   * ** *   * ** *   * *\n",
      "***   ******   ******   ***\n",
      "***************************\n",
      "* ** ** ** ** ** ** ** ** *\n",
      "***************************\n",
      "*********         *********\n",
      "* ** ** *         * ** ** *\n",
      "*********         *********\n",
      "***   ***         ***   ***\n",
      "* *   * *         * *   * *\n",
      "***   ***         ***   ***\n",
      "*********         *********\n",
      "* ** ** *         * ** ** *\n",
      "*********         *********\n",
      "***************************\n",
      "* ** ** ** ** ** ** ** ** *\n",
      "***************************\n",
      "***   ******   ******   ***\n",
      "* *   * ** *   * ** *   * *\n",
      "***   ******   ******   ***\n",
      "***************************\n",
      "* ** ** ** ** ** ** ** ** *\n",
      "***************************\n"
     ]
    }
   ],
   "source": [
    "# 백준 재귀1 - 3. 별 찍기\n",
    "\n",
    "val = int(input())\n",
    "\n",
    "def star_frac(n):\n",
    "    if n==3:\n",
    "        a3=[[' ' for _ in range(3)] for _ in range(3)]\n",
    "        for i in range(0,3):\n",
    "            for j in range(0,3):\n",
    "                if i==1 and j==1:\n",
    "                    pass\n",
    "                else:\n",
    "                    a3[i][j]='*'\n",
    "        return a3\n",
    "    \n",
    "    arr = [None for _ in range(n)]\n",
    "    shape = star_frac(n//3)\n",
    "    \n",
    "    for i in range(0,n,n//3):\n",
    "        for j in range(0,n//3):\n",
    "            if i==n//3:\n",
    "                arr[i+j] = shape[j] + [' ' for _ in range(n//3)] + shape[j]\n",
    "\n",
    "            else:\n",
    "                arr[i+j] = shape[j]*(n//3)\n",
    "            \n",
    "                \n",
    "    return arr\n",
    "    \n",
    "ans = star_frac(val)\n",
    "\n",
    "for i in range(0,val):\n",
    "    for j in range(0,val):\n",
    "        if j==val-1: print(ans[i][j]);\n",
    "        else: print(ans[i][j],end='')"
   ]
  },
  {
   "cell_type": "code",
   "execution_count": 8,
   "metadata": {},
   "outputs": [
    {
     "name": "stdout",
     "output_type": "stream",
     "text": [
      "3\n",
      "***\n",
      "* *\n",
      "***\n"
     ]
    }
   ],
   "source": [
    "# 백준 재귀1 - 3. 별 찍기\n",
    "\n",
    "val = int(input())\n",
    "\n",
    "def star_frac(n):\n",
    "    if n==3:\n",
    "        a3=['*' for _ in range(9)]\n",
    "        for i in range(9):\n",
    "            if i%3==1 and i//3==1:\n",
    "                a3[i]=' '\n",
    "        return a3\n",
    "    \n",
    "    arr = ['*' for _ in range(n**2)]\n",
    "    shape = star_frac(n//3)\n",
    "    \n",
    "    for i in range(n**2):\n",
    "        if i%3:\n",
    "            arr[i] = \n",
    "\n",
    "        else:\n",
    "            arr[i] = \n",
    "            \n",
    "                \n",
    "    return arr\n",
    "    \n",
    "ans = star_frac(val)\n",
    "\n",
    "for i in range(0,val**2):\n",
    "    if i%val==val-1: print(ans[i]);\n",
    "    else: print(ans[i],end='')"
   ]
  },
  {
   "cell_type": "code",
   "execution_count": 3,
   "metadata": {},
   "outputs": [
    {
     "name": "stdout",
     "output_type": "stream",
     "text": [
      "10\n",
      "1\n",
      "3\n",
      "5\n",
      "4\n",
      "0\n",
      "0\n",
      "7\n",
      "0\n",
      "0\n",
      "6\n",
      "7\n"
     ]
    }
   ],
   "source": [
    "# 스택 10733\n",
    "import sys\n",
    "input_readline = sys.stdin.readline\n",
    "stk = []\n",
    "k = int(input())\n",
    "for _ in range(k):\n",
    "    n = int(input())\n",
    "    if n == 0: stk.pop(len(stk)-1)\n",
    "    else: stk.append(n)\n",
    "        \n",
    "print(sum(stk))"
   ]
  }
 ],
 "metadata": {
  "kernelspec": {
   "display_name": "Python 3",
   "language": "python",
   "name": "python3"
  },
  "language_info": {
   "codemirror_mode": {
    "name": "ipython",
    "version": 3
   },
   "file_extension": ".py",
   "mimetype": "text/x-python",
   "name": "python",
   "nbconvert_exporter": "python",
   "pygments_lexer": "ipython3",
   "version": "3.8.3"
  }
 },
 "nbformat": 4,
 "nbformat_minor": 4
}
