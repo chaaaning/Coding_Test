{
 "cells": [
  {
   "cell_type": "markdown",
   "metadata": {},
   "source": [
    "## 최종 점검 사항\n",
    "1. DFS\n",
    "2. BFS\n",
    "3. Dynamic Programming\n",
    "4. Binary Search\n",
    "5. Dijkstra\n",
    "6. 플로이드 워셜\n",
    "7. 서로소 집합 Union\n",
    "8. Cycle 발견\n",
    "9. 크루스칼 알고리즘 (최소 비용 신장 트리)\n",
    "10. Topology Sort"
   ]
  },
  {
   "cell_type": "code",
   "execution_count": 4,
   "metadata": {},
   "outputs": [
    {
     "name": "stdout",
     "output_type": "stream",
     "text": [
      "[1, 2, 7, 6, 8, 3, 4, 5]\n"
     ]
    }
   ],
   "source": [
    "# 1. DFS - dfs(graph, v, visited)\n",
    "# graph는 인덱스에 연결된 노드\n",
    "# visited를 사용하여 True False로 분류 (그래프의 길이 만큼 저장)\n",
    "graph = [\n",
    "    [],\n",
    "    [2, 3, 8],\n",
    "    [1, 7],\n",
    "    [1, 4, 5],\n",
    "    [3, 5],\n",
    "    [3, 4],\n",
    "    [7],\n",
    "    [2, 6, 8],\n",
    "    [1, 7]\n",
    "]\n",
    "\n",
    "visited = [False] * len(graph)\n",
    "result = []\n",
    "def dfs(graph, v, visited):\n",
    "    visited[v] = True\n",
    "    result.append(v)\n",
    "    for cnct_node in graph[v]:\n",
    "        if visited[cnct_node] == False:\n",
    "            dfs(graph, cnct_node, visited)\n",
    "            \n",
    "dfs(graph,1,visited)\n",
    "print(result)"
   ]
  },
  {
   "cell_type": "code",
   "execution_count": 13,
   "metadata": {},
   "outputs": [
    {
     "name": "stdout",
     "output_type": "stream",
     "text": [
      "[1, 2, 3, 8, 7, 4, 5, 6]\n"
     ]
    }
   ],
   "source": [
    "# BFS\n",
    "from collections import deque\n",
    "\n",
    "graph = [\n",
    "    [],\n",
    "    [2, 3, 8],\n",
    "    [1, 7],\n",
    "    [1, 4, 5],\n",
    "    [3, 5],\n",
    "    [3, 4],\n",
    "    [7],\n",
    "    [2, 6, 8],\n",
    "    [1, 7]\n",
    "]\n",
    "\n",
    "visited = [False] * len(graph)\n",
    "result=[]\n",
    "\n",
    "def bfs (graph, start, visited):\n",
    "    visited[start] = True\n",
    "    q = deque([start])\n",
    "    while q:\n",
    "        cur_node = q.popleft()\n",
    "        result.append(cur_node)\n",
    "        for cnct_node in graph[cur_node]:\n",
    "            if not visited[cnct_node]:\n",
    "                q.append(cnct_node)\n",
    "                visited[cnct_node] = True\n",
    "                \n",
    "bfs(graph,1,visited)\n",
    "print(result)"
   ]
  },
  {
   "cell_type": "code",
   "execution_count": null,
   "metadata": {},
   "outputs": [],
   "source": [
    "# 이진탐색 - 재귀\n",
    "def binary_serach(arr, start, end, target):\n",
    "    if start > end: return None\n",
    "    mid = (start+end)//2\n",
    "    if mid == target: return mid\n",
    "    elif mid > target: return binary_serach(arr, mid+1, end, target)\n",
    "    else: return binary_serach(arr, start, mid-1, target)\n",
    "    \n",
    "# 이진탐색 - 반복\n",
    "while start<end:\n",
    "    mid = (start+end)//2\n",
    "    if mid == target: break\n",
    "    elif mid > target: start = mid + 1\n",
    "    else: end = mid - 1"
   ]
  },
  {
   "cell_type": "code",
   "execution_count": null,
   "metadata": {},
   "outputs": [],
   "source": [
    "# Dijkstra\n",
    "# graph : 해당 인덱스에 연결된 (노드, 비용)\n",
    "# distance : inf 로 초기화\n",
    "# 우선 순위 큐로 다음 탐색 대상 찾기\n",
    "import heapq as hq\n",
    "\n",
    "n, m = map(int, input().split())\n",
    "start = int(input())\n",
    "inf = int(1e9)\n",
    "graph=[[] for _ in range(n+1)]\n",
    "distance = [inf] * (n+1)\n",
    "\n",
    "for _ in range(m):\n",
    "    a,b,c = map(int, input().split())\n",
    "    graph[a].append((b,c))\n",
    "\n",
    "def dijkstra(start):\n",
    "    distance[start] = 0\n",
    "    q = []\n",
    "    hq.heappush(q, (0, start))\n",
    "    while q:\n",
    "        dist, now = hq.heappop(q)\n",
    "        if distance[now] < dist: continue\n",
    "        for cnct_node in graph[now]:\n",
    "            cost = distance[now] + cnct_node[1]\n",
    "            if cost < distance[cnct_node[0]]:\n",
    "                distance[cnct_node[0]] = cost\n",
    "                hq.heappush(q, (cost, cnct_node[0]))"
   ]
  },
  {
   "cell_type": "code",
   "execution_count": null,
   "metadata": {},
   "outputs": [],
   "source": [
    "# 플로이드 워셜\n",
    "# graph는 2차원 테이블에 쓉 입력이야\n",
    "for k in range(1, n+1):\n",
    "    for a in range(1, n+1):\n",
    "        for b in range(1, n+1):\n",
    "            graph[a][b] = min(graph[a][b], graph[a][k] + graph[k][b])"
   ]
  },
  {
   "cell_type": "code",
   "execution_count": 14,
   "metadata": {},
   "outputs": [
    {
     "name": "stdout",
     "output_type": "stream",
     "text": [
      "6 4\n",
      "1 4\n",
      "2 3\n",
      "2 4\n",
      "5 6\n",
      "1 1 1 1 5 5 "
     ]
    }
   ],
   "source": [
    "# 서로소 집합\n",
    "n,m = map(int, input().split())\n",
    "parent = list(range(0,n+1))\n",
    "def find_parent(parent, x):\n",
    "    if parent[x] != x: return find_parent(parent, parent[x])\n",
    "    else: return parent[x]\n",
    "    \n",
    "def union_parent(parent, a, b):\n",
    "    root_a = find_parent(parent, a)\n",
    "    root_b = find_parent(parent, b)\n",
    "    if root_a < root_b: parent[root_b] = root_a\n",
    "    else: parent[root_a] = root_b\n",
    "        \n",
    "for _ in range(m):\n",
    "    a, b = map(int, input().split())\n",
    "    union_parent(parent,a,b)\n",
    "    \n",
    "for i in range(1, n+1):\n",
    "    print(find_parent(parent, i), end=' ')"
   ]
  },
  {
   "cell_type": "code",
   "execution_count": 15,
   "metadata": {},
   "outputs": [
    {
     "name": "stdout",
     "output_type": "stream",
     "text": [
      "7 9\n",
      "1 2 29\n",
      "1 5 75\n",
      "2 3 35\n",
      "2 6 34\n",
      "3 4 7\n",
      "4 6 23\n",
      "4 7 13\n",
      "5 6 53\n",
      "6 7 25\n"
     ]
    },
    {
     "ename": "IndexError",
     "evalue": "list index out of range",
     "output_type": "error",
     "traceback": [
      "\u001b[1;31m---------------------------------------------------------------------------\u001b[0m",
      "\u001b[1;31mIndexError\u001b[0m                                Traceback (most recent call last)",
      "\u001b[1;32m<ipython-input-15-809d40a45f17>\u001b[0m in \u001b[0;36m<module>\u001b[1;34m\u001b[0m\n\u001b[0;32m     24\u001b[0m \u001b[1;32mfor\u001b[0m \u001b[0medge\u001b[0m \u001b[1;32min\u001b[0m \u001b[0medges\u001b[0m\u001b[1;33m:\u001b[0m\u001b[1;33m\u001b[0m\u001b[1;33m\u001b[0m\u001b[0m\n\u001b[0;32m     25\u001b[0m     \u001b[0mcost\u001b[0m\u001b[1;33m,\u001b[0m \u001b[0ma\u001b[0m\u001b[1;33m,\u001b[0m \u001b[0mb\u001b[0m \u001b[1;33m=\u001b[0m \u001b[0medge\u001b[0m\u001b[1;33m\u001b[0m\u001b[1;33m\u001b[0m\u001b[0m\n\u001b[1;32m---> 26\u001b[1;33m     \u001b[1;32mif\u001b[0m \u001b[0mfind_parent\u001b[0m\u001b[1;33m(\u001b[0m\u001b[0mparent\u001b[0m\u001b[1;33m,\u001b[0m \u001b[0ma\u001b[0m\u001b[1;33m)\u001b[0m \u001b[1;33m!=\u001b[0m \u001b[0mfind_parent\u001b[0m\u001b[1;33m(\u001b[0m\u001b[0mparent\u001b[0m\u001b[1;33m,\u001b[0m \u001b[0mb\u001b[0m\u001b[1;33m)\u001b[0m\u001b[1;33m:\u001b[0m\u001b[1;33m\u001b[0m\u001b[1;33m\u001b[0m\u001b[0m\n\u001b[0m\u001b[0;32m     27\u001b[0m         \u001b[0munion_parent\u001b[0m\u001b[1;33m(\u001b[0m\u001b[0mparent\u001b[0m\u001b[1;33m,\u001b[0m \u001b[0ma\u001b[0m\u001b[1;33m,\u001b[0m \u001b[0mb\u001b[0m\u001b[1;33m)\u001b[0m\u001b[1;33m\u001b[0m\u001b[1;33m\u001b[0m\u001b[0m\n\u001b[0;32m     28\u001b[0m         \u001b[0mresult\u001b[0m\u001b[1;33m+=\u001b[0m\u001b[0mcost\u001b[0m\u001b[1;33m\u001b[0m\u001b[1;33m\u001b[0m\u001b[0m\n",
      "\u001b[1;32m<ipython-input-15-809d40a45f17>\u001b[0m in \u001b[0;36mfind_parent\u001b[1;34m(parent, x)\u001b[0m\n\u001b[0;32m      4\u001b[0m \u001b[0mparent\u001b[0m \u001b[1;33m=\u001b[0m \u001b[0mlist\u001b[0m\u001b[1;33m(\u001b[0m\u001b[0mrange\u001b[0m\u001b[1;33m(\u001b[0m\u001b[1;36m0\u001b[0m\u001b[1;33m,\u001b[0m\u001b[0mn\u001b[0m\u001b[1;33m+\u001b[0m\u001b[1;36m1\u001b[0m\u001b[1;33m)\u001b[0m\u001b[1;33m)\u001b[0m\u001b[1;33m\u001b[0m\u001b[1;33m\u001b[0m\u001b[0m\n\u001b[0;32m      5\u001b[0m \u001b[1;32mdef\u001b[0m \u001b[0mfind_parent\u001b[0m\u001b[1;33m(\u001b[0m\u001b[0mparent\u001b[0m\u001b[1;33m,\u001b[0m \u001b[0mx\u001b[0m\u001b[1;33m)\u001b[0m\u001b[1;33m:\u001b[0m\u001b[1;33m\u001b[0m\u001b[1;33m\u001b[0m\u001b[0m\n\u001b[1;32m----> 6\u001b[1;33m     \u001b[1;32mif\u001b[0m \u001b[0mparent\u001b[0m\u001b[1;33m[\u001b[0m\u001b[0mx\u001b[0m\u001b[1;33m]\u001b[0m \u001b[1;33m!=\u001b[0m \u001b[0mx\u001b[0m\u001b[1;33m:\u001b[0m \u001b[1;32mreturn\u001b[0m \u001b[0mfind_parent\u001b[0m\u001b[1;33m(\u001b[0m\u001b[0mparent\u001b[0m\u001b[1;33m,\u001b[0m \u001b[0mparent\u001b[0m\u001b[1;33m[\u001b[0m\u001b[0mx\u001b[0m\u001b[1;33m]\u001b[0m\u001b[1;33m)\u001b[0m\u001b[1;33m\u001b[0m\u001b[1;33m\u001b[0m\u001b[0m\n\u001b[0m\u001b[0;32m      7\u001b[0m     \u001b[1;32melse\u001b[0m\u001b[1;33m:\u001b[0m \u001b[1;32mreturn\u001b[0m \u001b[0mparent\u001b[0m\u001b[1;33m[\u001b[0m\u001b[0mx\u001b[0m\u001b[1;33m]\u001b[0m\u001b[1;33m\u001b[0m\u001b[1;33m\u001b[0m\u001b[0m\n\u001b[0;32m      8\u001b[0m \u001b[1;33m\u001b[0m\u001b[0m\n",
      "\u001b[1;31mIndexError\u001b[0m: list index out of range"
     ]
    }
   ],
   "source": [
    "# 크루스칼\n",
    "\n",
    "def find_parent(parent, x):\n",
    "    if parent[x] != x: return find_parent(parent, parent[x])\n",
    "    else: return parent[x]\n",
    "    \n",
    "def union_parent(parent, a, b):\n",
    "    root_a = find_parent(parent, a)\n",
    "    root_b = find_parent(parent, b)\n",
    "    if root_a < root_b: parent[root_b] = root_a\n",
    "    else: parent[root_a] = root_b\n",
    "\n",
    "n,m = map(int, input().split())\n",
    "parent = list(range(0,n+1))\n",
    "        \n",
    "edges = []\n",
    "result = 0\n",
    "\n",
    "for _ in range(m):\n",
    "    cost, a, b = map(int, input().split())\n",
    "    edges.append((cost, a, b))\n",
    "    \n",
    "edges.sort()\n",
    "\n",
    "for edge in edges:\n",
    "    cost, a, b = edge\n",
    "    if find_parent(parent, a) != find_parent(parent, b):\n",
    "        union_parent(parent, a, b)\n",
    "        result+=cost\n",
    "        \n",
    "print(result)"
   ]
  }
 ],
 "metadata": {
  "kernelspec": {
   "display_name": "Python 3",
   "language": "python",
   "name": "python3"
  },
  "language_info": {
   "codemirror_mode": {
    "name": "ipython",
    "version": 3
   },
   "file_extension": ".py",
   "mimetype": "text/x-python",
   "name": "python",
   "nbconvert_exporter": "python",
   "pygments_lexer": "ipython3",
   "version": "3.8.3"
  }
 },
 "nbformat": 4,
 "nbformat_minor": 4
}
