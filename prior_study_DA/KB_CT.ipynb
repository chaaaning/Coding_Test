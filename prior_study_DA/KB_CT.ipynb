{
 "cells": [
  {
   "cell_type": "code",
   "execution_count": 8,
   "metadata": {},
   "outputs": [
    {
     "name": "stdout",
     "output_type": "stream",
     "text": [
      "5 7 2\n",
      "3 4 3 4 3\n",
      "28\n"
     ]
    }
   ],
   "source": [
    "# Greedy 큰 수의 법칙\n",
    "\n",
    "n,m,k = map(int, input().split())\n",
    "arr = list(map(int,input().split()))\n",
    "arr.sort(reverse=True)\n",
    "\n",
    "\n",
    "b = m%k\n",
    "u = m-b\n",
    "\n",
    "#print(u, b, arr[0], arr[1])\n",
    "print(u*arr[0]+b*arr[1])"
   ]
  },
  {
   "cell_type": "code",
   "execution_count": 12,
   "metadata": {},
   "outputs": [
    {
     "name": "stdout",
     "output_type": "stream",
     "text": [
      "5\n",
      "R R R U D D\n",
      "current :  1 1\n",
      "pre :  2 1\n",
      "current :  2 1\n",
      "pre :  3 1\n",
      "current :  3 1\n",
      "pre :  4 1\n",
      "current :  4 1\n",
      "pre :  4 0\n",
      "current :  4 1\n",
      "pre :  4 2\n",
      "current :  4 2\n",
      "pre :  4 3\n",
      "4 3\n"
     ]
    }
   ],
   "source": [
    "# 여행하기\n",
    "\n",
    "n = int(input())\n",
    "seq = map(str, input().split())\n",
    "\n",
    "direction = {'R':0,'L':1,'U':2,'D':3}\n",
    "dx = [1,-1,0,0]\n",
    "dy = [0,0,-1,1]\n",
    "\n",
    "cur_x, cur_y = 1, 1\n",
    "\n",
    "for direc in seq:\n",
    "    pre_x = cur_x+dx[direction[direc]]\n",
    "    pre_y = cur_y+dy[direction[direc]]\n",
    "    if (pre_x >= 1) and (pre_x <= n) and (pre_y >= 1) and (pre_y <= n):\n",
    "        cur_x, cur_y = pre_x, pre_y\n",
    "        \n",
    "print(cur_x, cur_y)"
   ]
  },
  {
   "cell_type": "code",
   "execution_count": 25,
   "metadata": {},
   "outputs": [
    {
     "name": "stdout",
     "output_type": "stream",
     "text": [
      "5\n",
      "11475\n"
     ]
    }
   ],
   "source": [
    "n = int(input())\n",
    "\n",
    "cnt = 0\n",
    "\n",
    "for h in range(0,n+1):\n",
    "    for m in range(0,60):\n",
    "        for s in range(0,60):\n",
    "            time = str(h)+str(m)+str(s)\n",
    "            if '3' in time: cnt+=1\n",
    "                \n",
    "print(cnt)\n",
    "    "
   ]
  },
  {
   "cell_type": "code",
   "execution_count": 24,
   "metadata": {},
   "outputs": [
    {
     "data": {
      "text/plain": [
       "True"
      ]
     },
     "execution_count": 24,
     "metadata": {},
     "output_type": "execute_result"
    }
   ],
   "source": [
    "a = '001330'\n",
    "'3' in a"
   ]
  },
  {
   "cell_type": "code",
   "execution_count": 26,
   "metadata": {},
   "outputs": [
    {
     "data": {
      "text/plain": [
       "97"
      ]
     },
     "execution_count": 26,
     "metadata": {},
     "output_type": "execute_result"
    }
   ],
   "source": [
    "ord('a')"
   ]
  },
  {
   "cell_type": "code",
   "execution_count": 31,
   "metadata": {},
   "outputs": [
    {
     "name": "stdout",
     "output_type": "stream",
     "text": [
      "d3\n",
      "8\n"
     ]
    }
   ],
   "source": [
    "loc = input()\n",
    "\n",
    "cnt=0\n",
    "cur_x = ord(loc[0])-96\n",
    "cur_y = int(loc[1])\n",
    "\n",
    "dx = [2,2,-2,-2,1,-1,1,-1]\n",
    "dy = [1,-1,1,-1,2,2,-2,-2]\n",
    "\n",
    "for i in range(0,8):\n",
    "    pre_x = cur_x + dx[i]\n",
    "    pre_y = cur_y + dy[i]\n",
    "    \n",
    "    if pre_x >= 1 and pre_x <= 8 and pre_y >= 1 and pre_y <= 8:\n",
    "        cnt+=1\n",
    "        \n",
    "print(cnt)"
   ]
  },
  {
   "cell_type": "code",
   "execution_count": 42,
   "metadata": {},
   "outputs": [
    {
     "name": "stdout",
     "output_type": "stream",
     "text": [
      "4 4\n",
      "1 1 0\n",
      "1 1 1 1\n",
      "1 0 0 1\n",
      "1 1 0 1\n",
      "1 1 1 1\n",
      "회전 횟수 :  3\n",
      "회전 횟수 :  3\n",
      "회전 횟수 :  4\n",
      "회전 횟수 :  3\n",
      "회전 횟수 :  4\n",
      "회전 횟수 :  4\n",
      "5\n"
     ]
    }
   ],
   "source": [
    "n, m = map(int, input().split())\n",
    "cur_x, cur_y, cur_see = map(int, input().split())\n",
    "\n",
    "game_map = []\n",
    "\n",
    "for _ in range(0,n):\n",
    "    game_map.append(list(map(int, input().split())))\n",
    "    \n",
    "dx = [-1,0,1,0]\n",
    "dy = [0,-1,0,1]\n",
    "\n",
    "move_cnt = 0\n",
    "\n",
    "while True:\n",
    "    direction_cnt = 0\n",
    "    for i in range(cur_see+1,cur_see+5):\n",
    "        see = i\n",
    "        if i > 3: see = 4-i\n",
    "        \n",
    "        pre_x = cur_x + dx[see]\n",
    "        pre_y = cur_y + dy[see]\n",
    "        \n",
    "        if game_map[pre_x][pre_y] != 0:\n",
    "            direction_cnt += 1\n",
    "            continue\n",
    "        \n",
    "        else:\n",
    "            game_map[pre_x][pre_y] = -1\n",
    "            cur_x, cur_y, cur_see = pre_x, pre_y, see\n",
    "            move_cnt += 1\n",
    "            \n",
    "    print(\"회전 횟수 : \",direction_cnt)    \n",
    "    if direction_cnt==4:\n",
    "        pre_x = cur_x - dx[cur_see]\n",
    "        pre_y = cur_y - dy[cur_see]\n",
    "        \n",
    "        if game_map[pre_x][pre_y] == -1:\n",
    "            cur_x, cur_y = pre_x, pre_y\n",
    "            move_cnt+=1\n",
    "        \n",
    "        else: break\n",
    "        \n",
    "print(move_cnt)\n",
    "        "
   ]
  },
  {
   "cell_type": "code",
   "execution_count": 43,
   "metadata": {},
   "outputs": [
    {
     "data": {
      "text/plain": [
       "[[1, 1, 1, 1], [1, -1, -1, 1], [1, 1, -1, 1], [1, 1, 1, 1]]"
      ]
     },
     "execution_count": 43,
     "metadata": {},
     "output_type": "execute_result"
    }
   ],
   "source": [
    "game_map"
   ]
  },
  {
   "cell_type": "code",
   "execution_count": 44,
   "metadata": {},
   "outputs": [
    {
     "data": {
      "text/plain": [
       "(1, 2)"
      ]
     },
     "execution_count": 44,
     "metadata": {},
     "output_type": "execute_result"
    }
   ],
   "source": [
    "cur_x, cur_y"
   ]
  },
  {
   "cell_type": "code",
   "execution_count": 48,
   "metadata": {},
   "outputs": [
    {
     "name": "stdout",
     "output_type": "stream",
     "text": [
      "1 2 7 6 8 3 4 5 "
     ]
    }
   ],
   "source": [
    "# dfs\n",
    "\n",
    "graph = [\n",
    "    [],\n",
    "    [2,3,8],\n",
    "    [1,7],\n",
    "    [1,4,5],\n",
    "    [3,5],\n",
    "    [3,4],\n",
    "    [7],\n",
    "    [2,6,8],\n",
    "    [1,7]\n",
    "]\n",
    "\n",
    "visited = [False for _ in range(0,len(graph)+1)]\n",
    "\n",
    "def dfs(graph, v, visited):\n",
    "    visit_seq = []\n",
    "    visited[v] = True\n",
    "    print(v, end = ' ')\n",
    "    for i in graph[v]:\n",
    "        if not visited[i]:\n",
    "            dfs(graph, i, visited)\n",
    "            \n",
    "dfs(graph, 1, visited)"
   ]
  },
  {
   "cell_type": "code",
   "execution_count": 51,
   "metadata": {},
   "outputs": [
    {
     "name": "stdout",
     "output_type": "stream",
     "text": [
      "[1, 2, 7, 6, 8, 3, 4, 5]\n"
     ]
    }
   ],
   "source": [
    "graph = [\n",
    "    [],\n",
    "    [2,3,8],\n",
    "    [1,7],\n",
    "    [1,4,5],\n",
    "    [3,5],\n",
    "    [3,4],\n",
    "    [7],\n",
    "    [2,6,8],\n",
    "    [1,7]\n",
    "]\n",
    "\n",
    "visited = [False for _ in range(0, len(graph)+1)]\n",
    "visit_seq = []\n",
    "\n",
    "def dfs2(graph, v, visited):\n",
    "    visited[v] = True\n",
    "    visit_seq.append(v)\n",
    "    for i in graph[v]:\n",
    "        if not visited[i]:\n",
    "            dfs2(graph, i, visited)\n",
    "\n",
    "dfs2(graph,1,visited)            \n",
    "print(visit_seq)"
   ]
  },
  {
   "cell_type": "code",
   "execution_count": 59,
   "metadata": {},
   "outputs": [
    {
     "name": "stdout",
     "output_type": "stream",
     "text": [
      "[1, 2, 3, 8, 7, 4, 5, 6]\n"
     ]
    }
   ],
   "source": [
    "from collections import deque\n",
    "\n",
    "graph = [\n",
    "    [],\n",
    "    [2,3,8],\n",
    "    [1,7],\n",
    "    [1,4,5],\n",
    "    [3,5],\n",
    "    [3,4],\n",
    "    [7],\n",
    "    [2,6,8],\n",
    "    [1,7]\n",
    "]\n",
    "\n",
    "visited = [False for _ in range(0,len(graph)+1)]\n",
    "visit_seq = []\n",
    "\n",
    "def bfs(graph, start, visited):\n",
    "    \n",
    "    q = deque([start])\n",
    "    visited[start] = True\n",
    "    \n",
    "    while q:\n",
    "        v = q.popleft()\n",
    "        visit_seq.append(v)\n",
    "        \n",
    "        for i in graph[v]:\n",
    "            if not visited[i]:\n",
    "                q.append(i)\n",
    "                visited[i] = True\n",
    "        \n",
    "bfs(graph,1,visited)\n",
    "print(visit_seq)"
   ]
  },
  {
   "cell_type": "code",
   "execution_count": 63,
   "metadata": {},
   "outputs": [
    {
     "name": "stdout",
     "output_type": "stream",
     "text": [
      "[1, 2, 7, 6, 8, 3, 4, 5]\n",
      "[1, 2, 3, 8, 7, 4, 5, 6]\n"
     ]
    }
   ],
   "source": [
    "graph = [\n",
    "    [],\n",
    "    [2,3,8],\n",
    "    [1,7],\n",
    "    [1,4,5],\n",
    "    [3,5],\n",
    "    [3,4],\n",
    "    [7],\n",
    "    [2,6,8],\n",
    "    [1,7]\n",
    "]\n",
    "\n",
    "visited_bfs = [False for _ in range(0,len(graph)+1)]\n",
    "visited_dfs = [False for _ in range(0,len(graph)+1)]\n",
    "\n",
    "visit_seq_bfs = []\n",
    "visit_seq_dfs = []\n",
    "\n",
    "def dfs(graph, v, visited):\n",
    "    visited_dfs[v] = True\n",
    "    visit_seq_dfs.append(v)\n",
    "    for i in graph[v]:\n",
    "        if not visited_dfs[i]:\n",
    "            dfs(graph,i,visited_dfs)\n",
    "            \n",
    "from collections import deque            \n",
    "\n",
    "def bfs(graph, start, visited_bfs):\n",
    "    q = deque([start])\n",
    "    visited_bfs[start] = True\n",
    "    while q:\n",
    "        v = q.popleft()\n",
    "        visit_seq_bfs.append(v)\n",
    "        for i in graph[v]:\n",
    "            if not visited_bfs[i]:\n",
    "                q.append(i)\n",
    "                visited_bfs[i] = True\n",
    "                \n",
    "dfs(graph,1,visited_dfs)\n",
    "bfs(graph,1,visited_bfs)\n",
    "\n",
    "print(visit_seq_dfs)\n",
    "print(visit_seq_bfs)"
   ]
  },
  {
   "cell_type": "code",
   "execution_count": 68,
   "metadata": {},
   "outputs": [
    {
     "name": "stdout",
     "output_type": "stream",
     "text": [
      "15 14\n",
      "00000111100000\n",
      "11111101111110\n",
      "11011101101110\n",
      "1101110110000\n"
     ]
    },
    {
     "ename": "KeyboardInterrupt",
     "evalue": "Interrupted by user",
     "output_type": "error",
     "traceback": [
      "\u001b[1;31m---------------------------------------------------------------------------\u001b[0m",
      "\u001b[1;31mKeyboardInterrupt\u001b[0m                         Traceback (most recent call last)",
      "\u001b[1;32m<ipython-input-68-4cd7581e578f>\u001b[0m in \u001b[0;36m<module>\u001b[1;34m\u001b[0m\n\u001b[0;32m      7\u001b[0m \u001b[1;33m\u001b[0m\u001b[0m\n\u001b[0;32m      8\u001b[0m \u001b[1;32mfor\u001b[0m \u001b[0m_\u001b[0m \u001b[1;32min\u001b[0m \u001b[0mrange\u001b[0m\u001b[1;33m(\u001b[0m\u001b[1;36m0\u001b[0m\u001b[1;33m,\u001b[0m\u001b[0mn\u001b[0m\u001b[1;33m)\u001b[0m\u001b[1;33m:\u001b[0m\u001b[1;33m\u001b[0m\u001b[1;33m\u001b[0m\u001b[0m\n\u001b[1;32m----> 9\u001b[1;33m     \u001b[0mmold\u001b[0m\u001b[1;33m.\u001b[0m\u001b[0mappend\u001b[0m\u001b[1;33m(\u001b[0m\u001b[0mlist\u001b[0m\u001b[1;33m(\u001b[0m\u001b[0mmap\u001b[0m\u001b[1;33m(\u001b[0m\u001b[0mint\u001b[0m\u001b[1;33m,\u001b[0m \u001b[0minput\u001b[0m\u001b[1;33m(\u001b[0m\u001b[1;33m)\u001b[0m\u001b[1;33m)\u001b[0m\u001b[1;33m)\u001b[0m\u001b[1;33m)\u001b[0m\u001b[1;33m\u001b[0m\u001b[1;33m\u001b[0m\u001b[0m\n\u001b[0m\u001b[0;32m     10\u001b[0m \u001b[1;33m\u001b[0m\u001b[0m\n\u001b[0;32m     11\u001b[0m \u001b[1;32mdef\u001b[0m \u001b[0mice_dfs\u001b[0m\u001b[1;33m(\u001b[0m\u001b[0mx\u001b[0m\u001b[1;33m,\u001b[0m\u001b[0my\u001b[0m\u001b[1;33m)\u001b[0m\u001b[1;33m:\u001b[0m\u001b[1;33m\u001b[0m\u001b[1;33m\u001b[0m\u001b[0m\n",
      "\u001b[1;32m~\\anaconda3\\lib\\site-packages\\ipykernel\\kernelbase.py\u001b[0m in \u001b[0;36mraw_input\u001b[1;34m(self, prompt)\u001b[0m\n\u001b[0;32m    858\u001b[0m                 \u001b[1;34m\"raw_input was called, but this frontend does not support input requests.\"\u001b[0m\u001b[1;33m\u001b[0m\u001b[1;33m\u001b[0m\u001b[0m\n\u001b[0;32m    859\u001b[0m             )\n\u001b[1;32m--> 860\u001b[1;33m         return self._input_request(str(prompt),\n\u001b[0m\u001b[0;32m    861\u001b[0m             \u001b[0mself\u001b[0m\u001b[1;33m.\u001b[0m\u001b[0m_parent_ident\u001b[0m\u001b[1;33m,\u001b[0m\u001b[1;33m\u001b[0m\u001b[1;33m\u001b[0m\u001b[0m\n\u001b[0;32m    862\u001b[0m             \u001b[0mself\u001b[0m\u001b[1;33m.\u001b[0m\u001b[0m_parent_header\u001b[0m\u001b[1;33m,\u001b[0m\u001b[1;33m\u001b[0m\u001b[1;33m\u001b[0m\u001b[0m\n",
      "\u001b[1;32m~\\anaconda3\\lib\\site-packages\\ipykernel\\kernelbase.py\u001b[0m in \u001b[0;36m_input_request\u001b[1;34m(self, prompt, ident, parent, password)\u001b[0m\n\u001b[0;32m    902\u001b[0m             \u001b[1;32mexcept\u001b[0m \u001b[0mKeyboardInterrupt\u001b[0m\u001b[1;33m:\u001b[0m\u001b[1;33m\u001b[0m\u001b[1;33m\u001b[0m\u001b[0m\n\u001b[0;32m    903\u001b[0m                 \u001b[1;31m# re-raise KeyboardInterrupt, to truncate traceback\u001b[0m\u001b[1;33m\u001b[0m\u001b[1;33m\u001b[0m\u001b[1;33m\u001b[0m\u001b[0m\n\u001b[1;32m--> 904\u001b[1;33m                 \u001b[1;32mraise\u001b[0m \u001b[0mKeyboardInterrupt\u001b[0m\u001b[1;33m(\u001b[0m\u001b[1;34m\"Interrupted by user\"\u001b[0m\u001b[1;33m)\u001b[0m \u001b[1;32mfrom\u001b[0m \u001b[1;32mNone\u001b[0m\u001b[1;33m\u001b[0m\u001b[1;33m\u001b[0m\u001b[0m\n\u001b[0m\u001b[0;32m    905\u001b[0m             \u001b[1;32mexcept\u001b[0m \u001b[0mException\u001b[0m \u001b[1;32mas\u001b[0m \u001b[0me\u001b[0m\u001b[1;33m:\u001b[0m\u001b[1;33m\u001b[0m\u001b[1;33m\u001b[0m\u001b[0m\n\u001b[0;32m    906\u001b[0m                 \u001b[0mself\u001b[0m\u001b[1;33m.\u001b[0m\u001b[0mlog\u001b[0m\u001b[1;33m.\u001b[0m\u001b[0mwarning\u001b[0m\u001b[1;33m(\u001b[0m\u001b[1;34m\"Invalid Message:\"\u001b[0m\u001b[1;33m,\u001b[0m \u001b[0mexc_info\u001b[0m\u001b[1;33m=\u001b[0m\u001b[1;32mTrue\u001b[0m\u001b[1;33m)\u001b[0m\u001b[1;33m\u001b[0m\u001b[1;33m\u001b[0m\u001b[0m\n",
      "\u001b[1;31mKeyboardInterrupt\u001b[0m: Interrupted by user"
     ]
    }
   ],
   "source": [
    "# 음료수 얼려먹기\n",
    "\n",
    "n, m = map(int, input().split())\n",
    "\n",
    "mold = []\n",
    "result = 0\n",
    "\n",
    "for _ in range(0,n):\n",
    "    mold.append(list(map(int, input())))\n",
    "    \n",
    "def ice_dfs(x,y):\n",
    "    if x < 0 or x >= n or y < 0 or y >= m: return False\n",
    "    if mold[x][y]==0:\n",
    "        mold[x][y] = -1\n",
    "        ice_dfs(x-1,y)\n",
    "        ice_dfs(x+1,y)\n",
    "        ice_dfs(x,y-1)\n",
    "        ice_dfs(x,y+1)\n",
    "        return True\n",
    "    return False\n",
    "    \n",
    "for i in range(n):\n",
    "    for j in range(m):\n",
    "        if ice_dfs(i,j): result+=1\n",
    "            \n",
    "print(result)"
   ]
  },
  {
   "cell_type": "code",
   "execution_count": 70,
   "metadata": {},
   "outputs": [
    {
     "name": "stdout",
     "output_type": "stream",
     "text": [
      "4 5\n",
      "00110\n",
      "00011\n",
      "11111\n",
      "00000\n",
      "3\n"
     ]
    }
   ],
   "source": [
    "n, m = map(int, input().split())\n",
    "\n",
    "mold = []\n",
    "\n",
    "for _ in range(n):\n",
    "    mold.append(list(map(int, input())))\n",
    "    \n",
    "def mold_dfs(x,y):\n",
    "    if x<0 or x>=n or y<0 or y>=m: return False\n",
    "    if mold[x][y] == 0:\n",
    "        mold[x][y] = -1\n",
    "        mold_dfs(x-1,y)\n",
    "        mold_dfs(x+1,y)\n",
    "        mold_dfs(x,y+1)\n",
    "        mold_dfs(x,y-1)\n",
    "        return True\n",
    "    return False\n",
    "\n",
    "result = 0\n",
    "\n",
    "for i in range(n):\n",
    "    for j in range(m):\n",
    "        if mold_dfs(i,j): result+=1\n",
    "            \n",
    "print(result)"
   ]
  },
  {
   "cell_type": "code",
   "execution_count": 81,
   "metadata": {},
   "outputs": [
    {
     "name": "stdout",
     "output_type": "stream",
     "text": [
      "5 6\n",
      "101010\n",
      "111111\n",
      "000001\n",
      "111111\n",
      "111111\n",
      "10\n"
     ]
    }
   ],
   "source": [
    "# 미로 탈출\n",
    "from collections import deque\n",
    "\n",
    "n, m = map(int, input().split())\n",
    "\n",
    "graph=[]\n",
    "\n",
    "for _ in range(n):\n",
    "    graph.append(list(map(int, input())))\n",
    "    \n",
    "dx = [-1,1,0,0]\n",
    "dy = [0,0,-1,1]\n",
    "    \n",
    "def miro_bfs(graph,x,y):\n",
    "    q = deque([(x,y)])\n",
    "    while q:\n",
    "        cur_x, cur_y = q.popleft()\n",
    "        for i in range(4):\n",
    "            nx = cur_x + dx[i]\n",
    "            ny = cur_y + dy[i]\n",
    "            \n",
    "            if nx<0 or nx>=n or ny<0 or ny>=m: continue\n",
    "            if graph[nx][ny] == 0: continue\n",
    "            if graph[nx][ny]==1:    # 여기를 잘못했어 종찬아\n",
    "                graph[nx][ny] = graph[cur_x][cur_y] + 1\n",
    "                q.append((nx, ny))\n",
    "\n",
    "miro_bfs(graph,0,0)\n",
    "print(graph[n-1][m-1])"
   ]
  },
  {
   "cell_type": "code",
   "execution_count": 82,
   "metadata": {},
   "outputs": [
    {
     "name": "stdout",
     "output_type": "stream",
     "text": [
      "5 6\n",
      "101010\n",
      "111111\n",
      "000001\n",
      "111111\n",
      "111111\n",
      "10\n"
     ]
    }
   ],
   "source": [
    "from collections import deque\n",
    "\n",
    "n, m = map(int, input().split())\n",
    "\n",
    "graph = []\n",
    "\n",
    "for _ in range(n):\n",
    "    graph.append(list(map(int, input())))\n",
    "    \n",
    "dx = [-1,1,0,0]\n",
    "dy = [0,0,-1,1]\n",
    "\n",
    "def m_bfs(graph, x, y):\n",
    "    q = deque([(x,y)])\n",
    "    while q:\n",
    "        cur_x, cur_y = q.popleft()\n",
    "        for i in range(4):\n",
    "            nx = cur_x + dx[i]\n",
    "            ny = cur_y + dy[i]\n",
    "            \n",
    "            if nx<0 or nx>=n or ny<0 or ny>=m: continue\n",
    "            if graph[nx][ny] == 0: continue\n",
    "            if graph[nx][ny] == 1:\n",
    "                graph[nx][ny] = graph[cur_x][cur_y]+1\n",
    "                q.append((nx,ny))\n",
    "                \n",
    "    return graph[n-1][m-1]\n",
    "\n",
    "print(m_bfs(graph,0,0))"
   ]
  },
  {
   "cell_type": "code",
   "execution_count": 88,
   "metadata": {},
   "outputs": [
    {
     "data": {
      "text/plain": [
       "1"
      ]
     },
     "execution_count": 88,
     "metadata": {},
     "output_type": "execute_result"
    }
   ],
   "source": [
    "# binary search\n",
    "\n",
    "def bi_search(arr, target, start, end):\n",
    "    if start > end: return None\n",
    "    mid = (start+end)//2\n",
    "    if arr[mid] > target: return bi_search(arr,target,start,mid-1)\n",
    "    elif arr[mid] < target: return bi_search(arr,target,mid+1,end)\n",
    "    else: return mid\n",
    "    \n",
    "bi_search([1, 3, 5, 7, 9, 11, 13], 3, 0, 6)"
   ]
  },
  {
   "cell_type": "code",
   "execution_count": 94,
   "metadata": {},
   "outputs": [
    {
     "name": "stdout",
     "output_type": "stream",
     "text": [
      "4 6\n",
      "19 15 10 17\n",
      "start : 0, end : 19, target : 25\n",
      "start : 10, end : 19, target : 9\n",
      "start : 15, end : 19, target : 2\n",
      "start : 15, end : 16, target : 6\n",
      "15\n"
     ]
    }
   ],
   "source": [
    "# 떡볶이 떡\n",
    "\n",
    "n, m = map(int, input().split())\n",
    "\n",
    "ddeks = list(map(int,input().split()))\n",
    "start, end = 0, max(ddeks)\n",
    "\n",
    "\n",
    "while start<=end:\n",
    "    target = 0\n",
    "    mid = (start+end)//2\n",
    "    \n",
    "    for ddek in ddeks:\n",
    "        if ddek <= mid: continue\n",
    "        else: target+=(ddek-mid)\n",
    "    print(f\"start : {start}, end : {end}, target : {target}\")\n",
    "    if target == m:\n",
    "        print(mid)\n",
    "        break\n",
    "    elif target > m: start = mid+1\n",
    "    else: end = mid-1\n",
    "        \n"
   ]
  },
  {
   "cell_type": "code",
   "execution_count": 2,
   "metadata": {},
   "outputs": [
    {
     "name": "stdout",
     "output_type": "stream",
     "text": [
      "26\n",
      "3\n"
     ]
    }
   ],
   "source": [
    "n = int(input())\n",
    "\n",
    "d = [0] * 30001\n",
    "\n",
    "for i in range(2, n+1):\n",
    "    \n",
    "    d[i] = d[i-1] + 1\n",
    "    \n",
    "    if i % 2 == 0:\n",
    "        d[i] = min(d[i], d[i//2]+1)\n",
    "    if i % 3 == 0:\n",
    "        d[i] = min(d[i], d[i//3]+1)\n",
    "    if i % 5 == 0:\n",
    "        d[i] = min(d[i], d[i//5]+1)\n",
    "        \n",
    "print(d[n])"
   ]
  },
  {
   "cell_type": "code",
   "execution_count": 7,
   "metadata": {},
   "outputs": [
    {
     "name": "stdout",
     "output_type": "stream",
     "text": [
      "6 11\n",
      "1\n",
      "1 2 2\n",
      "1 3 5\n",
      "1 4 1\n",
      "2 3 3\n",
      "2 4 2\n",
      "3 2 3\n",
      "3 6 5\n",
      "4 3 3\n",
      "4 5 1\n",
      "5 3 1\n",
      "5 6 2\n",
      "INFINITY\n",
      "2\n",
      "3\n",
      "1\n",
      "2\n",
      "4\n"
     ]
    }
   ],
   "source": [
    "import heapq\n",
    "\n",
    "INF = int(1e9)\n",
    "n, m = map(int, input().split())\n",
    "\n",
    "start = (int(input()))\n",
    "\n",
    "graph = [[] for _ in range(n+1)] # 연결노드와 비용 정보를 담는 graph\n",
    "distance = [INF] * (n+1) # 최단거리 저장\n",
    "\n",
    "for _ in range(m):\n",
    "    a,b,c = map(int, input().split())\n",
    "    graph[a].append((b,c))\n",
    "    \n",
    "def dijkstra(start):\n",
    "    q=[]\n",
    "    heapq.heappush(q, (0,start))\n",
    "    distance[start] = 0\n",
    "    \n",
    "    while q:\n",
    "        dist, now = heapq.heappop(q) # 가장 최단 거리 노드 정보 꺼내기\n",
    "        if distance[now] < dist: continue\n",
    "        \n",
    "        for connect in graph[now]:\n",
    "            cost = dist + connect[1]\n",
    "            \n",
    "            if cost < distance[connect[0]]:\n",
    "                distance[connect[0]] = cost\n",
    "                heapq.heappush(q, (cost, connect[0]))\n",
    "                \n",
    "dijkstra(start)\n",
    "print()\n",
    "\n",
    "for i in range(1, n+1):\n",
    "    if distance[i] == INF: print(\"INFINITY\")\n",
    "    else: print(distance[i], end=' ')"
   ]
  },
  {
   "cell_type": "code",
   "execution_count": 11,
   "metadata": {},
   "outputs": [
    {
     "name": "stdout",
     "output_type": "stream",
     "text": [
      "6 11\n",
      "1\n",
      "1 2 2\n",
      "1 3 5\n",
      "1 4 1\n",
      "2 3 3\n",
      "2 4 2\n",
      "3 2 3\n",
      "3 6 5\n",
      "4 3 3\n",
      "4 5 1\n",
      "5 3 1\n",
      "5 6 2\n",
      "[1000000000, 0, 2, 3, 1, 2, 4]\n"
     ]
    }
   ],
   "source": [
    "import heapq\n",
    "INF = int(1e9)\n",
    "\n",
    "n, m = map(int, input().split())\n",
    "\n",
    "start = int(input())\n",
    "\n",
    "graph = [[] for _ in range(n+1)]\n",
    "distance = [INF] * (n+1)\n",
    "\n",
    "for _ in range(m):\n",
    "    a,b,c = map(int, input().split())\n",
    "    graph[a].append((b,c))\n",
    "    \n",
    "def dijkstra(start):\n",
    "    q = []\n",
    "    heapq.heappush(q, (0, start))\n",
    "    distance[start] = 0\n",
    "    \n",
    "    while q:\n",
    "        dist, now = heapq.heappop(q)\n",
    "        if distance[now] < dist: continue\n",
    "        \n",
    "        for connect in graph[now]:\n",
    "            cost = dist + connect[1]\n",
    "            if cost < distance[connect[0]]:\n",
    "                distance[connect[0]] = cost\n",
    "                heapq.heappush(q, (cost, connect[0]))\n",
    "                \n",
    "dijkstra(start)\n",
    "\n",
    "print(distance)"
   ]
  },
  {
   "cell_type": "code",
   "execution_count": 14,
   "metadata": {},
   "outputs": [
    {
     "name": "stdout",
     "output_type": "stream",
     "text": [
      "6 11\n",
      "1\n",
      "1 2 2\n",
      "1 3 5\n",
      "1 4 1\n",
      "2 3 3\n",
      "2 4 2\n",
      "3 2 3\n",
      "3 6 5\n",
      "4 3 3\n",
      "4 5 1\n",
      "5 3 1\n",
      "5 6 2\n",
      "[1000000000, 0, 2, 3, 1, 2, 4]\n"
     ]
    }
   ],
   "source": [
    "import heapq\n",
    "\n",
    "INF = int(1e9)\n",
    "\n",
    "n,m = map(int, input().split())\n",
    "start = int(input())\n",
    "\n",
    "graph = [[] for _ in range(n+1)]\n",
    "distance = [INF] * (n+1)\n",
    "\n",
    "for _ in range(m):\n",
    "    a,b,c = map(int,input().split())\n",
    "    graph[a].append((b,c))\n",
    "    \n",
    "def dijkstra(start):\n",
    "    q = []\n",
    "    heapq.heappush(q, (0,start))\n",
    "    distance[start] = 0\n",
    "    \n",
    "    while q:\n",
    "        dist, now = heapq.heappop(q)\n",
    "        if distance[now] < dist: continue\n",
    "            \n",
    "        for connect in graph[now]:\n",
    "            cost = dist + connect[1]\n",
    "            if cost < distance[connect[0]]:\n",
    "                distance[connect[0]] = cost\n",
    "                heapq.heappush(q, (cost, connect[0]))\n",
    "                \n",
    "dijkstra(start)\n",
    "\n",
    "print(distance)"
   ]
  },
  {
   "cell_type": "code",
   "execution_count": 17,
   "metadata": {},
   "outputs": [
    {
     "name": "stdout",
     "output_type": "stream",
     "text": [
      "4 7\n",
      "1 2 4\n",
      "1 4 6\n",
      "2 1 3\n",
      "2 3 7\n",
      "3 1 5\n",
      "3 4 4\n",
      "4 3 2\n",
      "[[1000000000, 1000000000, 1000000000, 1000000000, 1000000000], [1000000000, 0, 4, 8, 6], [1000000000, 3, 0, 7, 9], [1000000000, 5, 9, 0, 4], [1000000000, 7, 11, 2, 0]]\n"
     ]
    }
   ],
   "source": [
    "# 플루워셜\n",
    "INF = int(1e9)\n",
    "n, m = map(int, input().split())\n",
    "\n",
    "graph = [[INF]*(n+1) for _ in range(n+1)]\n",
    "\n",
    "for i in range(1,n+1):\n",
    "    for j in range(1, n+1):\n",
    "        if i==j: graph[i][j] = 0\n",
    "            \n",
    "for _ in range(m):\n",
    "    a,b,c = map(int, input().split())\n",
    "    graph[a][b] = c\n",
    "    \n",
    "for k in range(1,n+1):\n",
    "    for a in range(1,n+1):\n",
    "        for b in range(1,n+1):\n",
    "            graph[a][b] = min(graph[a][b],graph[a][k]+graph[k][b])\n",
    "            \n",
    "print(graph)"
   ]
  },
  {
   "cell_type": "code",
   "execution_count": 18,
   "metadata": {},
   "outputs": [
    {
     "name": "stdout",
     "output_type": "stream",
     "text": [
      "4 7\n",
      "1 2 4\n",
      "1 4 6\n",
      "2 1 3\n",
      "2 3 7\n",
      "3 1 5\n",
      "3 4 4\n",
      "4 3 2\n",
      "0 4 8 6 \n",
      "3 0 7 9 \n",
      "5 9 0 4 \n",
      "7 11 2 0 \n"
     ]
    }
   ],
   "source": [
    "INF = int(1e9)\n",
    "\n",
    "n, m = map(int, input().split())\n",
    "graph = [[INF]*(n+1) for _ in range(n+1)]\n",
    "\n",
    "for _ in range(m):\n",
    "    a,b,c = map(int, input().split())\n",
    "    graph[a][b] = c\n",
    "    \n",
    "for i in range(1, n+1):\n",
    "    for j in range(1, n+1):\n",
    "        if i==j: graph[i][j] = 0\n",
    "            \n",
    "for k in range(1, n+1):\n",
    "    for a in range(1, n+1):\n",
    "        for b in range(1, n+1):\n",
    "            graph[a][b] = min(graph[a][b], graph[a][k]+graph[k][b])\n",
    "            \n",
    "for i in range(1, n+1):\n",
    "    for j in range(1, n+1):\n",
    "        if graph[i][j] == INF: continue\n",
    "        print(graph[i][j], end = ' ')\n",
    "    print()"
   ]
  },
  {
   "cell_type": "code",
   "execution_count": 22,
   "metadata": {},
   "outputs": [
    {
     "name": "stdout",
     "output_type": "stream",
     "text": [
      "6 4\n",
      "1 4\n",
      "\n",
      "[0, 1, 2, 3, 1, 5, 6]\n",
      "\n",
      "2 3\n",
      "\n",
      "[0, 1, 2, 2, 1, 5, 6]\n",
      "\n",
      "2 4\n",
      "\n",
      "[0, 1, 1, 2, 1, 5, 6]\n",
      "\n",
      "5 6\n",
      "\n",
      "[0, 1, 1, 2, 1, 5, 5]\n",
      "\n",
      "각 노드 집합 : 1 1 1 1 5 5 \n",
      "Table Parent : 1 1 1 1 5 5 "
     ]
    }
   ],
   "source": [
    "# 서로소\n",
    "\n",
    "def find_parent(parent, x):\n",
    "    if parent[x] != x:\n",
    "        parent[x] = find_parent(parent, parent[x])\n",
    "    return parent[x]\n",
    "\n",
    "def union_parent(parent, a, b):\n",
    "    p_a = find_parent(parent, a)\n",
    "    p_b = find_parent(parent, b)\n",
    "    if p_a < p_b: parent[p_b] = p_a\n",
    "    else: parent[p_a] = p_b\n",
    "        \n",
    "v, e = map(int, input().split())\n",
    "parent = [0] * (v+1)\n",
    "\n",
    "for i in range(1, v+1):\n",
    "    parent[i] = i\n",
    "    \n",
    "for _ in range(e):\n",
    "    a, b = map(int, input().split())\n",
    "    union_parent(parent, a, b)\n",
    "    print()\n",
    "    print(parent)\n",
    "    print()\n",
    "    \n",
    "print('각 노드 집합 : ', end='')\n",
    "for i in range(1,v+1):\n",
    "    print(find_parent(parent, i), end=' ')\n",
    "    \n",
    "print()\n",
    "\n",
    "print('Table Parent : ', end='')\n",
    "for i in range(1, v+1):\n",
    "    print(parent[i], end=' ')"
   ]
  },
  {
   "cell_type": "code",
   "execution_count": 25,
   "metadata": {},
   "outputs": [
    {
     "name": "stdout",
     "output_type": "stream",
     "text": [
      "6 4\n",
      "1 4\n",
      "2 3\n",
      "2 4\n",
      "5 6\n",
      "미발생\n",
      "[0, 1, 1, 2, 1, 5, 5]\n"
     ]
    }
   ],
   "source": [
    "def find_parent(parent, x):\n",
    "    if parent[x] != x:\n",
    "        parent[x] = find_parent(parent, parent[x])\n",
    "    return parent[x]\n",
    "\n",
    "def union_parent(parent, a, b):\n",
    "    p_a = find_parent(parent, a)\n",
    "    p_b = find_parent(parent, b)\n",
    "    if p_a < p_b: parent[p_b] = p_a\n",
    "    else: parent[p_a] = p_b\n",
    "        \n",
    "v, e = map(int, input().split())\n",
    "parent = [i for i in range(0, v+1)]\n",
    "\n",
    "cycle = False\n",
    "\n",
    "for _ in range(e):\n",
    "    a, b = map(int, input().split())\n",
    "    if find_parent(parent, a) == find_parent(parent, b):\n",
    "        cycle = True\n",
    "        break\n",
    "    else:\n",
    "        union_parent(parent, a, b)\n",
    "        \n",
    "if cycle: print('발생')\n",
    "else:\n",
    "    print('미발생')\n",
    "    print(parent)\n",
    "    \n"
   ]
  },
  {
   "cell_type": "code",
   "execution_count": 26,
   "metadata": {},
   "outputs": [
    {
     "name": "stdout",
     "output_type": "stream",
     "text": [
      "7 9\n",
      "1 2 29\n",
      "1 5 75\n",
      "2 3 35\n",
      "2 6 34\n",
      "3 4 7\n",
      "4 6 23\n",
      "4 7 13\n",
      "5 6 53\n",
      "6 7 25\n",
      "159\n"
     ]
    }
   ],
   "source": [
    "# kruskal\n",
    "\n",
    "def find_parent(parent, x):\n",
    "    if parent[x] != x:\n",
    "        parent[x] = find_parent(parent, parent[x])\n",
    "    return parent[x]\n",
    "\n",
    "def union_parent(parent,a,b):\n",
    "    p_a = find_parent(parent,a)\n",
    "    p_b = find_parent(parent,b)\n",
    "    if p_a < p_b: parent[p_b] = p_a\n",
    "    else: parent[p_a] = p_b\n",
    "        \n",
    "v, e = map(int, input().split())\n",
    "parent = [i for i in range(0, v+1)]\n",
    "\n",
    "edges = [] # 간선 정보\n",
    "result = 0 # 최종 비용\n",
    "\n",
    "for _ in range(e):\n",
    "    a,b,cost = map(int, input().split())\n",
    "    edges.append((cost,a,b))\n",
    "    \n",
    "edges.sort()\n",
    "\n",
    "for edge in edges:\n",
    "    cost, a, b = edge\n",
    "    if find_parent(parent, a) != find_parent(parent, b):\n",
    "        union_parent(parent, a, b)\n",
    "        result+=cost\n",
    "        \n",
    "print(result)"
   ]
  },
  {
   "cell_type": "code",
   "execution_count": 27,
   "metadata": {},
   "outputs": [
    {
     "name": "stdout",
     "output_type": "stream",
     "text": [
      "7 8\n",
      "0 1 3\n",
      "1 1 7\n",
      "NO\n",
      "0 7 6\n",
      "1 7 1\n",
      "NO\n",
      "0 3 7\n",
      "0 4 2\n",
      "0 1 1\n",
      "1 1 1\n",
      "YES\n"
     ]
    }
   ],
   "source": [
    "def find_parent(parent, x):\n",
    "    if parent[x] != x:\n",
    "        parent[x] = find_parent(parent, parent[x])\n",
    "    return parent[x]\n",
    "\n",
    "def union_parent(parent, a, b):\n",
    "    p_a = find_parent(parent, a)\n",
    "    p_b = find_parent(parent, b)\n",
    "    if p_a < p_b: parent[p_b] = p_a\n",
    "    else: parent[p_a] = p_b\n",
    "        \n",
    "n, m = map(int, input().split())\n",
    "parent = [i for i in range(n+1)]\n",
    "\n",
    "for _ in range(m):\n",
    "    value, a, b = map(int,input().split())\n",
    "    if value==0:\n",
    "        union_parent(parent, a, b)\n",
    "    elif value==1:\n",
    "        if find_parent(parent,a) == find_parent(parent,b): print(\"YES\")\n",
    "        else: print(\"NO\")"
   ]
  },
  {
   "cell_type": "code",
   "execution_count": 28,
   "metadata": {},
   "outputs": [
    {
     "name": "stdout",
     "output_type": "stream",
     "text": [
      "7 12\n",
      "1 2 3\n",
      "1 3 2\n",
      "3 2 1\n",
      "2 5 2\n",
      "3 4 4\n",
      "7 3 6\n",
      "5 1 5\n",
      "1 6 2\n",
      "6 4 1\n",
      "6 5 3\n",
      "4 5 3\n",
      "6 7 4\n",
      "8\n"
     ]
    }
   ],
   "source": [
    "n, m = map(int, input().split())\n",
    "parent = [i for i in range(n+1)]\n",
    "\n",
    "def find_parent(parent, x):\n",
    "    if parent[x] != x:\n",
    "        parent[x] = find_parent(parent, parent[x])\n",
    "    return parent[x]\n",
    "\n",
    "def union_parent(parent, a, b):\n",
    "    p_a = find_parent(parent, a)\n",
    "    p_b = find_parent(parent, b)\n",
    "    if p_a < p_b: parent[p_b] = p_a\n",
    "    else: parent[p_a] = p_b\n",
    "        \n",
    "edges = []\n",
    "result = 0\n",
    "max_cost = 0\n",
    "\n",
    "for _ in range(m):\n",
    "    a,b,cost = map(int, input().split())\n",
    "    edges.append((cost,a,b))\n",
    "    \n",
    "edges.sort()\n",
    "\n",
    "for edge in edges:\n",
    "    cost, a, b = edge\n",
    "    if find_parent(parent, a) != find_parent(parent, b):\n",
    "        union_parent(parent, a, b)\n",
    "        result+=cost\n",
    "        if max_cost < cost: max_cost = cost\n",
    "            \n",
    "print(result - max_cost)"
   ]
  },
  {
   "cell_type": "code",
   "execution_count": null,
   "metadata": {},
   "outputs": [],
   "source": [
    "from collections import deque\n",
    "\n",
    "n, m = map(int, input().split())\n",
    "\n",
    "graph = [[] for _ in range(n+1)]\n",
    "visited = [False for _ in range(n+1)]\n",
    "\n",
    "for 1 in range(1,m):\n",
    "    "
   ]
  }
 ],
 "metadata": {
  "kernelspec": {
   "display_name": "Python 3",
   "language": "python",
   "name": "python3"
  },
  "language_info": {
   "codemirror_mode": {
    "name": "ipython",
    "version": 3
   },
   "file_extension": ".py",
   "mimetype": "text/x-python",
   "name": "python",
   "nbconvert_exporter": "python",
   "pygments_lexer": "ipython3",
   "version": "3.8.3"
  }
 },
 "nbformat": 4,
 "nbformat_minor": 4
}
