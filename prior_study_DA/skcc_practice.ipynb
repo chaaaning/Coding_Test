{
 "cells": [
  {
   "cell_type": "markdown",
   "id": "09ac74a7-73ec-4147-b732-c64e7e325457",
   "metadata": {},
   "source": [
    "# 데이터 불러오기\n",
    "\n",
    "- 간단하게 데이터를 보면서 이상이 있는 데이터를 점검해 준다"
   ]
  },
  {
   "cell_type": "code",
   "execution_count": 2,
   "id": "6b31441d-3292-4b1d-be9d-73e38c38e268",
   "metadata": {},
   "outputs": [],
   "source": [
    "import pandas as pd\n",
    "import numpy as np\n",
    "import warnings\n",
    "\n",
    "pd.set_option('display.max_rows',None)\n",
    "pd.set_option('display.max_columns',10)\n",
    "warnings.simplefilter('ignore')\n",
    "\n",
    "file_path = 'D:\\\\mydata\\\\데이터분석\\\\FastCampus_전처리\\\\part-5.-머신러닝-모델의-성능-향상을-위한-전처리\\\\5. 머신러닝 모델의 성능 향상을 위한 전처리\\\\데이터\\\\'"
   ]
  },
  {
   "cell_type": "code",
   "execution_count": 4,
   "id": "978b705a-3c77-4e55-a1e5-aadcccf03347",
   "metadata": {},
   "outputs": [
    {
     "name": "stdout",
     "output_type": "stream",
     "text": [
      "<class 'pandas.core.frame.DataFrame'>\n",
      "RangeIndex: 7043 entries, 0 to 7042\n",
      "Data columns (total 21 columns):\n",
      " #   Column            Non-Null Count  Dtype  \n",
      "---  ------            --------------  -----  \n",
      " 0   customerID        7043 non-null   object \n",
      " 1   gender            7043 non-null   object \n",
      " 2   SeniorCitizen     7043 non-null   int64  \n",
      " 3   Partner           7043 non-null   object \n",
      " 4   Dependents        7043 non-null   object \n",
      " 5   tenure            7043 non-null   int64  \n",
      " 6   PhoneService      7043 non-null   object \n",
      " 7   MultipleLines     7043 non-null   object \n",
      " 8   InternetService   7043 non-null   object \n",
      " 9   OnlineSecurity    7043 non-null   object \n",
      " 10  OnlineBackup      7043 non-null   object \n",
      " 11  DeviceProtection  7043 non-null   object \n",
      " 12  TechSupport       7043 non-null   object \n",
      " 13  StreamingTV       7043 non-null   object \n",
      " 14  StreamingMovies   7043 non-null   object \n",
      " 15  Contract          7043 non-null   object \n",
      " 16  PaperlessBilling  7043 non-null   object \n",
      " 17  PaymentMethod     7043 non-null   object \n",
      " 18  MonthlyCharges    7043 non-null   float64\n",
      " 19  TotalCharges      7043 non-null   object \n",
      " 20  Churn             7043 non-null   object \n",
      "dtypes: float64(1), int64(2), object(18)\n",
      "memory usage: 1.1+ MB\n"
     ]
    }
   ],
   "source": [
    "df = pd.read_csv(file_path+'Telco_churn_prediction.csv')\n",
    "df.info()"
   ]
  },
  {
   "cell_type": "code",
   "execution_count": 10,
   "id": "bf505036-e9ca-4a7b-9b30-ba03a52c1037",
   "metadata": {},
   "outputs": [
    {
     "name": "stdout",
     "output_type": "stream",
     "text": [
      "customerID : ['0002-ORFBO', '0003-MKNFE', '0004-TLHLJ', '0011-IGKFF', '0013-EXCHZ', '0013-MHZWF', '0013-SMEOE', '0014-BMAQU', '0015-UOCOJ', '0016-QLJIS'] ::: 7043\n",
      "gender : ['Female', 'Male'] ::: 2\n",
      "SeniorCitizen : [0, 1] ::: 2\n",
      "Partner : ['No', 'Yes'] ::: 2\n",
      "Dependents : ['No', 'Yes'] ::: 2\n",
      "tenure : [0, 1, 2, 3, 4, 5, 6, 7, 8, 9] ::: 73\n",
      "PhoneService : ['No', 'Yes'] ::: 2\n",
      "MultipleLines : ['No', 'No phone service', 'Yes'] ::: 3\n",
      "InternetService : ['DSL', 'Fiber optic', 'No'] ::: 3\n",
      "OnlineSecurity : ['No', 'No internet service', 'Yes'] ::: 3\n",
      "OnlineBackup : ['No', 'No internet service', 'Yes'] ::: 3\n",
      "DeviceProtection : ['No', 'No internet service', 'Yes'] ::: 3\n",
      "TechSupport : ['No', 'No internet service', 'Yes'] ::: 3\n",
      "StreamingTV : ['No', 'No internet service', 'Yes'] ::: 3\n",
      "StreamingMovies : ['No', 'No internet service', 'Yes'] ::: 3\n",
      "Contract : ['Month-to-month', 'One year', 'Two year'] ::: 3\n",
      "PaperlessBilling : ['No', 'Yes'] ::: 2\n",
      "PaymentMethod : ['Bank transfer (automatic)', 'Credit card (automatic)', 'Electronic check', 'Mailed check'] ::: 4\n",
      "MonthlyCharges : [18.25, 18.4, 18.55, 18.7, 18.75, 18.8, 18.85, 18.9, 18.95, 19.0] ::: 1585\n",
      "TotalCharges : [' ', '100.2', '100.25', '100.35', '100.4', '100.8', '100.9', '1001.2', '1001.5', '1003.05'] ::: 6531\n",
      "Churn : ['No', 'Yes'] ::: 2\n"
     ]
    }
   ],
   "source": [
    "for col in df.columns:\n",
    "    print(f'{col} : {sorted(df[col].unique())[:10]} ::: {len(df[col].unique())}')"
   ]
  },
  {
   "cell_type": "markdown",
   "id": "00885406-9911-4d4e-87f2-a40182c15108",
   "metadata": {},
   "source": [
    "# Train, Test 나누기"
   ]
  },
  {
   "cell_type": "code",
   "execution_count": 11,
   "id": "d518dae8-852b-44df-84c3-2769eaf31ad8",
   "metadata": {},
   "outputs": [],
   "source": [
    "X = df.drop(['customerID','Churn'], axis=1)\n",
    "Y = df['Churn']\n",
    "\n",
    "from sklearn.model_selection import train_test_split\n",
    "\n",
    "x_train, x_test, y_train, y_test = train_test_split(X,Y)"
   ]
  },
  {
   "cell_type": "code",
   "execution_count": 12,
   "id": "1e5f26cb-a918-4d6e-8db9-654e10284e90",
   "metadata": {},
   "outputs": [
    {
     "name": "stdout",
     "output_type": "stream",
     "text": [
      "<class 'pandas.core.frame.DataFrame'>\n",
      "Int64Index: 5282 entries, 6055 to 4265\n",
      "Data columns (total 19 columns):\n",
      " #   Column            Non-Null Count  Dtype  \n",
      "---  ------            --------------  -----  \n",
      " 0   gender            5282 non-null   object \n",
      " 1   SeniorCitizen     5282 non-null   int64  \n",
      " 2   Partner           5282 non-null   object \n",
      " 3   Dependents        5282 non-null   object \n",
      " 4   tenure            5282 non-null   int64  \n",
      " 5   PhoneService      5282 non-null   object \n",
      " 6   MultipleLines     5282 non-null   object \n",
      " 7   InternetService   5282 non-null   object \n",
      " 8   OnlineSecurity    5282 non-null   object \n",
      " 9   OnlineBackup      5282 non-null   object \n",
      " 10  DeviceProtection  5282 non-null   object \n",
      " 11  TechSupport       5282 non-null   object \n",
      " 12  StreamingTV       5282 non-null   object \n",
      " 13  StreamingMovies   5282 non-null   object \n",
      " 14  Contract          5282 non-null   object \n",
      " 15  PaperlessBilling  5282 non-null   object \n",
      " 16  PaymentMethod     5282 non-null   object \n",
      " 17  MonthlyCharges    5282 non-null   float64\n",
      " 18  TotalCharges      5282 non-null   object \n",
      "dtypes: float64(1), int64(2), object(16)\n",
      "memory usage: 825.3+ KB\n"
     ]
    }
   ],
   "source": [
    "x_train.info()"
   ]
  },
  {
   "cell_type": "code",
   "execution_count": 16,
   "id": "c5370d3b-cd2a-4517-8218-fc56eaf38e7d",
   "metadata": {
    "scrolled": true,
    "tags": []
   },
   "outputs": [],
   "source": [
    "# 위에서 봤던 내용중 TotalCharges가 이상한 점을 고쳐준다\n",
    "x_train['TotalCharges'].replace(' ', np.nan, inplace=True)\n",
    "x_test['TotalCharges'].replace(' ', np.nan, inplace=True)\n",
    "\n",
    "x_train['TotalCharges'] = x_train['TotalCharges'].astype(float)\n",
    "x_test['TotalCharges'] = x_test['TotalCharges'].astype(float)"
   ]
  },
  {
   "cell_type": "code",
   "execution_count": 17,
   "id": "bcc1917a-cb53-4fae-8e8e-fce14cec6471",
   "metadata": {},
   "outputs": [
    {
     "data": {
      "text/plain": [
       "dtype('float64')"
      ]
     },
     "execution_count": 17,
     "metadata": {},
     "output_type": "execute_result"
    }
   ],
   "source": [
    "x_train['TotalCharges'].dtype"
   ]
  },
  {
   "cell_type": "markdown",
   "id": "2557c4a4-0a13-4724-8f1f-207bc9d7dd9d",
   "metadata": {},
   "source": [
    "# 범주형 변수 찾고 바꾸기"
   ]
  },
  {
   "cell_type": "code",
   "execution_count": 18,
   "id": "8d862b8e-e272-4cee-847c-d0ccc4b31110",
   "metadata": {},
   "outputs": [
    {
     "data": {
      "text/plain": [
       "['gender',\n",
       " 'Partner',\n",
       " 'Dependents',\n",
       " 'PhoneService',\n",
       " 'MultipleLines',\n",
       " 'InternetService',\n",
       " 'OnlineSecurity',\n",
       " 'OnlineBackup',\n",
       " 'DeviceProtection',\n",
       " 'TechSupport',\n",
       " 'StreamingTV',\n",
       " 'StreamingMovies',\n",
       " 'Contract',\n",
       " 'PaperlessBilling',\n",
       " 'PaymentMethod']"
      ]
     },
     "execution_count": 18,
     "metadata": {},
     "output_type": "execute_result"
    }
   ],
   "source": [
    "category_cols = [col for col in x_train.columns if x_train[col].dtype==object]\n",
    "category_cols"
   ]
  },
  {
   "cell_type": "code",
   "execution_count": 19,
   "id": "0e8b9b45-af14-412b-bd48-cefc025808d8",
   "metadata": {},
   "outputs": [],
   "source": [
    "def make_suffix(df):\n",
    "    import pandas as pd\n",
    "    \n",
    "    col_names = []\n",
    "    suffix_names = []\n",
    "    \n",
    "    for col in df.columns:\n",
    "        values = sorted(df[col].unique())[1:]\n",
    "        suffix_names += values\n",
    "        col_names += [col]*(len(values))\n",
    "        \n",
    "    return list(pd.Series(col_names)+'_'+pd.Series(suffix_names))"
   ]
  },
  {
   "cell_type": "code",
   "execution_count": 25,
   "id": "14722629-34c4-41f7-b4fd-3967f0ce962e",
   "metadata": {},
   "outputs": [],
   "source": [
    "from sklearn.preprocessing import OneHotEncoder as OHE\n",
    "\n",
    "dummy_model = OHE(drop='first', sparse=False).fit(x_train[category_cols])\n",
    "\n",
    "x_train_ohe = pd.DataFrame(dummy_model.transform(x_train[category_cols]), columns = make_suffix(x_train[category_cols]))\n",
    "x_test_ohe = pd.DataFrame(dummy_model.transform(x_test[category_cols]), columns = make_suffix(x_test[category_cols]))\n",
    "\n",
    "x_train_ohe.index = x_train.index\n",
    "x_test_ohe.index = x_test.index\n",
    "\n",
    "x_train = pd.concat([x_train.drop(category_cols, axis=1), x_train_ohe], axis=1)\n",
    "x_test = pd.concat([x_test.drop(category_cols, axis=1), x_test_ohe], axis=1)"
   ]
  },
  {
   "cell_type": "code",
   "execution_count": 26,
   "id": "86740a6c-4c32-4e6b-9bc5-d57f9159141c",
   "metadata": {},
   "outputs": [
    {
     "data": {
      "text/html": [
       "<div>\n",
       "<style scoped>\n",
       "    .dataframe tbody tr th:only-of-type {\n",
       "        vertical-align: middle;\n",
       "    }\n",
       "\n",
       "    .dataframe tbody tr th {\n",
       "        vertical-align: top;\n",
       "    }\n",
       "\n",
       "    .dataframe thead th {\n",
       "        text-align: right;\n",
       "    }\n",
       "</style>\n",
       "<table border=\"1\" class=\"dataframe\">\n",
       "  <thead>\n",
       "    <tr style=\"text-align: right;\">\n",
       "      <th></th>\n",
       "      <th>SeniorCitizen</th>\n",
       "      <th>tenure</th>\n",
       "      <th>MonthlyCharges</th>\n",
       "      <th>TotalCharges</th>\n",
       "      <th>gender_Male</th>\n",
       "      <th>...</th>\n",
       "      <th>Contract_Two year</th>\n",
       "      <th>PaperlessBilling_Yes</th>\n",
       "      <th>PaymentMethod_Credit card (automatic)</th>\n",
       "      <th>PaymentMethod_Electronic check</th>\n",
       "      <th>PaymentMethod_Mailed check</th>\n",
       "    </tr>\n",
       "  </thead>\n",
       "  <tbody>\n",
       "    <tr>\n",
       "      <th>6055</th>\n",
       "      <td>0</td>\n",
       "      <td>6</td>\n",
       "      <td>55.00</td>\n",
       "      <td>340.4</td>\n",
       "      <td>0.0</td>\n",
       "      <td>...</td>\n",
       "      <td>0.0</td>\n",
       "      <td>1.0</td>\n",
       "      <td>0.0</td>\n",
       "      <td>1.0</td>\n",
       "      <td>0.0</td>\n",
       "    </tr>\n",
       "    <tr>\n",
       "      <th>1835</th>\n",
       "      <td>0</td>\n",
       "      <td>1</td>\n",
       "      <td>45.00</td>\n",
       "      <td>45.0</td>\n",
       "      <td>0.0</td>\n",
       "      <td>...</td>\n",
       "      <td>0.0</td>\n",
       "      <td>1.0</td>\n",
       "      <td>0.0</td>\n",
       "      <td>1.0</td>\n",
       "      <td>0.0</td>\n",
       "    </tr>\n",
       "    <tr>\n",
       "      <th>5305</th>\n",
       "      <td>0</td>\n",
       "      <td>43</td>\n",
       "      <td>78.80</td>\n",
       "      <td>3460.3</td>\n",
       "      <td>0.0</td>\n",
       "      <td>...</td>\n",
       "      <td>1.0</td>\n",
       "      <td>1.0</td>\n",
       "      <td>0.0</td>\n",
       "      <td>1.0</td>\n",
       "      <td>0.0</td>\n",
       "    </tr>\n",
       "    <tr>\n",
       "      <th>694</th>\n",
       "      <td>1</td>\n",
       "      <td>22</td>\n",
       "      <td>20.05</td>\n",
       "      <td>417.0</td>\n",
       "      <td>0.0</td>\n",
       "      <td>...</td>\n",
       "      <td>0.0</td>\n",
       "      <td>1.0</td>\n",
       "      <td>0.0</td>\n",
       "      <td>0.0</td>\n",
       "      <td>1.0</td>\n",
       "    </tr>\n",
       "    <tr>\n",
       "      <th>1749</th>\n",
       "      <td>1</td>\n",
       "      <td>52</td>\n",
       "      <td>110.75</td>\n",
       "      <td>5832.0</td>\n",
       "      <td>1.0</td>\n",
       "      <td>...</td>\n",
       "      <td>0.0</td>\n",
       "      <td>1.0</td>\n",
       "      <td>0.0</td>\n",
       "      <td>1.0</td>\n",
       "      <td>0.0</td>\n",
       "    </tr>\n",
       "  </tbody>\n",
       "</table>\n",
       "<p>5 rows × 30 columns</p>\n",
       "</div>"
      ],
      "text/plain": [
       "      SeniorCitizen  tenure  MonthlyCharges  TotalCharges  gender_Male  ...  \\\n",
       "6055              0       6           55.00         340.4          0.0  ...   \n",
       "1835              0       1           45.00          45.0          0.0  ...   \n",
       "5305              0      43           78.80        3460.3          0.0  ...   \n",
       "694               1      22           20.05         417.0          0.0  ...   \n",
       "1749              1      52          110.75        5832.0          1.0  ...   \n",
       "\n",
       "      Contract_Two year  PaperlessBilling_Yes  \\\n",
       "6055                0.0                   1.0   \n",
       "1835                0.0                   1.0   \n",
       "5305                1.0                   1.0   \n",
       "694                 0.0                   1.0   \n",
       "1749                0.0                   1.0   \n",
       "\n",
       "      PaymentMethod_Credit card (automatic)  PaymentMethod_Electronic check  \\\n",
       "6055                                    0.0                             1.0   \n",
       "1835                                    0.0                             1.0   \n",
       "5305                                    0.0                             1.0   \n",
       "694                                     0.0                             0.0   \n",
       "1749                                    0.0                             1.0   \n",
       "\n",
       "      PaymentMethod_Mailed check  \n",
       "6055                         0.0  \n",
       "1835                         0.0  \n",
       "5305                         0.0  \n",
       "694                          1.0  \n",
       "1749                         0.0  \n",
       "\n",
       "[5 rows x 30 columns]"
      ]
     },
     "execution_count": 26,
     "metadata": {},
     "output_type": "execute_result"
    }
   ],
   "source": [
    "x_train.head()"
   ]
  },
  {
   "cell_type": "markdown",
   "id": "2272f8e0-3d38-4aeb-9aae-f1735b3f908c",
   "metadata": {},
   "source": [
    "# 결측값 처리"
   ]
  },
  {
   "cell_type": "code",
   "execution_count": 29,
   "id": "9c9fde30-dd79-4374-bd4a-f06b98c25a03",
   "metadata": {},
   "outputs": [],
   "source": [
    "from sklearn.impute import KNNImputer\n",
    "\n",
    "KI = KNNImputer(n_neighbors = 5)\n",
    "KI.fit(x_train)\n",
    "\n",
    "x_train = pd.DataFrame(KI.transform(x_train), columns=x_train.columns)\n",
    "x_test = pd.DataFrame(KI.transform(x_test), columns=x_test.columns)"
   ]
  },
  {
   "cell_type": "code",
   "execution_count": 30,
   "id": "8402e382-bbf5-4754-ba4f-c2a806496c66",
   "metadata": {},
   "outputs": [
    {
     "data": {
      "text/plain": [
       "SeniorCitizen                            0\n",
       "tenure                                   0\n",
       "MonthlyCharges                           0\n",
       "TotalCharges                             0\n",
       "gender_Male                              0\n",
       "Partner_Yes                              0\n",
       "Dependents_Yes                           0\n",
       "PhoneService_Yes                         0\n",
       "MultipleLines_No phone service           0\n",
       "MultipleLines_Yes                        0\n",
       "InternetService_Fiber optic              0\n",
       "InternetService_No                       0\n",
       "OnlineSecurity_No internet service       0\n",
       "OnlineSecurity_Yes                       0\n",
       "OnlineBackup_No internet service         0\n",
       "OnlineBackup_Yes                         0\n",
       "DeviceProtection_No internet service     0\n",
       "DeviceProtection_Yes                     0\n",
       "TechSupport_No internet service          0\n",
       "TechSupport_Yes                          0\n",
       "StreamingTV_No internet service          0\n",
       "StreamingTV_Yes                          0\n",
       "StreamingMovies_No internet service      0\n",
       "StreamingMovies_Yes                      0\n",
       "Contract_One year                        0\n",
       "Contract_Two year                        0\n",
       "PaperlessBilling_Yes                     0\n",
       "PaymentMethod_Credit card (automatic)    0\n",
       "PaymentMethod_Electronic check           0\n",
       "PaymentMethod_Mailed check               0\n",
       "dtype: int64"
      ]
     },
     "execution_count": 30,
     "metadata": {},
     "output_type": "execute_result"
    }
   ],
   "source": [
    "x_train.isna().sum()"
   ]
  },
  {
   "cell_type": "markdown",
   "id": "1eaa7a37-1747-42ee-aac7-81b98b98f963",
   "metadata": {},
   "source": [
    "# 연속형, 이산형 변수 분리"
   ]
  },
  {
   "cell_type": "code",
   "execution_count": 31,
   "id": "6773ccf7-6f1f-4e9c-9d24-e5339c7ff5ff",
   "metadata": {},
   "outputs": [],
   "source": [
    "cont_cols = [col for col in x_train.columns if len(x_train[col].unique()) > 3]\n",
    "cate_cols = [col for col in x_train.columns if len(x_train[col].unique()) <= 3] "
   ]
  },
  {
   "cell_type": "code",
   "execution_count": 32,
   "id": "efe00f2b-5ad4-4db3-bac6-47f4c2866043",
   "metadata": {},
   "outputs": [
    {
     "data": {
      "text/plain": [
       "['tenure', 'MonthlyCharges', 'TotalCharges']"
      ]
     },
     "execution_count": 32,
     "metadata": {},
     "output_type": "execute_result"
    }
   ],
   "source": [
    "cont_cols"
   ]
  },
  {
   "cell_type": "markdown",
   "id": "9789cf4e-77ce-4efd-a15b-89b2544cc328",
   "metadata": {},
   "source": [
    "# 이상값 처리"
   ]
  },
  {
   "cell_type": "code",
   "execution_count": 37,
   "id": "4419960d-886a-401e-bb29-ad79a2b286cb",
   "metadata": {},
   "outputs": [
    {
     "name": "stdout",
     "output_type": "stream",
     "text": [
      "tenure            0\n",
      "MonthlyCharges    0\n",
      "TotalCharges      0\n",
      "dtype: int64\n"
     ]
    }
   ],
   "source": [
    "def IQR_Rule(arr):\n",
    "    q1 = np.quantile(arr, 0.25)\n",
    "    q3 = np.quantile(arr, 0.75)\n",
    "    IQR = q3-q1\n",
    "    \n",
    "    not_outliers_cond = (q1-1.5*IQR < arr) & (q3+1.5*IQR > arr)\n",
    "    return not_outliers_cond\n",
    "\n",
    "num_outliers = len(x_train) - x_train[cont_cols].apply(IQR_Rule).sum(axis=0)\n",
    "print(num_outliers)"
   ]
  },
  {
   "cell_type": "markdown",
   "id": "1d743e1f-2d08-4ca9-bff2-bfdb876d0036",
   "metadata": {},
   "source": [
    "# 라벨 분포 확인 및 under / over sampling 결정"
   ]
  },
  {
   "cell_type": "code",
   "execution_count": 44,
   "id": "f76d0222-9df5-4c26-853c-ff3c9af6adee",
   "metadata": {},
   "outputs": [
    {
     "data": {
      "text/plain": [
       "No     3887\n",
       "Yes    1395\n",
       "Name: Churn, dtype: int64"
      ]
     },
     "execution_count": 44,
     "metadata": {},
     "output_type": "execute_result"
    }
   ],
   "source": [
    "y_train.value_counts()"
   ]
  },
  {
   "cell_type": "code",
   "execution_count": 46,
   "id": "2092d2fd-085e-48c4-ae21-29c46ffb93eb",
   "metadata": {},
   "outputs": [],
   "source": [
    "y_train.replace({'No':-1, 'Yes':1}, inplace=True)\n",
    "y_test.replace({'No':-1, 'Yes':1}, inplace=True)"
   ]
  },
  {
   "cell_type": "code",
   "execution_count": 47,
   "id": "0ac72c29-5c0c-49b3-b4dd-95077d9ab2e2",
   "metadata": {},
   "outputs": [
    {
     "name": "stdout",
     "output_type": "stream",
     "text": [
      "              precision    recall  f1-score   support\n",
      "\n",
      "          -1       0.81      0.89      0.84      1287\n",
      "           1       0.58      0.42      0.49       474\n",
      "\n",
      "    accuracy                           0.76      1761\n",
      "   macro avg       0.69      0.65      0.67      1761\n",
      "weighted avg       0.74      0.76      0.75      1761\n",
      "\n"
     ]
    }
   ],
   "source": [
    "from sklearn.neighbors import KNeighborsClassifier as KNN\n",
    "from sklearn.metrics import classification_report\n",
    "\n",
    "kNN_model = KNN(n_neighbors=5).fit(x_train, y_train)\n",
    "y_pred = kNN_model.predict(x_test)\n",
    "print(classification_report(y_test, y_pred))"
   ]
  },
  {
   "cell_type": "markdown",
   "id": "5a219a59-dc11-496c-b21c-306eb7d26261",
   "metadata": {},
   "source": [
    "# 자기상관성 처리"
   ]
  },
  {
   "cell_type": "code",
   "execution_count": 48,
   "id": "dedaa5c7-9dca-4c2c-a20f-6091f3629fc4",
   "metadata": {},
   "outputs": [
    {
     "data": {
      "text/plain": [
       "{'SeniorCitizen': 1.1499468523689165,\n",
       " 'tenure': 7.459827433693643,\n",
       " 'MonthlyCharges': 864.8671144621196,\n",
       " 'TotalCharges': 10.777548214085673,\n",
       " 'gender_Male': 1.0031933180149726,\n",
       " 'Partner_Yes': 1.4715067736960434,\n",
       " 'Dependents_Yes': 1.3904162883739417,\n",
       " 'PhoneService_Yes': inf,\n",
       " 'MultipleLines_No phone service': inf,\n",
       " 'MultipleLines_Yes': 7.316938107307301,\n",
       " 'InternetService_Fiber optic': 149.062072451942,\n",
       " 'InternetService_No': inf,\n",
       " 'OnlineSecurity_No internet service': inf,\n",
       " 'OnlineSecurity_Yes': 6.366915527469948,\n",
       " 'OnlineBackup_No internet service': inf,\n",
       " 'OnlineBackup_Yes': 6.771951594159919,\n",
       " 'DeviceProtection_No internet service': inf,\n",
       " 'DeviceProtection_Yes': 6.95170176049174,\n",
       " 'TechSupport_No internet service': inf,\n",
       " 'TechSupport_Yes': 6.508675028003128,\n",
       " 'StreamingTV_No internet service': inf,\n",
       " 'StreamingTV_Yes': 24.250919287001807,\n",
       " 'StreamingMovies_No internet service': inf,\n",
       " 'StreamingMovies_Yes': 24.158351314751492,\n",
       " 'Contract_One year': 1.617380770975177,\n",
       " 'Contract_Two year': 2.6192082543975324,\n",
       " 'PaperlessBilling_Yes': 1.1979317670734946,\n",
       " 'PaymentMethod_Credit card (automatic)': 1.557858805505974,\n",
       " 'PaymentMethod_Electronic check': 1.9695937598182331,\n",
       " 'PaymentMethod_Mailed check': 1.8568938818131497}"
      ]
     },
     "execution_count": 48,
     "metadata": {},
     "output_type": "execute_result"
    }
   ],
   "source": [
    "from sklearn.linear_model import LinearRegression as LR\n",
    "\n",
    "VIF_dict = dict()\n",
    "\n",
    "for col in x_train.columns:\n",
    "    model = LR().fit(x_train.drop(col, axis=1), x_train[col])\n",
    "    r2 = model.score(x_train.drop(col, axis=1), x_train[col])\n",
    "    VIF = 1/(1-r2)\n",
    "    VIF_dict[col] = VIF\n",
    "\n",
    "VIF_dict"
   ]
  },
  {
   "cell_type": "code",
   "execution_count": 49,
   "id": "7c86df76-8fab-47b4-a65c-3ea5d586ba76",
   "metadata": {},
   "outputs": [
    {
     "data": {
      "text/plain": [
       "['MonthlyCharges',\n",
       " 'PhoneService_Yes',\n",
       " 'MultipleLines_No phone service',\n",
       " 'InternetService_Fiber optic',\n",
       " 'InternetService_No',\n",
       " 'OnlineSecurity_No internet service',\n",
       " 'OnlineBackup_No internet service',\n",
       " 'DeviceProtection_No internet service',\n",
       " 'TechSupport_No internet service',\n",
       " 'StreamingTV_No internet service',\n",
       " 'StreamingMovies_No internet service']"
      ]
     },
     "execution_count": 49,
     "metadata": {},
     "output_type": "execute_result"
    }
   ],
   "source": [
    "remove_cols = [key for key in VIF_dict.keys() if VIF_dict[key]>30]\n",
    "remove_cols"
   ]
  },
  {
   "cell_type": "code",
   "execution_count": 50,
   "id": "82b0600f-8f80-4387-a435-b35cb37f488e",
   "metadata": {},
   "outputs": [],
   "source": [
    "r_x_train = x_train.drop(remove_cols, axis=1)\n",
    "r_x_test = x_test.drop(remove_cols, axis=1)\n",
    "\n",
    "cont_cols = list(set(cont_cols)-set(remove_cols))\n",
    "cate_cols = list(set(cate_cols)-set(remove_cols))"
   ]
  },
  {
   "cell_type": "markdown",
   "id": "e77655af-1c32-4fb7-af1f-62a9ed207f4f",
   "metadata": {},
   "source": [
    "# 왜도 처리"
   ]
  },
  {
   "cell_type": "code",
   "execution_count": 55,
   "id": "6d7f82b3-11d8-48e5-b2d8-be98402c0699",
   "metadata": {},
   "outputs": [
    {
     "data": {
      "text/plain": [
       "tenure          0.232309\n",
       "TotalCharges    0.957825\n",
       "dtype: float64"
      ]
     },
     "execution_count": 55,
     "metadata": {},
     "output_type": "execute_result"
    }
   ],
   "source": [
    "x_train[cont_cols].skew()"
   ]
  },
  {
   "cell_type": "code",
   "execution_count": 63,
   "id": "f24da5ee-0f4b-4130-9553-f75cfe3e94d6",
   "metadata": {},
   "outputs": [],
   "source": [
    "# 왜도가 1.5 이상 컬럼 처리\n",
    "biased_cols = x_train[cont_cols].columns[x_train[cont_cols].skew().abs() > 1.5]\n",
    "x_train_bias = x_train[biased_cols] - x_train[biased_cols].min()+1\n",
    "x_train_bias = np.log10(x_train_bias)"
   ]
  },
  {
   "cell_type": "markdown",
   "id": "ba576b9b-7163-4b00-8a61-8e3ee645f07a",
   "metadata": {},
   "source": [
    "# 스케일링"
   ]
  },
  {
   "cell_type": "code",
   "execution_count": 65,
   "id": "e5f4ef4e-710d-4f8c-83e7-fa0969b5354a",
   "metadata": {},
   "outputs": [],
   "source": [
    "from sklearn.preprocessing import MinMaxScaler\n",
    "\n",
    "MMS = MinMaxScaler().fit(x_train)\n",
    "s_x_train = pd.DataFrame(MMS.transform(x_train), columns=x_train.columns)\n",
    "s_x_test = pd.DataFrame(MMS.transform(x_test), columns=x_test.columns)"
   ]
  },
  {
   "cell_type": "markdown",
   "id": "7fc548cb-d889-40c2-bcea-c0f7d0776dee",
   "metadata": {},
   "source": [
    "# 변수 선택 및 파라미터 그리드 튜닝"
   ]
  },
  {
   "cell_type": "code",
   "execution_count": 70,
   "id": "490aaa25-a591-4e90-a003-c462bdd7a3ae",
   "metadata": {},
   "outputs": [],
   "source": [
    "from sklearn.ensemble import RandomForestClassifier as RFC\n",
    "from sklearn.tree import DecisionTreeClassifier as DTC\n",
    "from sklearn.linear_model import LogisticRegression as LGR\n",
    "from sklearn.neighbors import KNeighborsClassifier as KNN\n",
    "from sklearn.metrics import f1_score, accuracy_score, classification_report\n",
    "from sklearn.feature_selection import chi2, f_classif\n",
    "from sklearn.model_selection import ParameterGrid as PG\n",
    "\n",
    "model_params_grid = dict()\n",
    "\n",
    "model_params_grid[RFC] = PG({'max_depth':[2,3,4,5,6],\n",
    "                             'n_estimators':[5,10,15,25,50,100]})\n",
    "model_params_grid[DTC] = PG({'max_depth':[2,3,4,5,6],\n",
    "                             'min_samples_leaf':[1,2,3,4,5]})\n",
    "model_params_grid[LGR] = PG({'C':[0.0001, 0.001, 0.005, 0.01, 0.05, 0.1],\n",
    "                             'max_iter':[10,100,1000,10000,100000]})\n",
    "model_params_grid[KNN] = PG({'n_neighbors':[3,5,7,9,11]})"
   ]
  },
  {
   "cell_type": "code",
   "execution_count": 72,
   "id": "67c8a36d-ee90-462e-a3e9-05965dc8cc36",
   "metadata": {},
   "outputs": [
    {
     "data": {
      "text/plain": [
       "tenure                                   3.654332e-154\n",
       "Contract_Two year                         2.418767e-82\n",
       "PaymentMethod_Electronic check            4.231311e-71\n",
       "TotalCharges                              8.405870e-47\n",
       "Contract_One year                         8.491780e-31\n",
       "TechSupport_Yes                           2.746091e-26\n",
       "OnlineSecurity_Yes                        1.150619e-25\n",
       "SeniorCitizen                             4.926435e-23\n",
       "Dependents_Yes                            2.845288e-22\n",
       "PaymentMethod_Credit card (automatic)     8.185773e-21\n",
       "PaperlessBilling_Yes                      2.064023e-17\n",
       "Partner_Yes                               4.712542e-14\n",
       "PaymentMethod_Mailed check                2.383749e-08\n",
       "OnlineBackup_Yes                          9.881768e-07\n",
       "DeviceProtection_Yes                      8.002919e-05\n",
       "StreamingTV_Yes                           4.105794e-04\n",
       "StreamingMovies_Yes                       7.514375e-04\n",
       "MultipleLines_Yes                         5.608627e-02\n",
       "gender_Male                               9.667068e-01\n",
       "dtype: float64"
      ]
     },
     "execution_count": 72,
     "metadata": {},
     "output_type": "execute_result"
    }
   ],
   "source": [
    "cont_cols_pval = f_classif(s_x_train[cont_cols], y_train)[1]\n",
    "cate_cols_pval = chi2(s_x_train[cate_cols], y_train)[1]\n",
    "\n",
    "cont_pvals = pd.Series(cont_cols_pval, index=cont_cols)\n",
    "cate_pvals = pd.Series(cate_cols_pval, index=cate_cols)\n",
    "\n",
    "pvals = pd.concat([cont_pvals, cate_pvals])\n",
    "pvals.sort_values(ascending=True, inplace=True)\n",
    "\n",
    "pvals"
   ]
  },
  {
   "cell_type": "code",
   "execution_count": 75,
   "id": "afa13903-973d-4b5a-8fca-5299987a107a",
   "metadata": {
    "scrolled": true,
    "tags": []
   },
   "outputs": [
    {
     "name": "stdout",
     "output_type": "stream",
     "text": [
      "30\n",
      "29\n",
      "28\n",
      "27\n",
      "26\n",
      "25\n",
      "24\n",
      "23\n",
      "22\n",
      "21\n",
      "20\n",
      "19\n",
      "18\n",
      "17\n",
      "16\n",
      "15\n",
      "14\n",
      "13\n",
      "12\n",
      "11\n",
      "10\n",
      "9\n",
      "8\n",
      "7\n",
      "6\n"
     ]
    }
   ],
   "source": [
    "best_score = 0\n",
    "for k in range(len(s_x_train.columns),5,-1):\n",
    "    print(k)\n",
    "    ss_x_train = s_x_train[pvals.iloc[:k].index]\n",
    "    ss_x_test = s_x_test[pvals.iloc[:k].index]\n",
    "    for M in model_params_grid.keys():\n",
    "        for P in model_params_grid[M]:\n",
    "            model = M(**P).fit(ss_x_train, y_train)\n",
    "            y_pred = model.predict(ss_x_test)\n",
    "            score = f1_score(y_test, y_pred, average='weighted')\n",
    "            \n",
    "            if score > best_score:\n",
    "                best_score = score.mean()\n",
    "                best_model = M\n",
    "                best_params = P\n",
    "                best_feature = ss_x_train.columns\n",
    "                report = classification_report(y_test, y_pred)"
   ]
  },
  {
   "cell_type": "markdown",
   "id": "80346738-2f63-41cd-86dd-3706d0e4929c",
   "metadata": {},
   "source": [
    "# 결과 확인"
   ]
  },
  {
   "cell_type": "code",
   "execution_count": 76,
   "id": "7f3d6ff5-6384-4d05-954f-149b075b42f2",
   "metadata": {},
   "outputs": [
    {
     "name": "stdout",
     "output_type": "stream",
     "text": [
      "best_score : 0.7851572746580283\n",
      "best_model : <class 'sklearn.linear_model._logistic.LogisticRegression'>\n",
      "best_params : {'C': 0.1, 'max_iter': 100}\n",
      "best_features : Index(['tenure', 'Contract_Two year', 'PaymentMethod_Electronic check',\n",
      "       'TotalCharges', 'Contract_One year', 'TechSupport_Yes',\n",
      "       'OnlineSecurity_Yes', 'SeniorCitizen', 'Dependents_Yes',\n",
      "       'PaymentMethod_Credit card (automatic)', 'PaperlessBilling_Yes',\n",
      "       'Partner_Yes', 'PaymentMethod_Mailed check', 'OnlineBackup_Yes',\n",
      "       'DeviceProtection_Yes', 'StreamingTV_Yes', 'StreamingMovies_Yes',\n",
      "       'MultipleLines_Yes', 'gender_Male'],\n",
      "      dtype='object')\n",
      "==================================================\n",
      "              precision    recall  f1-score   support\n",
      "\n",
      "          -1       0.82      0.92      0.87      1287\n",
      "           1       0.69      0.46      0.55       474\n",
      "\n",
      "    accuracy                           0.80      1761\n",
      "   macro avg       0.76      0.69      0.71      1761\n",
      "weighted avg       0.79      0.80      0.79      1761\n",
      "\n"
     ]
    }
   ],
   "source": [
    "print(f'best_score : {best_score}')\n",
    "print(f'best_model : {best_model}')\n",
    "print(f'best_params : {best_params}')\n",
    "print(f'best_features : {best_feature}')\n",
    "print('='*50)\n",
    "print(report)"
   ]
  },
  {
   "cell_type": "markdown",
   "id": "e607ebb1-03ab-410f-b332-55f7c39d9c3d",
   "metadata": {},
   "source": [
    "# 최종 분류/예측치 내보내기"
   ]
  },
  {
   "cell_type": "code",
   "execution_count": 80,
   "id": "15fa2a6b-da96-4f77-83f8-db6e96793f48",
   "metadata": {},
   "outputs": [
    {
     "name": "stdout",
     "output_type": "stream",
     "text": [
      "0.7989778534923339\n",
      "0.8127984323266394\n",
      "              precision    recall  f1-score   support\n",
      "\n",
      "          -1       0.92      0.82      0.87      1441\n",
      "           1       0.46      0.69      0.55       320\n",
      "\n",
      "    accuracy                           0.80      1761\n",
      "   macro avg       0.69      0.76      0.71      1761\n",
      "weighted avg       0.84      0.80      0.81      1761\n",
      "\n"
     ]
    }
   ],
   "source": [
    "lgr_model = LGR(C=0.1, max_iter=100).fit(s_x_train[best_feature], y_train)\n",
    "y_pred = lgr_model.predict(s_x_test[best_feature])\n",
    "print(accuracy_score(y_pred, y_test))\n",
    "print(f1_score(y_pred, y_test, average='weighted'))\n",
    "print(classification_report(y_pred, y_test))"
   ]
  },
  {
   "cell_type": "code",
   "execution_count": 83,
   "id": "62b249cd-2a68-4f13-b343-a0d722bf4098",
   "metadata": {},
   "outputs": [],
   "source": [
    "last_x_train = pd.concat([s_x_train[best_feature], s_x_test[best_feature]], axis=0)\n",
    "last_y_train = pd.concat([y_train, y_test], axis=0)"
   ]
  },
  {
   "cell_type": "code",
   "execution_count": null,
   "id": "fc689d70-acb6-4b6e-a7ce-e8ae30b18593",
   "metadata": {},
   "outputs": [],
   "source": [
    "'''\n",
    "lgr_model = LGR(C=0.1, max_iter=100).fit(last_x_train, last_y_train)\n",
    "last_y_pred = lgr_model.predict(test_data)\n",
    "last_y_pred.to_csv('last_result.csv', index=False)\n",
    "'''"
   ]
  }
 ],
 "metadata": {
  "kernelspec": {
   "display_name": "Python 3.9.7 ('base')",
   "language": "python",
   "name": "python3"
  },
  "language_info": {
   "codemirror_mode": {
    "name": "ipython",
    "version": 3
   },
   "file_extension": ".py",
   "mimetype": "text/x-python",
   "name": "python",
   "nbconvert_exporter": "python",
   "pygments_lexer": "ipython3",
   "version": "3.9.7"
  },
  "vscode": {
   "interpreter": {
    "hash": "50034b68e9b98899a04feadd8fc19768ea928501eeb75ec01a270fd8dda7ce40"
   }
  }
 },
 "nbformat": 4,
 "nbformat_minor": 5
}
