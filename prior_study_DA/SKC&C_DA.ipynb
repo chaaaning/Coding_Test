{
 "cells": [
  {
   "cell_type": "code",
   "execution_count": 1,
   "metadata": {},
   "outputs": [],
   "source": [
    "import pandas as pd\n",
    "import numpy as np\n",
    "import os\n",
    "import warnings\n",
    "\n",
    "from matplotlib import pyplot as plt\n",
    "\n",
    "pd.set_option('display.max_rows', None)\n",
    "pd.set_option('display.max_columns', 10)\n",
    "\n",
    "warnings.simplefilter('ignore')\n",
    "\n",
    "%matplotlib inline\n",
    "plt.rcParams['font.family'] = 'Malgun Gothic'\n",
    "plt.rcParams['font.size'] = 10\n",
    "plt.rcParams['figure.figsize'] = (12,8)\n",
    "\n",
    "file_path = 'D:\\\\mydata\\\\데이터분석\\\\FastCampus_전처리\\\\part-5.-머신러닝-모델의-성능-향상을-위한-전처리\\\\5. 머신러닝 모델의 성능 향상을 위한 전처리\\\\데이터'"
   ]
  },
  {
   "cell_type": "code",
   "execution_count": 2,
   "metadata": {},
   "outputs": [
    {
     "name": "stdout",
     "output_type": "stream",
     "text": [
      "<class 'pandas.core.frame.DataFrame'>\n",
      "RangeIndex: 7043 entries, 0 to 7042\n",
      "Data columns (total 21 columns):\n",
      " #   Column            Non-Null Count  Dtype  \n",
      "---  ------            --------------  -----  \n",
      " 0   customerID        7043 non-null   object \n",
      " 1   gender            7043 non-null   object \n",
      " 2   SeniorCitizen     7043 non-null   int64  \n",
      " 3   Partner           7043 non-null   object \n",
      " 4   Dependents        7043 non-null   object \n",
      " 5   tenure            7043 non-null   int64  \n",
      " 6   PhoneService      7043 non-null   object \n",
      " 7   MultipleLines     7043 non-null   object \n",
      " 8   InternetService   7043 non-null   object \n",
      " 9   OnlineSecurity    7043 non-null   object \n",
      " 10  OnlineBackup      7043 non-null   object \n",
      " 11  DeviceProtection  7043 non-null   object \n",
      " 12  TechSupport       7043 non-null   object \n",
      " 13  StreamingTV       7043 non-null   object \n",
      " 14  StreamingMovies   7043 non-null   object \n",
      " 15  Contract          7043 non-null   object \n",
      " 16  PaperlessBilling  7043 non-null   object \n",
      " 17  PaymentMethod     7043 non-null   object \n",
      " 18  MonthlyCharges    7043 non-null   float64\n",
      " 19  TotalCharges      7043 non-null   object \n",
      " 20  Churn             7043 non-null   object \n",
      "dtypes: float64(1), int64(2), object(18)\n",
      "memory usage: 1.1+ MB\n"
     ]
    }
   ],
   "source": [
    "df = pd.read_csv(file_path+'\\\\Telco_churn_prediction.csv')\n",
    "df.info()"
   ]
  },
  {
   "cell_type": "markdown",
   "metadata": {},
   "source": [
    "# 컬럼 별 Null과 정상값 여부 탐지\n",
    "\n",
    "- 컬럼 별로 Null은 .info() 상으로 존재하지 않음\n",
    "- null 이외에 정상적이지 않은 값이 있을 수 있음"
   ]
  },
  {
   "cell_type": "code",
   "execution_count": 3,
   "metadata": {},
   "outputs": [
    {
     "name": "stdout",
     "output_type": "stream",
     "text": [
      "customerID  :  ['0002-ORFBO', '0003-MKNFE', '0004-TLHLJ', '0011-IGKFF', '0013-EXCHZ', '0013-MHZWF', '0013-SMEOE', '0014-BMAQU', '0015-UOCOJ', '0016-QLJIS']\n",
      "gender  :  ['Female', 'Male']\n",
      "SeniorCitizen  :  [0, 1]\n",
      "Partner  :  ['No', 'Yes']\n",
      "Dependents  :  ['No', 'Yes']\n",
      "tenure  :  [0, 1, 2, 3, 4, 5, 6, 7, 8, 9]\n",
      "PhoneService  :  ['No', 'Yes']\n",
      "MultipleLines  :  ['No', 'No phone service', 'Yes']\n",
      "InternetService  :  ['DSL', 'Fiber optic', 'No']\n",
      "OnlineSecurity  :  ['No', 'No internet service', 'Yes']\n",
      "OnlineBackup  :  ['No', 'No internet service', 'Yes']\n",
      "DeviceProtection  :  ['No', 'No internet service', 'Yes']\n",
      "TechSupport  :  ['No', 'No internet service', 'Yes']\n",
      "StreamingTV  :  ['No', 'No internet service', 'Yes']\n",
      "StreamingMovies  :  ['No', 'No internet service', 'Yes']\n",
      "Contract  :  ['Month-to-month', 'One year', 'Two year']\n",
      "PaperlessBilling  :  ['No', 'Yes']\n",
      "PaymentMethod  :  ['Bank transfer (automatic)', 'Credit card (automatic)', 'Electronic check', 'Mailed check']\n",
      "MonthlyCharges  :  [18.25, 18.4, 18.55, 18.7, 18.75, 18.8, 18.85, 18.9, 18.95, 19.0]\n",
      "TotalCharges  :  [' ', '100.2', '100.25', '100.35', '100.4', '100.8', '100.9', '1001.2', '1001.5', '1003.05']\n",
      "Churn  :  ['No', 'Yes']\n"
     ]
    }
   ],
   "source": [
    "# 컬럼별 .unique() 값을 정렬하여 상위 10개 확인\n",
    "for col in df.columns:\n",
    "    print(col,' : ',sorted(df[col].unique())[:10])"
   ]
  },
  {
   "cell_type": "code",
   "execution_count": 4,
   "metadata": {},
   "outputs": [
    {
     "name": "stdout",
     "output_type": "stream",
     "text": [
      "customerID  :  ['9975-SKRNR', '9978-HYCIN', '9979-RGMZT', '9985-MWVIX', '9986-BONCE', '9987-LUTYD', '9992-RRAMN', '9992-UJOEL', '9993-LHIEB', '9995-HOTOH']\n",
      "gender  :  ['Female', 'Male']\n",
      "SeniorCitizen  :  [0, 1]\n",
      "Partner  :  ['No', 'Yes']\n",
      "Dependents  :  ['No', 'Yes']\n",
      "tenure  :  [63, 64, 65, 66, 67, 68, 69, 70, 71, 72]\n",
      "PhoneService  :  ['No', 'Yes']\n",
      "MultipleLines  :  ['No', 'No phone service', 'Yes']\n",
      "InternetService  :  ['DSL', 'Fiber optic', 'No']\n",
      "OnlineSecurity  :  ['No', 'No internet service', 'Yes']\n",
      "OnlineBackup  :  ['No', 'No internet service', 'Yes']\n",
      "DeviceProtection  :  ['No', 'No internet service', 'Yes']\n",
      "TechSupport  :  ['No', 'No internet service', 'Yes']\n",
      "StreamingTV  :  ['No', 'No internet service', 'Yes']\n",
      "StreamingMovies  :  ['No', 'No internet service', 'Yes']\n",
      "Contract  :  ['Month-to-month', 'One year', 'Two year']\n",
      "PaperlessBilling  :  ['No', 'Yes']\n",
      "PaymentMethod  :  ['Bank transfer (automatic)', 'Credit card (automatic)', 'Electronic check', 'Mailed check']\n",
      "MonthlyCharges  :  [117.35, 117.45, 117.5, 117.6, 117.8, 118.2, 118.35, 118.6, 118.65, 118.75]\n",
      "TotalCharges  :  ['995.35', '996.45', '996.85', '996.95', '997.65', '997.75', '998.1', '999.45', '999.8', '999.9']\n",
      "Churn  :  ['No', 'Yes']\n"
     ]
    }
   ],
   "source": [
    "# 컬럼별 .unique() 값을 정렬하여 하위 10개 확인\n",
    "for col in df.columns:\n",
    "    print(col,' : ',sorted(df[col].unique())[-10:])"
   ]
  },
  {
   "cell_type": "markdown",
   "metadata": {},
   "source": [
    "## 이상 컬럼 탐지\n",
    "\n",
    "- TotalCharges 의 경우 값들은 float 형이 맞지만, ' ' 값으로 인해 object형인 것으로 보임\n",
    "- ' '값은 Null 처리하여 결측값 처리 프로세스에 포함시킨다\n",
    "- type을 float으로 조정해준다"
   ]
  },
  {
   "cell_type": "code",
   "execution_count": 5,
   "metadata": {},
   "outputs": [],
   "source": [
    "df['TotalCharges'].replace(' ', np.nan, inplace = True)\n",
    "df['TotalCharges'] = df['TotalCharges'].astype(float)"
   ]
  },
  {
   "cell_type": "code",
   "execution_count": 6,
   "metadata": {},
   "outputs": [
    {
     "data": {
      "text/plain": [
       "dtype('float64')"
      ]
     },
     "execution_count": 6,
     "metadata": {},
     "output_type": "execute_result"
    }
   ],
   "source": [
    "df['TotalCharges'].dtypes"
   ]
  },
  {
   "cell_type": "markdown",
   "metadata": {},
   "source": [
    "# 학습 모델 생성 시작"
   ]
  },
  {
   "cell_type": "code",
   "execution_count": 7,
   "metadata": {},
   "outputs": [],
   "source": [
    "X = df.drop(['customerID', 'Churn'], axis=1)\n",
    "Y = df['Churn']"
   ]
  },
  {
   "cell_type": "code",
   "execution_count": 8,
   "metadata": {},
   "outputs": [],
   "source": [
    "from sklearn.model_selection import train_test_split\n",
    "\n",
    "x_train, x_test, y_train, y_test = train_test_split(X,Y)"
   ]
  },
  {
   "cell_type": "code",
   "execution_count": 9,
   "metadata": {},
   "outputs": [
    {
     "data": {
      "text/plain": [
       "(5282, 19)"
      ]
     },
     "execution_count": 9,
     "metadata": {},
     "output_type": "execute_result"
    }
   ],
   "source": [
    "x_train.shape"
   ]
  },
  {
   "cell_type": "code",
   "execution_count": 10,
   "metadata": {},
   "outputs": [
    {
     "name": "stdout",
     "output_type": "stream",
     "text": [
      "<class 'pandas.core.frame.DataFrame'>\n",
      "Int64Index: 5282 entries, 2446 to 191\n",
      "Data columns (total 19 columns):\n",
      " #   Column            Non-Null Count  Dtype  \n",
      "---  ------            --------------  -----  \n",
      " 0   gender            5282 non-null   object \n",
      " 1   SeniorCitizen     5282 non-null   int64  \n",
      " 2   Partner           5282 non-null   object \n",
      " 3   Dependents        5282 non-null   object \n",
      " 4   tenure            5282 non-null   int64  \n",
      " 5   PhoneService      5282 non-null   object \n",
      " 6   MultipleLines     5282 non-null   object \n",
      " 7   InternetService   5282 non-null   object \n",
      " 8   OnlineSecurity    5282 non-null   object \n",
      " 9   OnlineBackup      5282 non-null   object \n",
      " 10  DeviceProtection  5282 non-null   object \n",
      " 11  TechSupport       5282 non-null   object \n",
      " 12  StreamingTV       5282 non-null   object \n",
      " 13  StreamingMovies   5282 non-null   object \n",
      " 14  Contract          5282 non-null   object \n",
      " 15  PaperlessBilling  5282 non-null   object \n",
      " 16  PaymentMethod     5282 non-null   object \n",
      " 17  MonthlyCharges    5282 non-null   float64\n",
      " 18  TotalCharges      5273 non-null   float64\n",
      "dtypes: float64(2), int64(2), object(15)\n",
      "memory usage: 825.3+ KB\n"
     ]
    }
   ],
   "source": [
    "x_train.info()"
   ]
  },
  {
   "cell_type": "markdown",
   "metadata": {},
   "source": [
    "# 범주형 변수와 연속형 변수 분리 - One Hot Encoding\n",
    "\n",
    "---\n",
    "\n",
    "gender  :  ['Female', 'Male'] <br>\n",
    "SeniorCitizen  :  [0, 1] <br>\n",
    "Partner  :  ['No', 'Yes'] <br>\n",
    "Dependents  :  ['No', 'Yes'] <br>\n",
    "tenure  :  [63, 64, 65, 66, 67, 68, 69, 70, 71, 72] <br>\n",
    "PhoneService  :  ['No', 'Yes'] <br>\n",
    "MultipleLines  :  ['No', 'No phone service', 'Yes'] <br>\n",
    "InternetService  :  ['DSL', 'Fiber optic', 'No'] <br>\n",
    "OnlineSecurity  :  ['No', 'No internet service', 'Yes'] <br>\n",
    "OnlineBackup  :  ['No', 'No internet service', 'Yes'] <br>\n",
    "DeviceProtection  :  ['No', 'No internet service', 'Yes'] <br>\n",
    "TechSupport  :  ['No', 'No internet service', 'Yes'] <br>\n",
    "StreamingTV  :  ['No', 'No internet service', 'Yes'] <br>\n",
    "StreamingMovies  :  ['No', 'No internet service', 'Yes'] <br>\n",
    "Contract  :  ['Month-to-month', 'One year', 'Two year'] <br>\n",
    "PaperlessBilling  :  ['No', 'Yes'] <br>\n",
    "PaymentMethod  :  ['Bank transfer (automatic)', 'Credit card (automatic)', 'Electronic check', 'Mailed check'] <br>\n",
    "MonthlyCharges  :  [117.35, 117.45, 117.5, 117.6, 117.8, 118.2, 118.35, 118.6, 118.65, 118.75] <br>\n",
    "TotalCharges  :  ['995.35', '996.45', '996.85', '996.95', '997.65', '997.75', '998.1', '999.45', '999.8', '999.9'] <br>\n",
    "\n",
    "---\n",
    "\n",
    "- 앞서 확인했던 컬럼 정보를 활용한다면, object형 변수들에 대해 인코딩을 해줄 필요가 있음"
   ]
  },
  {
   "cell_type": "code",
   "execution_count": 11,
   "metadata": {},
   "outputs": [
    {
     "data": {
      "text/plain": [
       "['gender',\n",
       " 'Partner',\n",
       " 'Dependents',\n",
       " 'PhoneService',\n",
       " 'MultipleLines',\n",
       " 'InternetService',\n",
       " 'OnlineSecurity',\n",
       " 'OnlineBackup',\n",
       " 'DeviceProtection',\n",
       " 'TechSupport',\n",
       " 'StreamingTV',\n",
       " 'StreamingMovies',\n",
       " 'Contract',\n",
       " 'PaperlessBilling',\n",
       " 'PaymentMethod']"
      ]
     },
     "execution_count": 11,
     "metadata": {},
     "output_type": "execute_result"
    }
   ],
   "source": [
    "category_columns = [col for col in x_train.columns if x_train[col].dtypes=='object']\n",
    "category_columns"
   ]
  },
  {
   "cell_type": "code",
   "execution_count": 12,
   "metadata": {},
   "outputs": [],
   "source": [
    "from sklearn.preprocessing import OneHotEncoder as OHE\n",
    "\n",
    "dummy_model = OHE(drop='first').fit(x_train[category_columns].values)\n",
    "tmp_train = pd.DataFrame(dummy_model.transform(x_train[category_columns].values).toarray())\n",
    "tmp_test = pd.DataFrame(dummy_model.transform(x_test[category_columns].values).toarray())"
   ]
  },
  {
   "cell_type": "code",
   "execution_count": 13,
   "metadata": {},
   "outputs": [],
   "source": [
    "def make_suffix(df):\n",
    "    import pandas as pd\n",
    "    \n",
    "    cols_name=[]\n",
    "    suffix_cols=[]\n",
    "    \n",
    "    for col in df.columns:\n",
    "        values = sorted(df[col].unique())\n",
    "        suffix_cols += values[1:]\n",
    "        cols_name += [col] * (len(values)-1)\n",
    "        \n",
    "    return list(pd.Series(cols_name)+'_'+pd.Series(suffix_cols))"
   ]
  },
  {
   "cell_type": "code",
   "execution_count": 14,
   "metadata": {},
   "outputs": [],
   "source": [
    "from sklearn.preprocessing import OneHotEncoder\n",
    "\n",
    "ohe = OneHotEncoder(drop='first',sparse=False).fit(x_train[category_columns])\n",
    "x_train_ohe = pd.DataFrame(ohe.transform(x_train[category_columns]), columns = make_suffix(x_train[category_columns]))\n",
    "x_test_ohe = pd.DataFrame(ohe.transform(x_test[category_columns]), columns = make_suffix(x_test[category_columns]))\n",
    "\n",
    "x_train_ohe.index = x_train.index\n",
    "x_test_ohe.index = x_test.index\n",
    "\n",
    "x_train = pd.concat([x_train.drop(category_columns, axis=1), x_train_ohe], axis=1)\n",
    "x_test = pd.concat([x_test.drop(category_columns, axis=1), x_test_ohe], axis=1)"
   ]
  },
  {
   "cell_type": "markdown",
   "metadata": {},
   "source": [
    "# 결측값 처리하기"
   ]
  },
  {
   "cell_type": "code",
   "execution_count": 15,
   "metadata": {},
   "outputs": [],
   "source": [
    "from sklearn.impute import KNNImputer\n",
    "\n",
    "KI = KNNImputer(n_neighbors=5)\n",
    "KI.fit(x_train)\n",
    "x_train = pd.DataFrame(KI.transform(x_train), columns=x_train.columns)\n",
    "x_test = pd.DataFrame(KI.transform(x_test), columns=x_test.columns)"
   ]
  },
  {
   "cell_type": "code",
   "execution_count": 16,
   "metadata": {},
   "outputs": [
    {
     "data": {
      "text/plain": [
       "SeniorCitizen                            0\n",
       "tenure                                   0\n",
       "MonthlyCharges                           0\n",
       "TotalCharges                             0\n",
       "gender_Male                              0\n",
       "Partner_Yes                              0\n",
       "Dependents_Yes                           0\n",
       "PhoneService_Yes                         0\n",
       "MultipleLines_No phone service           0\n",
       "MultipleLines_Yes                        0\n",
       "InternetService_Fiber optic              0\n",
       "InternetService_No                       0\n",
       "OnlineSecurity_No internet service       0\n",
       "OnlineSecurity_Yes                       0\n",
       "OnlineBackup_No internet service         0\n",
       "OnlineBackup_Yes                         0\n",
       "DeviceProtection_No internet service     0\n",
       "DeviceProtection_Yes                     0\n",
       "TechSupport_No internet service          0\n",
       "TechSupport_Yes                          0\n",
       "StreamingTV_No internet service          0\n",
       "StreamingTV_Yes                          0\n",
       "StreamingMovies_No internet service      0\n",
       "StreamingMovies_Yes                      0\n",
       "Contract_One year                        0\n",
       "Contract_Two year                        0\n",
       "PaperlessBilling_Yes                     0\n",
       "PaymentMethod_Credit card (automatic)    0\n",
       "PaymentMethod_Electronic check           0\n",
       "PaymentMethod_Mailed check               0\n",
       "dtype: int64"
      ]
     },
     "execution_count": 16,
     "metadata": {},
     "output_type": "execute_result"
    }
   ],
   "source": [
    "x_train.isna().sum()"
   ]
  },
  {
   "cell_type": "markdown",
   "metadata": {},
   "source": [
    "# 연속형, 범주형 변수 분리"
   ]
  },
  {
   "cell_type": "code",
   "execution_count": 17,
   "metadata": {},
   "outputs": [
    {
     "name": "stdout",
     "output_type": "stream",
     "text": [
      "SeniorCitizen  :  [0.0, 1.0] :::  2\n",
      "tenure  :  [63.0, 64.0, 65.0, 66.0, 67.0, 68.0, 69.0, 70.0, 71.0, 72.0] :::  73\n",
      "MonthlyCharges  :  [117.15, 117.35, 117.45, 117.5, 117.6, 118.2, 118.35, 118.6, 118.65, 118.75] :::  1471\n",
      "TotalCharges  :  [8476.5, 8477.6, 8477.7, 8529.5, 8543.25, 8547.15, 8564.75, 8594.4, 8670.1, 8672.45] :::  4978\n",
      "gender_Male  :  [0.0, 1.0] :::  2\n",
      "Partner_Yes  :  [0.0, 1.0] :::  2\n",
      "Dependents_Yes  :  [0.0, 1.0] :::  2\n",
      "PhoneService_Yes  :  [0.0, 1.0] :::  2\n",
      "MultipleLines_No phone service  :  [0.0, 1.0] :::  2\n",
      "MultipleLines_Yes  :  [0.0, 1.0] :::  2\n",
      "InternetService_Fiber optic  :  [0.0, 1.0] :::  2\n",
      "InternetService_No  :  [0.0, 1.0] :::  2\n",
      "OnlineSecurity_No internet service  :  [0.0, 1.0] :::  2\n",
      "OnlineSecurity_Yes  :  [0.0, 1.0] :::  2\n",
      "OnlineBackup_No internet service  :  [0.0, 1.0] :::  2\n",
      "OnlineBackup_Yes  :  [0.0, 1.0] :::  2\n",
      "DeviceProtection_No internet service  :  [0.0, 1.0] :::  2\n",
      "DeviceProtection_Yes  :  [0.0, 1.0] :::  2\n",
      "TechSupport_No internet service  :  [0.0, 1.0] :::  2\n",
      "TechSupport_Yes  :  [0.0, 1.0] :::  2\n",
      "StreamingTV_No internet service  :  [0.0, 1.0] :::  2\n",
      "StreamingTV_Yes  :  [0.0, 1.0] :::  2\n",
      "StreamingMovies_No internet service  :  [0.0, 1.0] :::  2\n",
      "StreamingMovies_Yes  :  [0.0, 1.0] :::  2\n",
      "Contract_One year  :  [0.0, 1.0] :::  2\n",
      "Contract_Two year  :  [0.0, 1.0] :::  2\n",
      "PaperlessBilling_Yes  :  [0.0, 1.0] :::  2\n",
      "PaymentMethod_Credit card (automatic)  :  [0.0, 1.0] :::  2\n",
      "PaymentMethod_Electronic check  :  [0.0, 1.0] :::  2\n",
      "PaymentMethod_Mailed check  :  [0.0, 1.0] :::  2\n"
     ]
    }
   ],
   "source": [
    "# 컬럼별 .unique() 값을 정렬하여 하위 10개 확인\n",
    "for col in x_train.columns:\n",
    "    print(col,' : ',sorted(x_train[col].unique())[-10:],'::: ',len(x_train[col].unique()))"
   ]
  },
  {
   "cell_type": "code",
   "execution_count": 18,
   "metadata": {},
   "outputs": [],
   "source": [
    "cont_cols = [col for col in x_train.columns if len(x_train[col].unique())>3]\n",
    "cate_cols = [col for col in x_train.columns if len(x_train[col].unique())<=3]"
   ]
  },
  {
   "cell_type": "code",
   "execution_count": 19,
   "metadata": {},
   "outputs": [
    {
     "data": {
      "text/plain": [
       "['tenure', 'MonthlyCharges', 'TotalCharges']"
      ]
     },
     "execution_count": 19,
     "metadata": {},
     "output_type": "execute_result"
    }
   ],
   "source": [
    "cont_cols"
   ]
  },
  {
   "cell_type": "code",
   "execution_count": 20,
   "metadata": {},
   "outputs": [
    {
     "name": "stdout",
     "output_type": "stream",
     "text": [
      "['SeniorCitizen', 'gender_Male', 'Partner_Yes', 'Dependents_Yes', 'PhoneService_Yes', 'MultipleLines_No phone service', 'MultipleLines_Yes', 'InternetService_Fiber optic', 'InternetService_No', 'OnlineSecurity_No internet service', 'OnlineSecurity_Yes', 'OnlineBackup_No internet service', 'OnlineBackup_Yes', 'DeviceProtection_No internet service', 'DeviceProtection_Yes', 'TechSupport_No internet service', 'TechSupport_Yes', 'StreamingTV_No internet service', 'StreamingTV_Yes', 'StreamingMovies_No internet service', 'StreamingMovies_Yes', 'Contract_One year', 'Contract_Two year', 'PaperlessBilling_Yes', 'PaymentMethod_Credit card (automatic)', 'PaymentMethod_Electronic check', 'PaymentMethod_Mailed check']\n"
     ]
    }
   ],
   "source": [
    "print(cate_cols)"
   ]
  },
  {
   "cell_type": "code",
   "execution_count": 21,
   "metadata": {},
   "outputs": [
    {
     "data": {
      "text/plain": [
       "(1761, 30)"
      ]
     },
     "execution_count": 21,
     "metadata": {},
     "output_type": "execute_result"
    }
   ],
   "source": [
    "x_test.shape"
   ]
  },
  {
   "cell_type": "markdown",
   "metadata": {},
   "source": [
    "# 이상치 처리"
   ]
  },
  {
   "cell_type": "code",
   "execution_count": 22,
   "metadata": {},
   "outputs": [
    {
     "name": "stdout",
     "output_type": "stream",
     "text": [
      "tenure            0\n",
      "MonthlyCharges    0\n",
      "TotalCharges      0\n",
      "dtype: int64\n"
     ]
    }
   ],
   "source": [
    "def IQR_Rule(val_list):\n",
    "    q1 = np.quantile(val_list, 0.25)\n",
    "    q3 = np.quantile(val_list, 0.75)\n",
    "    IQR = q3-q1\n",
    "    not_outlier_cond = (q1-1.5*IQR < val_list) & (q3+1.5*IQR > val_list)\n",
    "    \n",
    "    return not_outlier_cond\n",
    "\n",
    "num_outliers = len(x_train) - x_train[cont_cols].apply(IQR_Rule).sum(axis=0)\n",
    "print(num_outliers)"
   ]
  },
  {
   "cell_type": "code",
   "execution_count": 23,
   "metadata": {},
   "outputs": [
    {
     "data": {
      "text/plain": [
       "{'whiskers': [<matplotlib.lines.Line2D at 0x23df1f9c460>,\n",
       "  <matplotlib.lines.Line2D at 0x23df1f9c7c0>],\n",
       " 'caps': [<matplotlib.lines.Line2D at 0x23df1f9cb20>,\n",
       "  <matplotlib.lines.Line2D at 0x23df1f9ce80>],\n",
       " 'boxes': [<matplotlib.lines.Line2D at 0x23df1f9c100>],\n",
       " 'medians': [<matplotlib.lines.Line2D at 0x23df1fa9220>],\n",
       " 'fliers': [<matplotlib.lines.Line2D at 0x23df1fa9580>],\n",
       " 'means': []}"
      ]
     },
     "execution_count": 23,
     "metadata": {},
     "output_type": "execute_result"
    },
    {
     "data": {
      "image/png": "[encoded data removed]",
      "text/plain": [
       "<Figure size 864x576 with 1 Axes>"
      ]
     },
     "metadata": {
      "needs_background": "light"
     },
     "output_type": "display_data"
    }
   ],
   "source": [
    "plt.title('이상값 확인 - TotalCharges')\n",
    "plt.boxplot(x_train['TotalCharges'])"
   ]
  },
  {
   "cell_type": "code",
   "execution_count": 24,
   "metadata": {},
   "outputs": [
    {
     "data": {
      "text/html": [
       "<div>\n",
       "<style scoped>\n",
       "    .dataframe tbody tr th:only-of-type {\n",
       "        vertical-align: middle;\n",
       "    }\n",
       "\n",
       "    .dataframe tbody tr th {\n",
       "        vertical-align: top;\n",
       "    }\n",
       "\n",
       "    .dataframe thead th {\n",
       "        text-align: right;\n",
       "    }\n",
       "</style>\n",
       "<table border=\"1\" class=\"dataframe\">\n",
       "  <thead>\n",
       "    <tr style=\"text-align: right;\">\n",
       "      <th></th>\n",
       "      <th>SeniorCitizen</th>\n",
       "      <th>tenure</th>\n",
       "      <th>MonthlyCharges</th>\n",
       "      <th>TotalCharges</th>\n",
       "      <th>gender_Male</th>\n",
       "      <th>...</th>\n",
       "      <th>Contract_Two year</th>\n",
       "      <th>PaperlessBilling_Yes</th>\n",
       "      <th>PaymentMethod_Credit card (automatic)</th>\n",
       "      <th>PaymentMethod_Electronic check</th>\n",
       "      <th>PaymentMethod_Mailed check</th>\n",
       "    </tr>\n",
       "  </thead>\n",
       "  <tbody>\n",
       "    <tr>\n",
       "      <th>585</th>\n",
       "      <td>0.0</td>\n",
       "      <td>72.0</td>\n",
       "      <td>118.75</td>\n",
       "      <td>8672.45</td>\n",
       "      <td>0.0</td>\n",
       "      <td>...</td>\n",
       "      <td>1.0</td>\n",
       "      <td>1.0</td>\n",
       "      <td>0.0</td>\n",
       "      <td>0.0</td>\n",
       "      <td>0.0</td>\n",
       "    </tr>\n",
       "  </tbody>\n",
       "</table>\n",
       "<p>1 rows × 30 columns</p>\n",
       "</div>"
      ],
      "text/plain": [
       "     SeniorCitizen  tenure  MonthlyCharges  TotalCharges  gender_Male  ...  \\\n",
       "585            0.0    72.0          118.75       8672.45          0.0  ...   \n",
       "\n",
       "     Contract_Two year  PaperlessBilling_Yes  \\\n",
       "585                1.0                   1.0   \n",
       "\n",
       "     PaymentMethod_Credit card (automatic)  PaymentMethod_Electronic check  \\\n",
       "585                                    0.0                             0.0   \n",
       "\n",
       "     PaymentMethod_Mailed check  \n",
       "585                         0.0  \n",
       "\n",
       "[1 rows x 30 columns]"
      ]
     },
     "execution_count": 24,
     "metadata": {},
     "output_type": "execute_result"
    }
   ],
   "source": [
    "x_train.loc[x_train['TotalCharges']==x_train['TotalCharges'].max()]"
   ]
  },
  {
   "cell_type": "code",
   "execution_count": 25,
   "metadata": {},
   "outputs": [],
   "source": [
    "x_train.drop(index=1136, axis=0, inplace=True)\n",
    "y_train.drop(index=1136, axis=0, inplace=True)"
   ]
  },
  {
   "cell_type": "markdown",
   "metadata": {},
   "source": [
    "# 라벨 분포 확인\n",
    "\n",
    "- 라벨 분포를 확인한다\n",
    "- 불균형이 심할 경우 라벨을 채워준다"
   ]
  },
  {
   "cell_type": "code",
   "execution_count": 26,
   "metadata": {},
   "outputs": [],
   "source": [
    "# 라벨 인코딩\n",
    "y_train.replace({'Yes':1, 'No':-1}, inplace=True)\n",
    "y_test.replace({'Yes':1, 'No':-1}, inplace=True)"
   ]
  },
  {
   "cell_type": "code",
   "execution_count": 27,
   "metadata": {},
   "outputs": [
    {
     "data": {
      "text/plain": [
       "-1    3875\n",
       " 1    1406\n",
       "Name: Churn, dtype: int64"
      ]
     },
     "execution_count": 27,
     "metadata": {},
     "output_type": "execute_result"
    }
   ],
   "source": [
    "y_train.value_counts() # 약 두배 차이"
   ]
  },
  {
   "cell_type": "code",
   "execution_count": 28,
   "metadata": {},
   "outputs": [
    {
     "name": "stdout",
     "output_type": "stream",
     "text": [
      "(5281, 30)\n",
      "(5281,)\n"
     ]
    }
   ],
   "source": [
    "print(x_train.shape)\n",
    "print(y_train.shape)"
   ]
  },
  {
   "cell_type": "code",
   "execution_count": 29,
   "metadata": {},
   "outputs": [
    {
     "name": "stdout",
     "output_type": "stream",
     "text": [
      "0.7132311186825667\n"
     ]
    }
   ],
   "source": [
    "# knn으로 불균형 확인\n",
    "from sklearn.neighbors import KNeighborsClassifier as KNN\n",
    "from sklearn.metrics import *\n",
    "kNN_model = KNN(n_neighbors=3).fit(x_train, y_train)\n",
    "y_pred = kNN_model.predict(x_test)\n",
    "print(accuracy_score(y_test, y_pred))"
   ]
  },
  {
   "cell_type": "markdown",
   "metadata": {},
   "source": [
    "- KNN으로만 봣을 때는 높은 점수를 보이기 때문에 오버 샘플링을 하지 않고 수행해 보자"
   ]
  },
  {
   "cell_type": "code",
   "execution_count": 2,
   "metadata": {},
   "outputs": [],
   "source": [
    "'''\n",
    "from imblearn.over_sampling import SMOTE\n",
    "\n",
    "oversampling_instance = SMOTE(k_neighbors=3)\n",
    "o_x_train, o_y_train = oversampling_instance.fit_resample(x_train, y_train)\n",
    "o_x_train = pd.DataFrame(o_x_train, columns=x_train.columns)\n",
    "o_y_train = pd.Series(o_y_train)\n",
    "'''"
   ]
  },
  {
   "cell_type": "code",
   "execution_count": 37,
   "metadata": {},
   "outputs": [
    {
     "name": "stdout",
     "output_type": "stream",
     "text": [
      "0.6115843270868825\n"
     ]
    }
   ],
   "source": [
    "'''\n",
    "from sklearn.neighbors import KNeighborsClassifier as KNN\n",
    "kNN_model = KNN(n_neighbors=3).fit(o_x_train, o_y_train)\n",
    "y_pred = kNN_model.predict(x_test)\n",
    "print(accuracy_score(y_test, y_pred))\n",
    "'''"
   ]
  },
  {
   "cell_type": "markdown",
   "metadata": {},
   "source": [
    "# 자기 상관 확인하기"
   ]
  },
  {
   "cell_type": "code",
   "execution_count": 38,
   "metadata": {},
   "outputs": [],
   "source": [
    "from sklearn.linear_model import LinearRegression as LR\n",
    "\n",
    "VIF_dict = dict()\n",
    "\n",
    "for col in x_train.columns:\n",
    "    model = LR().fit(x_train.drop([col],axis=1), x_train[col])\n",
    "    r2 = model.score(x_train.drop([col],axis=1), x_train[col])\n",
    "    VIF = 1/(1-r2)\n",
    "    VIF_dict[col] = VIF"
   ]
  },
  {
   "cell_type": "code",
   "execution_count": 40,
   "metadata": {},
   "outputs": [
    {
     "data": {
      "text/plain": [
       "{'SeniorCitizen': 1.1516926821232825,\n",
       " 'tenure': 7.575799650762939,\n",
       " 'MonthlyCharges': 852.0241058483269,\n",
       " 'TotalCharges': 10.89492735711677,\n",
       " 'gender_Male': 1.0031785835245932,\n",
       " 'Partner_Yes': 1.4622283870291652,\n",
       " 'Dependents_Yes': 1.3915396602098138,\n",
       " 'PhoneService_Yes': inf,\n",
       " 'MultipleLines_No phone service': inf,\n",
       " 'MultipleLines_Yes': 7.184309137236985,\n",
       " 'InternetService_Fiber optic': 147.00719528769582,\n",
       " 'InternetService_No': inf,\n",
       " 'OnlineSecurity_No internet service': inf,\n",
       " 'OnlineSecurity_Yes': 6.297781344357839,\n",
       " 'OnlineBackup_No internet service': inf,\n",
       " 'OnlineBackup_Yes': 6.7855570722846075,\n",
       " 'DeviceProtection_No internet service': inf,\n",
       " 'DeviceProtection_Yes': 6.7806335002864895,\n",
       " 'TechSupport_No internet service': inf,\n",
       " 'TechSupport_Yes': 6.388191558185368,\n",
       " 'StreamingTV_No internet service': inf,\n",
       " 'StreamingTV_Yes': 23.821811796009158,\n",
       " 'StreamingMovies_No internet service': inf,\n",
       " 'StreamingMovies_Yes': 23.780409487425526,\n",
       " 'Contract_One year': 1.64651589129942,\n",
       " 'Contract_Two year': 2.610769473370006,\n",
       " 'PaperlessBilling_Yes': 1.2011237185986272,\n",
       " 'PaymentMethod_Credit card (automatic)': 1.5350725614564114,\n",
       " 'PaymentMethod_Electronic check': 1.956115184679318,\n",
       " 'PaymentMethod_Mailed check': 1.8475771660785534}"
      ]
     },
     "execution_count": 40,
     "metadata": {},
     "output_type": "execute_result"
    }
   ],
   "source": [
    "VIF_dict"
   ]
  },
  {
   "cell_type": "code",
   "execution_count": 41,
   "metadata": {},
   "outputs": [
    {
     "data": {
      "text/plain": [
       "['MonthlyCharges',\n",
       " 'PhoneService_Yes',\n",
       " 'MultipleLines_No phone service',\n",
       " 'InternetService_Fiber optic',\n",
       " 'InternetService_No',\n",
       " 'OnlineSecurity_No internet service',\n",
       " 'OnlineBackup_No internet service',\n",
       " 'DeviceProtection_No internet service',\n",
       " 'TechSupport_No internet service',\n",
       " 'StreamingTV_No internet service',\n",
       " 'StreamingMovies_No internet service']"
      ]
     },
     "execution_count": 41,
     "metadata": {},
     "output_type": "execute_result"
    }
   ],
   "source": [
    "remove_cols = [key for key in VIF_dict.keys() if VIF_dict[key] > 30]\n",
    "remove_cols"
   ]
  },
  {
   "cell_type": "code",
   "execution_count": 45,
   "metadata": {},
   "outputs": [],
   "source": [
    "v_x_train = x_train.drop(remove_cols, axis=1)\n",
    "v_x_test = x_test.drop(remove_cols, axis=1)\n",
    "\n",
    "v_cont_cols = list(set(cont_cols)-set(remove_cols))\n",
    "v_cate_cols = list(set(cate_cols)-set(remove_cols))"
   ]
  },
  {
   "cell_type": "markdown",
   "metadata": {},
   "source": [
    "# 왜도 확인하기"
   ]
  },
  {
   "cell_type": "code",
   "execution_count": 43,
   "metadata": {},
   "outputs": [
    {
     "data": {
      "text/plain": [
       "tenure            0.235433\n",
       "MonthlyCharges   -0.214805\n",
       "TotalCharges      0.964461\n",
       "dtype: float64"
      ]
     },
     "execution_count": 43,
     "metadata": {},
     "output_type": "execute_result"
    }
   ],
   "source": [
    "x_train[cont_cols].skew() # 1.5를 넘는 값이 없으므로 진행"
   ]
  },
  {
   "cell_type": "code",
   "execution_count": 46,
   "metadata": {},
   "outputs": [
    {
     "data": {
      "text/plain": [
       "tenure          0.235433\n",
       "TotalCharges    0.964461\n",
       "dtype: float64"
      ]
     },
     "execution_count": 46,
     "metadata": {},
     "output_type": "execute_result"
    }
   ],
   "source": [
    "v_x_train[v_cont_cols].skew()"
   ]
  },
  {
   "cell_type": "code",
   "execution_count": null,
   "metadata": {},
   "outputs": [],
   "source": []
  },
  {
   "cell_type": "markdown",
   "metadata": {},
   "source": [
    "# 스케일링"
   ]
  },
  {
   "cell_type": "code",
   "execution_count": 57,
   "metadata": {},
   "outputs": [],
   "source": [
    "from sklearn.preprocessing import MinMaxScaler\n",
    "\n",
    "MMS = MinMaxScaler().fit(x_train)\n",
    "s_x_train = pd.DataFrame(MMS.transform(x_train), columns = x_train.columns)\n",
    "s_x_test = pd.DataFrame(MMS.transform(x_test),columns = x_test.columns)"
   ]
  },
  {
   "cell_type": "code",
   "execution_count": 48,
   "metadata": {},
   "outputs": [
    {
     "data": {
      "text/html": [
       "<div>\n",
       "<style scoped>\n",
       "    .dataframe tbody tr th:only-of-type {\n",
       "        vertical-align: middle;\n",
       "    }\n",
       "\n",
       "    .dataframe tbody tr th {\n",
       "        vertical-align: top;\n",
       "    }\n",
       "\n",
       "    .dataframe thead th {\n",
       "        text-align: right;\n",
       "    }\n",
       "</style>\n",
       "<table border=\"1\" class=\"dataframe\">\n",
       "  <thead>\n",
       "    <tr style=\"text-align: right;\">\n",
       "      <th></th>\n",
       "      <th>SeniorCitizen</th>\n",
       "      <th>tenure</th>\n",
       "      <th>MonthlyCharges</th>\n",
       "      <th>TotalCharges</th>\n",
       "      <th>gender_Male</th>\n",
       "      <th>...</th>\n",
       "      <th>Contract_Two year</th>\n",
       "      <th>PaperlessBilling_Yes</th>\n",
       "      <th>PaymentMethod_Credit card (automatic)</th>\n",
       "      <th>PaymentMethod_Electronic check</th>\n",
       "      <th>PaymentMethod_Mailed check</th>\n",
       "    </tr>\n",
       "  </thead>\n",
       "  <tbody>\n",
       "    <tr>\n",
       "      <th>0</th>\n",
       "      <td>0.0</td>\n",
       "      <td>0.250000</td>\n",
       "      <td>0.713930</td>\n",
       "      <td>0.174325</td>\n",
       "      <td>0.0</td>\n",
       "      <td>...</td>\n",
       "      <td>0.0</td>\n",
       "      <td>1.0</td>\n",
       "      <td>1.0</td>\n",
       "      <td>0.0</td>\n",
       "      <td>0.0</td>\n",
       "    </tr>\n",
       "    <tr>\n",
       "      <th>1</th>\n",
       "      <td>0.0</td>\n",
       "      <td>1.000000</td>\n",
       "      <td>0.952736</td>\n",
       "      <td>0.933057</td>\n",
       "      <td>1.0</td>\n",
       "      <td>...</td>\n",
       "      <td>1.0</td>\n",
       "      <td>1.0</td>\n",
       "      <td>0.0</td>\n",
       "      <td>1.0</td>\n",
       "      <td>0.0</td>\n",
       "    </tr>\n",
       "    <tr>\n",
       "      <th>2</th>\n",
       "      <td>0.0</td>\n",
       "      <td>0.583333</td>\n",
       "      <td>0.452239</td>\n",
       "      <td>0.317155</td>\n",
       "      <td>1.0</td>\n",
       "      <td>...</td>\n",
       "      <td>0.0</td>\n",
       "      <td>0.0</td>\n",
       "      <td>1.0</td>\n",
       "      <td>0.0</td>\n",
       "      <td>0.0</td>\n",
       "    </tr>\n",
       "    <tr>\n",
       "      <th>3</th>\n",
       "      <td>0.0</td>\n",
       "      <td>0.902778</td>\n",
       "      <td>0.065174</td>\n",
       "      <td>0.182830</td>\n",
       "      <td>1.0</td>\n",
       "      <td>...</td>\n",
       "      <td>0.0</td>\n",
       "      <td>0.0</td>\n",
       "      <td>1.0</td>\n",
       "      <td>0.0</td>\n",
       "      <td>0.0</td>\n",
       "    </tr>\n",
       "    <tr>\n",
       "      <th>4</th>\n",
       "      <td>0.0</td>\n",
       "      <td>1.000000</td>\n",
       "      <td>0.967662</td>\n",
       "      <td>0.971422</td>\n",
       "      <td>0.0</td>\n",
       "      <td>...</td>\n",
       "      <td>1.0</td>\n",
       "      <td>1.0</td>\n",
       "      <td>0.0</td>\n",
       "      <td>1.0</td>\n",
       "      <td>0.0</td>\n",
       "    </tr>\n",
       "  </tbody>\n",
       "</table>\n",
       "<p>5 rows × 30 columns</p>\n",
       "</div>"
      ],
      "text/plain": [
       "   SeniorCitizen    tenure  MonthlyCharges  TotalCharges  gender_Male  ...  \\\n",
       "0            0.0  0.250000        0.713930      0.174325          0.0  ...   \n",
       "1            0.0  1.000000        0.952736      0.933057          1.0  ...   \n",
       "2            0.0  0.583333        0.452239      0.317155          1.0  ...   \n",
       "3            0.0  0.902778        0.065174      0.182830          1.0  ...   \n",
       "4            0.0  1.000000        0.967662      0.971422          0.0  ...   \n",
       "\n",
       "   Contract_Two year  PaperlessBilling_Yes  \\\n",
       "0                0.0                   1.0   \n",
       "1                1.0                   1.0   \n",
       "2                0.0                   0.0   \n",
       "3                0.0                   0.0   \n",
       "4                1.0                   1.0   \n",
       "\n",
       "   PaymentMethod_Credit card (automatic)  PaymentMethod_Electronic check  \\\n",
       "0                                    1.0                             0.0   \n",
       "1                                    0.0                             1.0   \n",
       "2                                    1.0                             0.0   \n",
       "3                                    1.0                             0.0   \n",
       "4                                    0.0                             1.0   \n",
       "\n",
       "   PaymentMethod_Mailed check  \n",
       "0                         0.0  \n",
       "1                         0.0  \n",
       "2                         0.0  \n",
       "3                         0.0  \n",
       "4                         0.0  \n",
       "\n",
       "[5 rows x 30 columns]"
      ]
     },
     "execution_count": 48,
     "metadata": {},
     "output_type": "execute_result"
    }
   ],
   "source": [
    "s_x_train.head()"
   ]
  },
  {
   "cell_type": "markdown",
   "metadata": {},
   "source": [
    "# 특징 선택과 하이퍼 파라미터 튜닝"
   ]
  },
  {
   "cell_type": "code",
   "execution_count": 53,
   "metadata": {},
   "outputs": [],
   "source": [
    "from sklearn.ensemble import RandomForestClassifier as RFC\n",
    "from sklearn.linear_model import LogisticRegression as LGR\n",
    "from sklearn.tree import DecisionTreeClassifier as DTC\n",
    "from sklearn.neighbors import KNeighborsClassifier as KNN\n",
    "from sklearn.feature_selection import *\n",
    "from sklearn.model_selection import ParameterGrid as PG\n",
    "from sklearn.metrics import f1_score, classification_report\n",
    "\n",
    "# 파라미터 그리드 설계\n",
    "model_param_grid = dict()\n",
    "\n",
    "model_param_grid[RFC] = PG({'max_depth':[2,3,4,5,6],\n",
    "                            'n_estimators':[5,25,50,100,200]})\n",
    "model_param_grid[LGR] = PG({'C':[0.0001,0.001,0.1,0.05,0.1],\n",
    "                            'max_iter':[10,100,1000,10000]})\n",
    "model_param_grid[DTC] = PG({'max_depth':np.arange(2,10),\n",
    "                            'min_samples_leaf':np.arange(1,5)})\n",
    "model_param_grid[KNN] = PG({'n_neighbors':[3,5,7,9]})"
   ]
  },
  {
   "cell_type": "code",
   "execution_count": 54,
   "metadata": {},
   "outputs": [],
   "source": [
    "# 특징 선택\n",
    "cont_cols_pval = f_classif(s_x_train[cont_cols], y_train)[1]\n",
    "cate_cols_pval = chi2(s_x_train[cate_cols], y_train)[1]\n",
    "\n",
    "cont_pvals = pd.Series(cont_cols_pval, index = cont_cols)\n",
    "cate_pvals = pd.Series(cate_cols_pval, index = cate_cols)\n",
    "\n",
    "pvals = pd.concat([cont_pvals,cate_pvals])\n",
    "pvals.sort_values(ascending=True, inplace=True)"
   ]
  },
  {
   "cell_type": "code",
   "execution_count": 55,
   "metadata": {},
   "outputs": [
    {
     "data": {
      "text/plain": [
       "tenure                                   6.476488e-42\n",
       "Contract_Two year                        1.580416e-20\n",
       "PaymentMethod_Electronic check           7.034933e-19\n",
       "InternetService_Fiber optic              5.426430e-18\n",
       "TotalCharges                             1.060831e-15\n",
       "StreamingMovies_No internet service      1.819663e-13\n",
       "StreamingTV_No internet service          1.819663e-13\n",
       "TechSupport_No internet service          1.819663e-13\n",
       "DeviceProtection_No internet service     1.819663e-13\n",
       "OnlineSecurity_No internet service       1.819663e-13\n",
       "InternetService_No                       1.819663e-13\n",
       "OnlineBackup_No internet service         1.819663e-13\n",
       "MonthlyCharges                           4.362956e-12\n",
       "Contract_One year                        2.460323e-11\n",
       "OnlineSecurity_Yes                       9.364593e-09\n",
       "SeniorCitizen                            3.966828e-08\n",
       "TechSupport_Yes                          1.085423e-07\n",
       "Dependents_Yes                           2.937967e-07\n",
       "PaperlessBilling_Yes                     4.597725e-07\n",
       "PaymentMethod_Credit card (automatic)    4.647251e-07\n",
       "Partner_Yes                              6.776924e-05\n",
       "OnlineBackup_Yes                         4.519447e-03\n",
       "DeviceProtection_Yes                     1.053542e-02\n",
       "PaymentMethod_Mailed check               4.932291e-02\n",
       "StreamingTV_Yes                          1.403009e-01\n",
       "StreamingMovies_Yes                      2.196485e-01\n",
       "MultipleLines_Yes                        4.275293e-01\n",
       "MultipleLines_No phone service           5.539987e-01\n",
       "gender_Male                              6.088925e-01\n",
       "PhoneService_Yes                         8.446169e-01\n",
       "dtype: float64"
      ]
     },
     "execution_count": 55,
     "metadata": {},
     "output_type": "execute_result"
    }
   ],
   "source": [
    "pvals"
   ]
  },
  {
   "cell_type": "code",
   "execution_count": 59,
   "metadata": {
    "scrolled": true,
    "tags": []
   },
   "outputs": [
    {
     "name": "stdout",
     "output_type": "stream",
     "text": [
      "30\n",
      "29\n",
      "28\n",
      "27\n",
      "26\n",
      "25\n",
      "24\n",
      "23\n",
      "22\n",
      "21\n",
      "20\n",
      "19\n",
      "18\n",
      "17\n",
      "16\n",
      "15\n",
      "14\n",
      "13\n",
      "12\n",
      "11\n",
      "10\n",
      "9\n",
      "8\n",
      "7\n",
      "6\n"
     ]
    }
   ],
   "source": [
    "best_score = 0\n",
    "for k in range(len(s_x_train.columns),5,-1):\n",
    "    print(k)\n",
    "    ss_x_train = s_x_train[pvals.iloc[:k].index]\n",
    "    ss_x_test = s_x_test[pvals.iloc[:k].index]\n",
    "    \n",
    "    for M in model_param_grid.keys():\n",
    "        for P in model_param_grid[M]:\n",
    "            model = M(**P).fit(ss_x_train, y_train)\n",
    "            y_pred = model.predict(ss_x_test)\n",
    "            score = f1_score(y_test, y_pred, average='weighted')\n",
    "            \n",
    "            if score > best_score:\n",
    "                score_arr = score\n",
    "                report = classification_report(y_test, y_pred)\n",
    "                best_score = score.mean()\n",
    "                best_model = M\n",
    "                best_params = P\n",
    "                best_features = ss_x_train.columns"
   ]
  },
  {
   "cell_type": "code",
   "execution_count": 62,
   "metadata": {},
   "outputs": [
    {
     "name": "stdout",
     "output_type": "stream",
     "text": [
      "f1 : 0.7737518394752274\n",
      "best_model : <class 'sklearn.neighbors._classification.KNeighborsClassifier'>\n",
      "best_params : {'n_neighbors': 9}\n",
      "best_score : 0.7737518394752274\n",
      "best_features : Index(['tenure', 'Contract_Two year', 'PaymentMethod_Electronic check',\n",
      "       'InternetService_Fiber optic', 'TotalCharges',\n",
      "       'StreamingMovies_No internet service',\n",
      "       'StreamingTV_No internet service', 'TechSupport_No internet service',\n",
      "       'DeviceProtection_No internet service',\n",
      "       'OnlineSecurity_No internet service', 'InternetService_No',\n",
      "       'OnlineBackup_No internet service', 'MonthlyCharges',\n",
      "       'Contract_One year', 'OnlineSecurity_Yes', 'SeniorCitizen'],\n",
      "      dtype='object')\n",
      "=========================================================\n",
      "              precision    recall  f1-score   support\n",
      "\n",
      "          -1       0.81      0.93      0.87      1298\n",
      "           1       0.68      0.41      0.51       463\n",
      "\n",
      "    accuracy                           0.79      1761\n",
      "   macro avg       0.75      0.67      0.69      1761\n",
      "weighted avg       0.78      0.79      0.77      1761\n",
      "\n"
     ]
    }
   ],
   "source": [
    "print(f'f1 : {score_arr}')\n",
    "print(f'best_model : {M}')\n",
    "print(f'best_params : {P}')\n",
    "print(f'best_score : {best_score}')\n",
    "print(f'best_features : {best_features}')\n",
    "print('=========================================================')\n",
    "print(report)"
   ]
  },
  {
   "cell_type": "code",
   "execution_count": 63,
   "metadata": {},
   "outputs": [
    {
     "name": "stdout",
     "output_type": "stream",
     "text": [
      "0.7649063032367973\n"
     ]
    }
   ],
   "source": [
    "kNN_model = KNN(n_neighbors=9).fit(s_x_train[best_features], y_train)\n",
    "y_pred = kNN_model.predict(s_x_test[best_features])\n",
    "print(accuracy_score(y_test, y_pred))"
   ]
  }
 ],
 "metadata": {
  "kernelspec": {
   "display_name": "Python 3.8.8 ('main')",
   "language": "python",
   "name": "python3"
  },
  "language_info": {
   "codemirror_mode": {
    "name": "ipython",
    "version": 3
   },
   "file_extension": ".py",
   "mimetype": "text/x-python",
   "name": "python",
   "nbconvert_exporter": "python",
   "pygments_lexer": "ipython3",
   "version": "3.8.8"
  },
  "vscode": {
   "interpreter": {
    "hash": "5418eef80854e52bdd31b62ac8e168a96471c21ff09caab6ca68827813545a18"
   }
  }
 },
 "nbformat": 4,
 "nbformat_minor": 4
}
