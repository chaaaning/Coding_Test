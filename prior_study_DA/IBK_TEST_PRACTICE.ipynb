{
 "cells": [
  {
   "cell_type": "code",
   "execution_count": 21,
   "metadata": {},
   "outputs": [],
   "source": [
    "import time"
   ]
  },
  {
   "cell_type": "code",
   "execution_count": 1,
   "metadata": {},
   "outputs": [
    {
     "data": {
      "text/plain": [
       "[1, 2, 4, 4, 6]"
      ]
     },
     "execution_count": 1,
     "metadata": {},
     "output_type": "execute_result"
    }
   ],
   "source": [
    "a = [1,2,3,3,4,4,5,5,5,6]\n",
    "remove_set =[3,5]\n",
    "\n",
    "result =[i for i in a if i not in remove_set]\n",
    "result"
   ]
  },
  {
   "cell_type": "code",
   "execution_count": 2,
   "metadata": {},
   "outputs": [
    {
     "name": "stdout",
     "output_type": "stream",
     "text": [
      "10\n"
     ]
    }
   ],
   "source": [
    "print((lambda a,b : a+b)(3,7))"
   ]
  },
  {
   "cell_type": "code",
   "execution_count": 7,
   "metadata": {},
   "outputs": [
    {
     "name": "stdout",
     "output_type": "stream",
     "text": [
      "3\n",
      "1 2 5\n",
      "[1, 2, 5]\n"
     ]
    }
   ],
   "source": [
    "n=int(input())\n",
    "data=list(map(int, input().split()))\n",
    "print(data)"
   ]
  },
  {
   "cell_type": "code",
   "execution_count": 8,
   "metadata": {},
   "outputs": [
    {
     "name": "stdout",
     "output_type": "stream",
     "text": [
      "1 5 7\n",
      "1\n",
      "5\n",
      "7\n"
     ]
    }
   ],
   "source": [
    "n, m, k = map(int, input().split())\n",
    "print(n)\n",
    "print(m)\n",
    "print(k)"
   ]
  },
  {
   "cell_type": "code",
   "execution_count": 19,
   "metadata": {},
   "outputs": [
    {
     "name": "stdout",
     "output_type": "stream",
     "text": [
      "정답은 8입니다\n"
     ]
    }
   ],
   "source": [
    "# 입력 시 시간초과를 피하는 방법\n",
    "a = 8\n",
    "\n",
    "print(f\"정답은 {a}입니다\")\n"
   ]
  },
  {
   "cell_type": "code",
   "execution_count": 22,
   "metadata": {},
   "outputs": [
    {
     "name": "stdout",
     "output_type": "stream",
     "text": [
      "[0, 1, 2, 3, 4, 5, 6, 7, 8, 9]\n"
     ]
    }
   ],
   "source": [
    "import heapq\n",
    "\n",
    "def heapsort(iterable):\n",
    "    h=[]\n",
    "    result=[]\n",
    "    for value in iterable:\n",
    "        heapq.heappush(h, value)\n",
    "    for i in range(len(h)):\n",
    "        result.append(heapq.heappop(h))\n",
    "    return result\n",
    "\n",
    "result=heapsort([1,3,5,7,9,2,4,6,8,0])\n",
    "print(result)"
   ]
  },
  {
   "cell_type": "code",
   "execution_count": 29,
   "metadata": {},
   "outputs": [
    {
     "name": "stdout",
     "output_type": "stream",
     "text": [
      "[0, 1, 2, 3, 4, 5, 6, 7, 8, 9]\n"
     ]
    }
   ],
   "source": [
    "import heapq\n",
    "def heapsort(iterable):\n",
    "    h, result = [],[]\n",
    "    for value in iterable: heapq.heappush(h, value)\n",
    "    for i in range(len(h)): result.append(heapq.heappop(h))\n",
    "    return result\n",
    "result=heapsort([1,3,5,7,9,2,4,6,8,0])\n",
    "print(result)"
   ]
  },
  {
   "cell_type": "code",
   "execution_count": 30,
   "metadata": {},
   "outputs": [
    {
     "name": "stdout",
     "output_type": "stream",
     "text": [
      "[9, 8, 7, 6, 5, 4, 3, 2, 1, 0]\n"
     ]
    }
   ],
   "source": [
    "import heapq\n",
    "def heapsort_r(iterable):\n",
    "    h, result = [], []\n",
    "    for value in iterable: heapq.heappush(h,-value)\n",
    "    for i in range(len(h)): result.append(-heapq.heappop(h))\n",
    "    return result\n",
    "\n",
    "result=heapsort_r([1,3,5,7,9,2,4,6,8,0])\n",
    "print(result)"
   ]
  },
  {
   "cell_type": "code",
   "execution_count": 11,
   "metadata": {},
   "outputs": [
    {
     "name": "stdout",
     "output_type": "stream",
     "text": [
      "1260\n",
      "6\n"
     ]
    }
   ],
   "source": [
    "# greedy - 동전 거슬러 주기\n",
    "target = int(input())\n",
    "count=0\n",
    "for coin in [500,100,50,10]:\n",
    "    if target>=coin:count+=target//coin\n",
    "    target%=coin\n",
    "print(count)"
   ]
  },
  {
   "cell_type": "code",
   "execution_count": 23,
   "metadata": {},
   "outputs": [
    {
     "name": "stdout",
     "output_type": "stream",
     "text": [
      "5 8 3\n",
      "2 4 5 4 6\n",
      "46\n",
      "걸린 시간은 0 입니당\n"
     ]
    }
   ],
   "source": [
    "# 큰 수의 법칙 (단순하게 풀기)\n",
    "n, m, k = map(int, input().split())\n",
    "data = list(map(int, input().split()))\n",
    "\n",
    "st = time.time_ns()\n",
    "result=0\n",
    "data.sort()\n",
    "\n",
    "for i in range(m):\n",
    "    if count >= k:\n",
    "        count=0\n",
    "        result+=data[-2]\n",
    "    else:\n",
    "        count+=1\n",
    "        result+=data[-1]\n",
    "ft = time.time_ns()        \n",
    "\n",
    "print(result)\n",
    "print(f\"걸린 시간은 {ft-st} 입니당\")"
   ]
  },
  {
   "cell_type": "code",
   "execution_count": 25,
   "metadata": {},
   "outputs": [
    {
     "name": "stdout",
     "output_type": "stream",
     "text": [
      "5 8 3\n",
      "2 4 4 5 6\n",
      "46\n"
     ]
    }
   ],
   "source": [
    "# 큰 수의 법칙 응용 (Greedy 하게 풀기 - 꼼수를 생각해 내는 거지)\n",
    "n, m, k = map(int, input().split())\n",
    "data = list(map(int, input().split()))\n",
    "\n",
    "result=0\n",
    "data.sort()\n",
    "\n",
    "count = m//(k+1)*k\n",
    "count += m%(k+1)\n",
    "\n",
    "result += count*data[-1]\n",
    "result += (m-count)*data[-2]\n",
    "\n",
    "print(result)"
   ]
  },
  {
   "cell_type": "code",
   "execution_count": 33,
   "metadata": {},
   "outputs": [
    {
     "name": "stdout",
     "output_type": "stream",
     "text": [
      "2 4\n",
      "7 3 1 8\n",
      "3 3 3 4\n",
      "3\n"
     ]
    }
   ],
   "source": [
    "# 숫자 카드 게임\n",
    "n, m = map(int, input().split())\n",
    "data=[]\n",
    "for _ in range(n):\n",
    "    data.append(list(map(int, input().split())))\n",
    "\n",
    "max_val = 0\n",
    "for i in range(n):\n",
    "    if min(data[i]) > max_val: max_val=min(data[i])\n",
    "    else: pass\n",
    "    \n",
    "print(max_val)"
   ]
  },
  {
   "cell_type": "code",
   "execution_count": 41,
   "metadata": {},
   "outputs": [
    {
     "name": "stdout",
     "output_type": "stream",
     "text": [
      "89 9\n",
      "10\n"
     ]
    }
   ],
   "source": [
    "# 1이 될 때까지\n",
    "n, k = map(int, input().split())\n",
    "count=0\n",
    "\n",
    "while True:\n",
    "    if n<k**count:\n",
    "        count-=1\n",
    "        count+=(n-k**count)\n",
    "        break\n",
    "    else: count+=1\n",
    "\n",
    "        \n",
    "print(count)"
   ]
  },
  {
   "cell_type": "code",
   "execution_count": 50,
   "metadata": {},
   "outputs": [
    {
     "name": "stdout",
     "output_type": "stream",
     "text": [
      "5\n",
      "R R R U D D\n",
      "0   4\n"
     ]
    }
   ],
   "source": [
    "# 구현 - 상하 좌우\n",
    "n = int(input())\n",
    "plan = list(map(str, input().split()))\n",
    "\n",
    "direction = {'L':0,'R':1,'U':2,'D':3}\n",
    "move_x = [-1,1,0,0]\n",
    "move_y = [0,0,-1,1]\n",
    "\n",
    "state_y, state_x = 1,1\n",
    "for moving in plan:\n",
    "    state_x += move_x[direction[moving]]\n",
    "    state_y += move_y[direction[moving]]\n",
    "    if state_x<1 or state_x>n: state_x -= move_x[direction[moving]]\n",
    "    if state_y<1 or state_y>n: state_y -= move_y[direction[moving]]\n",
    "print(state_y,' ',state_x)"
   ]
  },
  {
   "cell_type": "code",
   "execution_count": 77,
   "metadata": {},
   "outputs": [
    {
     "name": "stdout",
     "output_type": "stream",
     "text": [
      "5\n",
      "11475\n"
     ]
    }
   ],
   "source": [
    "# 구현 - 시각\n",
    "n = int(input())\n",
    "total_sec = (n+1) * 3600\n",
    "cnt = 0\n",
    "for time_sec in range(total_sec):\n",
    "    hour = str(time_sec//3600)\n",
    "    minutes = str((time_sec%3600)//60)\n",
    "    sec = str((time_sec%3600)%60)\n",
    "    if '3' in hour+minutes+sec:cnt+=1\n",
    "        \n",
    "print(cnt)"
   ]
  },
  {
   "cell_type": "code",
   "execution_count": 82,
   "metadata": {},
   "outputs": [
    {
     "name": "stdout",
     "output_type": "stream",
     "text": [
      "a1\n",
      "2\n"
     ]
    }
   ],
   "source": [
    "# 구현 - 왕실의 나이트\n",
    "val = input()\n",
    "init_point=(int(ord(val[0]))-int(ord('a')),int(val[1]))\n",
    "move_direction= [(2,1),(2,-1),(-2,1),(-2,-1),\n",
    "                 (1,2),(-1,2),(1,-2),(-1,-2)]\n",
    "\n",
    "result=0\n",
    "for step in move_direction:\n",
    "    move_col = init_point[0]+step[0]\n",
    "    move_row = init_point[1]+step[1]\n",
    "    if move_col<1 or move_col>8 or move_row<1 or move_row>8: continue\n",
    "    else: result+=1\n",
    "print(result)"
   ]
  },
  {
   "cell_type": "code",
   "execution_count": 93,
   "metadata": {},
   "outputs": [
    {
     "name": "stdout",
     "output_type": "stream",
     "text": [
      "4 4\n",
      "1 1 0\n",
      "1 1 1 1\n",
      "1 0 0 1\n",
      "1 1 0 1\n",
      "1 1 1 1\n",
      "[[1, 1, 1, 1], [1, 1, 0, 1], [1, 1, 0, 1], [1, 1, 1, 1]]\n",
      "\n",
      "[[1, 1, 1, 1], [1, 1, 1, 1], [1, 1, 0, 1], [1, 1, 1, 1]]\n",
      "\n",
      "[[1, 1, 1, 1], [1, 1, 1, 1], [1, 1, 1, 1], [1, 1, 1, 1]]\n",
      "\n",
      "2\n"
     ]
    }
   ],
   "source": [
    "# 구현 - 게임 개발\n",
    "n, m = map(int, input().split())\n",
    "y, x, d = map(int, input().split())\n",
    "game_map=[]\n",
    "moving_count=0\n",
    "for i in range(n):\n",
    "    input_lst = list(map(int, input().split()))\n",
    "    game_map.append(input_lst)\n",
    "    \n",
    "dx = [0,1,0,-1]\n",
    "dy = [-1,0,1,0]\n",
    "\n",
    "cur_d = d+1\n",
    "moving = True\n",
    "game_map[y][x]=1\n",
    "\n",
    "while moving:\n",
    "    print(game_map)\n",
    "    print()\n",
    "    for i in range(4):\n",
    "        if cur_d > 3:  cur_d -= 4\n",
    "        if i==3:\n",
    "            if cur_d == 0: mv_d = 2\n",
    "            elif cur_d == 1: mv_d = 3\n",
    "            elif cur_d ==2: mv_d = 0\n",
    "            else:mv_d = 1\n",
    "            \n",
    "            next_x = x + dx[mv_d]\n",
    "            next_y = y + dy[mv_d]\n",
    "            if game_map[next_y][next_x] == 1:\n",
    "                moving = False\n",
    "                break\n",
    "            else:\n",
    "                moving_count+=1\n",
    "                x, y = next_x, next_y\n",
    "                game_map[y][x]=1\n",
    "                cur_d+=1\n",
    "                break\n",
    "        else:    \n",
    "            next_x = x + dx[cur_d]\n",
    "            next_y = y + dy[cur_d]\n",
    "            if game_map[next_y][next_x] == 1:\n",
    "                cur_d+=1\n",
    "                continue\n",
    "            else:\n",
    "                moving_count+=1\n",
    "                x, y = next_x, next_y\n",
    "                game_map[y][x]=1\n",
    "                cur_d+=1\n",
    "                break\n",
    "\n",
    "        \n",
    "            \n",
    "print(moving_count)"
   ]
  },
  {
   "cell_type": "code",
   "execution_count": 1,
   "metadata": {},
   "outputs": [
    {
     "name": "stdout",
     "output_type": "stream",
     "text": [
      "1 2 7 6 8 3 4 5 [False, True, True, True, True, True, True, True, True]\n"
     ]
    }
   ],
   "source": [
    "# dfs - 스택을 활용합니다\n",
    "def dfs(graph, v, visited):\n",
    "    visited[v] = True\n",
    "    print(v, end=' ')\n",
    "    for i in graph[v]:\n",
    "        if not visited[i]:\n",
    "            dfs(graph,i,visited)\n",
    "            \n",
    "graph = [\n",
    "    [],\n",
    "    [2, 3, 8],\n",
    "    [1, 7],\n",
    "    [1, 4, 5],\n",
    "    [3, 5],\n",
    "    [3, 4],\n",
    "    [7],\n",
    "    [2, 6, 8],\n",
    "    [1, 7]\n",
    "]\n",
    "\n",
    "visited = [False] * len(graph)\n",
    "\n",
    "dfs(graph, 1, visited)\n",
    "print(visited)"
   ]
  },
  {
   "cell_type": "code",
   "execution_count": 101,
   "metadata": {},
   "outputs": [
    {
     "name": "stdout",
     "output_type": "stream",
     "text": [
      "1 2 7 6 8 3 4 5 "
     ]
    }
   ],
   "source": [
    "graph = [\n",
    "    [],\n",
    "    [2, 3, 8],\n",
    "    [1, 7],\n",
    "    [1, 4, 5],\n",
    "    [3, 5],\n",
    "    [3, 4],\n",
    "    [7],\n",
    "    [2, 6, 8],\n",
    "    [1, 7]\n",
    "]\n",
    "\n",
    "visited = [False] * len(graph)\n",
    "\n",
    "def dfs1(g, v, visited):\n",
    "    visited[v] = True\n",
    "    print(v, end=' ')\n",
    "    for i in g[v]:\n",
    "        if not visited[i]:\n",
    "            dfs1(g, i, visited)\n",
    "\n",
    "dfs1(graph,1,visited)"
   ]
  },
  {
   "cell_type": "code",
   "execution_count": 103,
   "metadata": {},
   "outputs": [
    {
     "name": "stdout",
     "output_type": "stream",
     "text": [
      "1 2 3 8 7 4 5 6 "
     ]
    }
   ],
   "source": [
    "from collections import deque\n",
    "\n",
    "graph = [\n",
    "    [],\n",
    "    [2, 3, 8],\n",
    "    [1, 7],\n",
    "    [1, 4, 5],\n",
    "    [3, 5],\n",
    "    [3, 4],\n",
    "    [7],\n",
    "    [2, 6, 8],\n",
    "    [1, 7]\n",
    "]\n",
    "\n",
    "visited = [False] * len(graph)\n",
    "\n",
    "def bfs(graph, start, visited):\n",
    "    q = deque([start])\n",
    "    visited[start] = True\n",
    "    while q:\n",
    "        v = q.popleft()\n",
    "        print(v,end=' ')\n",
    "        for i in graph[v]:\n",
    "            if not visited[i]:\n",
    "                q.append(i)\n",
    "                visited[i]=True\n",
    "                \n",
    "bfs(graph,1,visited)"
   ]
  },
  {
   "cell_type": "code",
   "execution_count": 157,
   "metadata": {},
   "outputs": [
    {
     "name": "stdout",
     "output_type": "stream",
     "text": [
      "15 14\n",
      "00000111100000\n",
      "11111101111110\n",
      "11011101101110\n",
      "11011101100000\n",
      "11011111111111\n",
      "11011111111100\n",
      "11000000011111\n",
      "01111111111111\n",
      "00000000011111\n",
      "01111111111000\n",
      "00011111111000\n",
      "00000011111000\n",
      "11111111110011\n",
      "11100011111111\n",
      "11100011111111\n",
      "8\n"
     ]
    }
   ],
   "source": [
    "# 음료수 얼려 먹기 - DFS\n",
    "from collections import deque\n",
    "\n",
    "n, m = map(int,input().split())\n",
    "ice_mold = []\n",
    "\n",
    "for i in range(n):\n",
    "    ice_mold.append(list(map(int, input())))\n",
    "    \n",
    "\n",
    "def dfs_ice (x, y, graph, n, m):\n",
    "    q=deque([(x,y)])\n",
    "    move_slots = [(x-1,y),(x+1,y),(x,y-1),(x,y+1)]\n",
    "    for slot in move_slots:\n",
    "        if slot[0]>=0 and slot[0]<m and slot[1]>=0 and slot[1]<n:\n",
    "            q.append(slot)\n",
    "            graph[y][x]=1\n",
    "    while q:\n",
    "        cur_stat = q.popleft()\n",
    "        if graph[cur_stat[1]][cur_stat[0]] == 0:\n",
    "            move_slots = [(cur_stat[0]-1,cur_stat[1])\n",
    "                          ,(cur_stat[0]+1,cur_stat[1])\n",
    "                          ,(cur_stat[0],cur_stat[1]-1)\n",
    "                          ,(cur_stat[0],cur_stat[1]+1)]\n",
    "            for slot in move_slots:\n",
    "                if slot[0]>=0 and slot[0]<m and slot[1]>=0 and slot[1]<n:\n",
    "                    q.append(slot)\n",
    "                    graph[cur_stat[1]][cur_stat[0]]=1\n",
    "cnt=0                   \n",
    "for i in range(m):\n",
    "    for j in range(n):\n",
    "        if ice_mold[j][i] == 0:\n",
    "            dfs_ice(i,j,ice_mold,n,m)\n",
    "            cnt+=1\n",
    "\n",
    "print(cnt)            "
   ]
  },
  {
   "cell_type": "code",
   "execution_count": 164,
   "metadata": {},
   "outputs": [
    {
     "name": "stdout",
     "output_type": "stream",
     "text": [
      "3 3\n",
      "001\n",
      "010\n",
      "101\n",
      "3\n"
     ]
    }
   ],
   "source": [
    "# 음료수 얼려 먹기 - BFS\n",
    "\n",
    "n, m = map(int,input().split())\n",
    "ice_mold = []\n",
    "\n",
    "for i in range(n):\n",
    "    ice_mold.append(list(map(int, input())))\n",
    "    \n",
    "\n",
    "def bfs_ice(x, y):\n",
    "    if x<0 or x>=n or y<0 or y>=m: return False\n",
    "    if ice_mold[x][y] == 0:\n",
    "        ice_mold[x][y]=1\n",
    "        bfs_ice(x-1,y)\n",
    "        bfs_ice(x+1,y)\n",
    "        bfs_ice(x,y-1)\n",
    "        bfs_ice(x,y+1)\n",
    "        return True\n",
    "    return False\n",
    "\n",
    "cnt = 0\n",
    "for i in range(n):\n",
    "    for j in range(m):\n",
    "        if bfs_ice(i,j): cnt+=1\n",
    "print(cnt)            "
   ]
  },
  {
   "cell_type": "code",
   "execution_count": 29,
   "metadata": {},
   "outputs": [
    {
     "name": "stdout",
     "output_type": "stream",
     "text": [
      "5 6\n",
      "101010\n",
      "111111\n",
      "000001\n",
      "111111\n",
      "111111\n"
     ]
    },
    {
     "data": {
      "text/plain": [
       "10"
      ]
     },
     "execution_count": 29,
     "metadata": {},
     "output_type": "execute_result"
    }
   ],
   "source": [
    "# 미로 탈출 - 이거는 꼭 다시 보도록 하자. 굉장히 중요하다. 어렵지만 간단하게 가능하니깐!\n",
    "from collections import deque\n",
    "\n",
    "n, m = map(int,input().split())\n",
    "maze = []\n",
    "\n",
    "for i in range(n):\n",
    "    maze.append(list(map(int, input())))\n",
    "    \n",
    "dx = [-1,1,0,0]\n",
    "dy = [0,0,1,-1]\n",
    "x_lim = [-1, n]\n",
    "y_lim = [-1, m]\n",
    "\n",
    "def bfs_maze(x,y):\n",
    "    q = deque()\n",
    "    q.append((x,y))\n",
    "    while q:\n",
    "        x, y = q.popleft()\n",
    "        for i in range(4):\n",
    "            nx = x+dx[i]\n",
    "            ny = y+dy[i]\n",
    "            if (nx in x_lim) or (ny in y_lim): continue\n",
    "            if maze[nx][ny] == 0: continue\n",
    "            if maze[nx][ny] == 1:\n",
    "                maze[nx][ny] = maze[x][y]+1\n",
    "                q.append((nx,ny))\n",
    "    return maze[n-1][m-1]\n",
    "\n",
    "bfs_maze(0,0)"
   ]
  },
  {
   "cell_type": "code",
   "execution_count": 31,
   "metadata": {},
   "outputs": [
    {
     "name": "stdout",
     "output_type": "stream",
     "text": [
      "3\n",
      "15\n",
      "27\n",
      "12\n",
      "27 15 12 "
     ]
    }
   ],
   "source": [
    "n = int(input())\n",
    "arr = []\n",
    "\n",
    "for i in range(n):\n",
    "    arr.append(int(input()))\n",
    "    \n",
    "arr=sorted(arr, reverse=True)\n",
    "\n",
    "for val in arr:\n",
    "    print(val, end=' ')"
   ]
  },
  {
   "cell_type": "code",
   "execution_count": 37,
   "metadata": {},
   "outputs": [
    {
     "name": "stdout",
     "output_type": "stream",
     "text": [
      "2\n",
      "홍길동 91\n",
      "인순신 99\n",
      "인순신 홍길동 "
     ]
    }
   ],
   "source": [
    "n = int(input())\n",
    "\n",
    "grade_dict={}\n",
    "\n",
    "for i in range(n):\n",
    "    gr = input().split()\n",
    "    grade_dict[int(gr[1])] = gr[0]\n",
    "    \n",
    "grade = sorted(grade_dict, reverse=True)\n",
    "\n",
    "for key in grade:\n",
    "    print(grade_dict[key], end=' ')"
   ]
  },
  {
   "cell_type": "code",
   "execution_count": 40,
   "metadata": {},
   "outputs": [
    {
     "name": "stdout",
     "output_type": "stream",
     "text": [
      "5 3\n",
      "1 2 5 6 5\n",
      "5 6 5 7 4 2\n",
      "29\n"
     ]
    }
   ],
   "source": [
    "n, k = map(int, input().split())\n",
    "a = list(map(int, input().split()))\n",
    "b = list(map(int, input().split()))\n",
    "\n",
    "a.sort()\n",
    "b.sort(reverse=True)\n",
    "\n",
    "for i in range(k):\n",
    "    if a[i] < b[i]: a[i], b[i] = b[i], a[i]\n",
    "    else: break\n",
    "    \n",
    "print(sum(a))"
   ]
  },
  {
   "cell_type": "code",
   "execution_count": 5,
   "metadata": {},
   "outputs": [],
   "source": [
    "# 이진탐색\n",
    "def binary_search(arr, strt, end, traget):\n",
    "    if strt>end: return None\n",
    "    mid = (strt+end)//2\n",
    "    if arr[mid]==target: return mid\n",
    "    elif arr[mid]<target: return binary_search(arr, mid+1, end, target)\n",
    "    else: return binary_search(arr, strt, mid-1, target)"
   ]
  },
  {
   "cell_type": "code",
   "execution_count": 9,
   "metadata": {},
   "outputs": [
    {
     "name": "stdout",
     "output_type": "stream",
     "text": [
      "5\n",
      "8 3 7 9 2\n",
      "3\n",
      "5 7 9\n",
      "no yes yes "
     ]
    }
   ],
   "source": [
    "# 부품 찾기 - 이진 탐색\n",
    "n = int(input())\n",
    "arr_a = list(map(int, input().split()))\n",
    "arr_a.sort()\n",
    "\n",
    "m = int(input())\n",
    "arr_b = list(map(int, input().split()))\n",
    "\n",
    "def bi_search_parts(arr, strt, end, target):\n",
    "    if strt>end: return None\n",
    "    mid = (strt+end)//2\n",
    "    if arr[mid]==target: return mid\n",
    "    elif arr[mid] < target: return bi_search_parts(arr, mid+1, end, target)\n",
    "    else: return bi_search_parts(arr, strt, mid-1, target)\n",
    "    \n",
    "for goal in arr_b:\n",
    "    if bi_search_parts(arr_a,0,n-1,goal) == None: print(\"no\", end=' ')\n",
    "    else: print('yes', end=' ')"
   ]
  },
  {
   "cell_type": "code",
   "execution_count": 25,
   "metadata": {},
   "outputs": [
    {
     "name": "stdout",
     "output_type": "stream",
     "text": [
      "4 6\n",
      "19 17 10 15\n",
      "9\n",
      "14\n",
      "17\n",
      "15\n",
      "15\n"
     ]
    }
   ],
   "source": [
    "# 떡볶이 떡 만들기\n",
    "n, m = map(int, input().split())\n",
    "ddeks = list(map(int, input().split()))\n",
    "strt,end = 0, max(ddeks)\n",
    "mid = 0\n",
    "while strt<end:\n",
    "    total_len = 0\n",
    "    mid = (strt+end)//2\n",
    "    print(mid)\n",
    "    for ddek in ddeks:\n",
    "        if ddek > mid: total_len += (ddek-mid)\n",
    "    if total_len==m: break\n",
    "    elif total_len > m: strt=mid+1\n",
    "    else: end=mid-1\n",
    "        \n",
    "print(mid)\n",
    "# 야 이진탐색은 재귀, 반복 둘 다 생각해 색갸"
   ]
  },
  {
   "cell_type": "code",
   "execution_count": 8,
   "metadata": {},
   "outputs": [
    {
     "name": "stdout",
     "output_type": "stream",
     "text": [
      "2999\n",
      "11\n"
     ]
    }
   ],
   "source": [
    "# DP - 1로 만들기\n",
    "n = int(input())\n",
    "\n",
    "d = [0] * 30001\n",
    "for i in range(2, n+1):\n",
    "    d[i] = d[i-1]+1\n",
    "    if i%2 == 0: d[i] = min(d[i], d[i//2]+1)\n",
    "    if i%3 == 0: d[i] = min(d[i], d[i//3]+1)\n",
    "    if i%5 == 0: d[i] = min(d[i], d[i//5]+1)\n",
    "        \n",
    "print(d[n])"
   ]
  },
  {
   "cell_type": "code",
   "execution_count": 13,
   "metadata": {},
   "outputs": [
    {
     "name": "stdout",
     "output_type": "stream",
     "text": [
      "100\n",
      "1 2 3 4 5 6 7 8 9 10 11 12 13 14 15 16 17 18 19 20 21 22 23 24 25 26 27 28 29 30 31 32 33 34 35 36 37 38 39 40 41 42 43 44 45 46 47 48 49 50 51 52 53 54 55 56 57 58 59 60 61 62 63 64 65 66 67 68 69 70 71 72 73 74 75 76 77 78 79 80 81 82 83 84 85 86 87 88 89 90 91 92 93 94 95 96 97 98 99 100\n",
      "2550\n"
     ]
    }
   ],
   "source": [
    "# DP - 개미 창고 털기\n",
    "n = int(input())\n",
    "arr = list(map(int, input().split()))\n",
    "if n%2 ==0:\n",
    "    n_1 = [arr[j] for j in range(0,n-1,2)]\n",
    "    n_2 = [arr[k] for k in range(1,n,2)]\n",
    "else:\n",
    "    n_1 = [arr[j] for j in range(1,n-1,2)]\n",
    "    n_2 = [arr[k] for k in range(0,n,2)]\n",
    "    \n",
    "print(max(sum(n_1), sum(n_2)))"
   ]
  },
  {
   "cell_type": "code",
   "execution_count": 29,
   "metadata": {},
   "outputs": [
    {
     "name": "stdout",
     "output_type": "stream",
     "text": [
      "500\n",
      "586939\n"
     ]
    }
   ],
   "source": [
    "# DP - 바닥 공사\n",
    "n = int(input())\n",
    "\n",
    "d = [0]*1001\n",
    "d[1] = 1\n",
    "d[2] = 3\n",
    "for i in range(3,n+1):\n",
    "    d[i] = (d[i-1]+d[i-2]*2)%796796\n",
    "            \n",
    "print(d[n])"
   ]
  },
  {
   "cell_type": "code",
   "execution_count": 49,
   "metadata": {},
   "outputs": [
    {
     "name": "stdout",
     "output_type": "stream",
     "text": [
      "3 7\n",
      "1\n",
      "5\n",
      "6\n",
      "2\n"
     ]
    }
   ],
   "source": [
    "# DP - 효율적인 화폐 구성\n",
    "n, m = map(int,input().split())\n",
    "coins=[]\n",
    "\n",
    "for i in range(n):\n",
    "    coins.append(int(input()))\n",
    "    \n",
    "d=[10001]*(m+1)\n",
    "d[0]=0\n",
    "for coin in coins:\n",
    "    for i in range(coin, m+1):\n",
    "        if d[i-coin] != 10001:\n",
    "            d[i] = min(d[i],d[i-coin]+1)\n",
    "if d[m] == 10001: print(-1)\n",
    "else: print(d[m])"
   ]
  },
  {
   "cell_type": "code",
   "execution_count": 56,
   "metadata": {},
   "outputs": [
    {
     "name": "stdout",
     "output_type": "stream",
     "text": [
      "6 11\n",
      "1\n",
      "1 2 2\n",
      "1 3 5\n",
      "1 4 1\n",
      "2 3 3\n",
      "2 4 2\n",
      "3 2 3\n",
      "3 6 5\n",
      "4 3 3\n",
      "4 5 1\n",
      "5 3 1\n",
      "5 6 2\n",
      "2   (3, 3)\n",
      "2   (4, 2)\n",
      "3   (2, 3)\n",
      "3   (6, 5)\n",
      "4   (3, 3)\n",
      "4   (5, 1)\n",
      "5   (3, 1)\n",
      "5   (6, 2)\n",
      "[1000000000, 0, 2, 3, 1, 2, 4]\n"
     ]
    }
   ],
   "source": [
    "n, m = map(int, input().split())\n",
    "start = int(input())\n",
    "inf = int(1e9)\n",
    "graph=[[] for _ in range(n+1)]\n",
    "visited = [False] * (n+1)\n",
    "distance = [inf] * (n+1)\n",
    "\n",
    "for _ in range(m):\n",
    "    a,b,c = map(int, input().split())\n",
    "    graph[a].append((b,c))\n",
    "    \n",
    "def dijkstra(start):\n",
    "    distance[start] = 0\n",
    "    visited[start] = True\n",
    "    for node in graph[start]:\n",
    "        distance[node[0]] = node[1]\n",
    "    for cur_node in range(2,n):\n",
    "        visited[cur_node] = True\n",
    "        for cnct_node in graph[cur_node]:\n",
    "            # print(cur_node,' ',cnct_node)\n",
    "            if (distance[cur_node]+cnct_node[1]) < distance[cnct_node[0]]:\n",
    "                distance[cnct_node[0]] = distance[cur_node]+cnct_node[1]\n",
    "\n",
    "dijkstra(start)\n",
    "print(distance)"
   ]
  },
  {
   "cell_type": "code",
   "execution_count": 60,
   "metadata": {},
   "outputs": [
    {
     "name": "stdout",
     "output_type": "stream",
     "text": [
      "6 11\n",
      "1\n",
      "1 2 2\n",
      "1 3 5\n",
      "1 4 1\n",
      "2 3 3\n",
      "2 4 2\n",
      "3 2 3\n",
      "3 6 5\n",
      "4 3 3\n",
      "4 5 1\n",
      "5 3 1\n",
      "5 6 2\n",
      "[0, 0, 2, 3, 1, 2, 4]\n"
     ]
    }
   ],
   "source": [
    "import heapq as hq\n",
    "\n",
    "n, m = map(int, input().split())\n",
    "start = int(input())\n",
    "inf = int(1e9)\n",
    "graph=[[] for _ in range(n+1)]\n",
    "distance = [inf] * (n+1)\n",
    "\n",
    "for _ in range(m):\n",
    "    a,b,c = map(int, input().split())\n",
    "    graph[a].append((b,c))\n",
    "    \n",
    "def dijkstra_hq(start):\n",
    "    distance[start]=0\n",
    "    q = []\n",
    "    hq.heappush(q,(0, start))\n",
    "    while q:\n",
    "        dist, now = hq.heappop(q)\n",
    "        if distance[now] < dist: continue\n",
    "        for cnct_node in graph[now]:\n",
    "            cost = dist + cnct_node[1]\n",
    "            if cost < distance[cnct_node[0]]:\n",
    "                distance[cnct_node[0]] = cost\n",
    "                hq.heappush(q, (cost, cnct_node[0]))\n",
    "\n",
    "dijkstra_hq(start)\n",
    "print(distance)"
   ]
  },
  {
   "cell_type": "code",
   "execution_count": 65,
   "metadata": {},
   "outputs": [
    {
     "name": "stdout",
     "output_type": "stream",
     "text": [
      "6 11\n",
      "1 2 2\n",
      "1 3 5\n",
      "1 4 1\n",
      "2 3 3\n",
      "2 4 2\n",
      "3 2 3\n",
      "3 6 5\n",
      "4 3 3\n",
      "4 5 1\n",
      "5 3 1\n",
      "5 6 2\n",
      "[1000000000, 0, 2, 3, 1, 2, 4]\n"
     ]
    }
   ],
   "source": [
    "# 우선순위 큐를 활용한 다익스트라\n",
    "import heapq as hq\n",
    "inf = int(1e9)\n",
    "\n",
    "n, m = map(int, input().split())\n",
    "graph = [[] for _ in range(n+1)]\n",
    "distance = [inf] * (n+1)\n",
    "\n",
    "for _ in range(m):\n",
    "    a,b,c = map(int, input().split())\n",
    "    graph[a].append((b,c))\n",
    "    \n",
    "def dijkstra_hqqq(start):\n",
    "    q=[]\n",
    "    hq.heappush(q,(0, start))\n",
    "    distance[start] = 0\n",
    "    while q:\n",
    "        dist, now = hq.heappop(q)\n",
    "        if distance[now] < dist: continue\n",
    "        for cnct_node in graph[now]:\n",
    "            cost = distance[now] + cnct_node[1]\n",
    "            if cost < distance[cnct_node[0]]:\n",
    "                distance[cnct_node[0]] = cost\n",
    "                hq.heappush(q,(cost, cnct_node[0]))\n",
    "                \n",
    "dijkstra_hqqq(1)\n",
    "print(distance)"
   ]
  },
  {
   "cell_type": "code",
   "execution_count": 3,
   "metadata": {},
   "outputs": [
    {
     "name": "stdout",
     "output_type": "stream",
     "text": [
      "4 7\n",
      "1 2 4\n",
      "1 4 6\n",
      "2 1 3\n",
      "2 3 7\n",
      "3 1 5\n",
      "3 4 4\n",
      "4 3 2\n",
      "0 4 8 6 3 0 7 9 5 9 0 4 7 11 2 0 \n"
     ]
    }
   ],
   "source": [
    "# 플로이드 워셜\n",
    "inf = int(1e9)\n",
    "# n은 노드의 갯수, m은 간선의 갯수\n",
    "n, m = map(int, input().split())\n",
    "graph = [[inf]*(n+1) for _ in range(n+1)]\n",
    "\n",
    "# 자기 자신으로 가는 비용 초기화\n",
    "for i in range(1, n+1):\n",
    "    for j in range(1, n+1):\n",
    "        if i==j: graph[i][j] = 0\n",
    "\n",
    "# 간선 정보 입력\n",
    "for _ in range(m):\n",
    "    a, b, c = map(int, input().split())\n",
    "    graph[a][b] = c\n",
    "    \n",
    "# 플로이드 워셜\n",
    "for k in range(1,n+1):\n",
    "    for a in range(1, n+1):\n",
    "        for b in range(1, n+1):\n",
    "            graph[a][b] = min(graph[a][b], graph[a][k]+graph[k][b])\n",
    "            \n",
    "for a in range(1, n+1):\n",
    "    for b in range(1, n+1):\n",
    "        if graph[a][b] == inf: print(\"inf\")\n",
    "        else: print(graph[a][b], end = ' ')\n",
    "    print()"
   ]
  },
  {
   "cell_type": "code",
   "execution_count": 9,
   "metadata": {},
   "outputs": [
    {
     "name": "stdout",
     "output_type": "stream",
     "text": [
      "4 2\n",
      "1 3\n",
      "2 4\n",
      "3 4\n",
      "\n",
      "0 i 1 i \n",
      "i 0 i 1 \n",
      "1 i 0 i \n",
      "i 1 i 0 \n",
      "\n",
      "-1\n"
     ]
    }
   ],
   "source": [
    "# 미래 도시\n",
    "inf = int(1e9)\n",
    "n, m = map(int, input().split())\n",
    "graph = [[inf]*(n+1) for _ in range(n+1)]\n",
    "\n",
    "for _ in range(m):\n",
    "    a, b = map(int, input().split())\n",
    "    graph[a][b] = 1\n",
    "    graph[b][a] = 1\n",
    "    \n",
    "snd, fst = map(int, input().split())\n",
    "    \n",
    "for i in range(n+1):\n",
    "    for j in range(n+1):\n",
    "        if i==j: graph[i][j] = 0\n",
    "            \n",
    "for k in range(n+1):\n",
    "    for a in range(n+1):\n",
    "        for b in range(n+1):\n",
    "            graph[a][b] = min(graph[a][b], graph[a][k]+graph[k][b])\n",
    "            \n",
    "print()\n",
    "for a in range(1,n+1):\n",
    "    for b in range(1,n+1):\n",
    "        if graph[a][b]==inf: print(\"i\", end = ' ')\n",
    "        else: print(graph[a][b], end = ' ')\n",
    "    print()\n",
    "print()\n",
    "\n",
    "if graph[1][fst]+graph[fst][snd] >= inf: print(-1)\n",
    "else:\n",
    "    print(graph[1][fst]+graph[fst][snd])\n"
   ]
  },
  {
   "cell_type": "code",
   "execution_count": 15,
   "metadata": {},
   "outputs": [
    {
     "name": "stdout",
     "output_type": "stream",
     "text": [
      "6 11 1\n",
      "1 2 2\n",
      "1 3 5\n",
      "1 4 1\n",
      "2 3 3\n",
      "2 4 2\n",
      "3 2 3\n",
      "3 6 5\n",
      "4 3 3\n",
      "4 5 1\n",
      "5 3 1\n",
      "5 6 2\n",
      "3 4\n"
     ]
    }
   ],
   "source": [
    "# 전보\n",
    "import heapq as hq\n",
    "inf = int(1e9)\n",
    "\n",
    "n, m, c = map(int, input().split())\n",
    "graph = [[] for _ in range(n+1)]\n",
    "distance = [inf] * (n+1)\n",
    "\n",
    "for _ in range(m):\n",
    "    s, d, e = map(int, input().split())\n",
    "    graph[s].append((d,e))\n",
    "    \n",
    "def dijkstra(strt):\n",
    "    distance[strt] = 0\n",
    "    q = []\n",
    "    hq.heappush(q,(0, strt))\n",
    "    while q:\n",
    "        dist, now = hq.heappop(q)\n",
    "        if distance[now] < dist: continue\n",
    "        for cnct_node in graph[now]:\n",
    "            cost = dist+cnct_node[1]\n",
    "            if cost < distance[cnct_node[0]]:\n",
    "                distance[cnct_node[0]] = cost\n",
    "                hq.heappush(q,(cost, cnct_node[0]))\n",
    "                \n",
    "dijkstra(c)\n",
    "print(len(graph[c]), end = ' ')\n",
    "print(max(distance[1:]))"
   ]
  },
  {
   "cell_type": "code",
   "execution_count": 12,
   "metadata": {},
   "outputs": [
    {
     "name": "stdout",
     "output_type": "stream",
     "text": [
      "[1000000000, 0, 1000000000, 1000000000]\n"
     ]
    }
   ],
   "source": [
    "print(distance)"
   ]
  },
  {
   "cell_type": "code",
   "execution_count": 5,
   "metadata": {},
   "outputs": [
    {
     "name": "stdout",
     "output_type": "stream",
     "text": [
      "6 4\n",
      "1 4\n",
      "1   4\n",
      "[1, 2, 3, 1, 5, 6] \n",
      "\n",
      "2 3\n",
      "2   3\n",
      "[1, 2, 2, 1, 5, 6] \n",
      "\n",
      "2 4\n",
      "2   1\n",
      "[1, 1, 2, 1, 5, 6] \n",
      "\n",
      "5 6\n",
      "5   6\n",
      "[1, 1, 2, 1, 5, 5] \n",
      "\n",
      "1 1 1 1 5 5 "
     ]
    }
   ],
   "source": [
    "# 서로소 집합 트리 코드 (팀 짜는 거라고 생각 해)\n",
    "v, e = map(int, input().split())\n",
    "parent_list = [i for i in range(v+1)]\n",
    "\n",
    "def find_parent(pl, x):\n",
    "    if pl[x] != x:\n",
    "        return find_parent(pl, pl[x])\n",
    "    else: return pl[x]\n",
    "    \n",
    "def union_parent(parent, a, b):\n",
    "    root_a = find_parent(parent, a)\n",
    "    root_b = find_parent(parent, b)\n",
    "    print(root_a,' ',root_b)\n",
    "    if root_a < root_b: parent[root_b] = root_a\n",
    "    else: parent[root_a] = root_b\n",
    "        \n",
    "for _ in range(e):\n",
    "    a, b = map(int, input().split())\n",
    "    union_parent(parent_list, a, b)\n",
    "    print(parent_list[1:],'\\n')\n",
    "    \n",
    "for i in range(1,v+1):\n",
    "    print(find_parent(parent_list, i), end=' ')"
   ]
  },
  {
   "cell_type": "code",
   "execution_count": 1,
   "metadata": {},
   "outputs": [
    {
     "name": "stdout",
     "output_type": "stream",
     "text": [
      "3 3\n",
      "1 2\n",
      "1 3\n",
      "2 3\n",
      "싸이클이 있어\n"
     ]
    }
   ],
   "source": [
    "def find_parent(parent, x):\n",
    "    if parent[x] != x: return find_parent(parent, parent[x])\n",
    "    else: return parent[x]\n",
    "    \n",
    "def union_parent(parent, a, b):\n",
    "    root_a = find_parent(parent, a)\n",
    "    root_b = find_parent(parent, b)\n",
    "    if a < b: parent[root_b] = root_a\n",
    "    else: parent[root_a] = root_b\n",
    "        \n",
    "v, e = map(int, input().split())\n",
    "parent = [i for i in range(v+1)]\n",
    "\n",
    "cycle = False\n",
    "\n",
    "for _ in range(e):\n",
    "    a, b = map(int, input().split())\n",
    "    if find_parent(parent, a) == find_parent(parent, b):\n",
    "        cycle=True\n",
    "        break\n",
    "    else:\n",
    "        union_parent(parent, a, b)\n",
    "        \n",
    "if cycle: print(\"싸이클이 있어\")\n",
    "else: print(\"싸이클이 없어\")"
   ]
  },
  {
   "cell_type": "code",
   "execution_count": 1,
   "metadata": {},
   "outputs": [
    {
     "name": "stdout",
     "output_type": "stream",
     "text": [
      "7 9\n",
      "1 2 29\n",
      "1 5 75\n",
      "2 3 35\n",
      "2 6 34\n",
      "3 4 7\n",
      "4 6 23\n",
      "4 7 13\n",
      "5 6 53\n",
      "6 7 25\n",
      "159\n"
     ]
    }
   ],
   "source": [
    "# 최소 비용 신장 트리의 핵심은 사이클 발견\n",
    "\n",
    "def find_parent(parent, x):\n",
    "    if parent[x] != x: return find_parent(parent, parent[x])\n",
    "    else: return parent[x]\n",
    "    \n",
    "def union_parent(parent, a, b):\n",
    "    root_a = find_parent(parent, a)\n",
    "    root_b = find_parent(parent, b)\n",
    "    if root_a < root_b: parent[root_b] = root_a\n",
    "    else: parent[root_a] = root_b\n",
    "        \n",
    "v, e = map(int, input().split())\n",
    "parent = [i for i in range(v+1)]\n",
    "\n",
    "edges = []\n",
    "result = 0\n",
    "\n",
    "for _ in range(e):\n",
    "    a, b, cost = map(int, input().split())\n",
    "    edges.append((cost, a, b))\n",
    "    \n",
    "edges.sort()\n",
    "\n",
    "for edge in edges:\n",
    "    cost, a, b = edge\n",
    "    if find_parent(parent, a) != find_parent(parent, b):\n",
    "        union_parent(parent, a, b)\n",
    "        result+=cost\n",
    "        \n",
    "print(result)"
   ]
  },
  {
   "cell_type": "code",
   "execution_count": 4,
   "metadata": {},
   "outputs": [
    {
     "name": "stdout",
     "output_type": "stream",
     "text": [
      "7 8\n",
      "1 2\n",
      "1 5\n",
      "2 3\n",
      "2 6\n",
      "3 4\n",
      "4 7\n",
      "5 6\n",
      "6 4\n",
      "[1, 2, 5, 3, 6, 4, 7]\n"
     ]
    }
   ],
   "source": [
    "# 위상 정렬\n",
    "from collections import deque\n",
    "\n",
    "v, e = map(int, input().split())\n",
    "indegree = [0] * (v+1)\n",
    "graph = [[] for _ in range(v+1)]\n",
    "\n",
    "for _ in range(e):\n",
    "    a,b = map(int, input().split())\n",
    "    graph[a].append(b)\n",
    "    indegree[b] += 1 # 진입차수\n",
    "    \n",
    "def topology_sort():\n",
    "    result = []\n",
    "    q = deque()\n",
    "    for i in range(1, v+1):\n",
    "        if indegree[i] == 0:\n",
    "            q.append(i)\n",
    "            \n",
    "    while q:\n",
    "        now = q.popleft()\n",
    "        result.append(now)\n",
    "        for cnct_node in graph[now]:\n",
    "            indegree[cnct_node] -= 1\n",
    "            if indegree[cnct_node] == 0:\n",
    "                q.append(cnct_node)\n",
    "    print(result)\n",
    "\n",
    "topology_sort()"
   ]
  },
  {
   "cell_type": "code",
   "execution_count": 1,
   "metadata": {},
   "outputs": [
    {
     "name": "stdout",
     "output_type": "stream",
     "text": [
      "7 8\n",
      "0 1 3\n",
      "1 1 7\n",
      "NO\n",
      "0 7 6\n",
      "1 7 1\n",
      "NO\n",
      "0 3 7\n",
      "0 4 2\n",
      "0 1 1\n",
      "1 1 1\n",
      "YES\n"
     ]
    }
   ],
   "source": [
    "# 팀 합치기\n",
    "n, m = map(int, input().split())\n",
    "parent = [i for i in range(n+1)]\n",
    "def find_parent(parent, x):\n",
    "    if parent[x]!=x: return find_parent(parent, parent[x])\n",
    "    else: return parent[x]\n",
    "    \n",
    "def union_parent(parent, a, b):\n",
    "    root_a = find_parent(parent, a)\n",
    "    root_b = find_parent(parent, b)\n",
    "    if root_a < root_b: parent[root_b] = root_a\n",
    "    else: parent[root_a] = root_b\n",
    "        \n",
    "for _ in range(m):\n",
    "    z, a, b = map(int, input().split())\n",
    "    if z==0: union_parent(parent, a, b)\n",
    "    else:\n",
    "        if find_parent(parent, a) == find_parent(parent, b): print(\"YES\")\n",
    "        else: print(\"NO\")"
   ]
  },
  {
   "cell_type": "code",
   "execution_count": 5,
   "metadata": {},
   "outputs": [
    {
     "name": "stdout",
     "output_type": "stream",
     "text": [
      "7 12\n",
      "1 2 3\n",
      "1 3 2\n",
      "3 2 1\n",
      "2 5 2\n",
      "3 4 4\n",
      "7 3 6\n",
      "5 1 5\n",
      "1 6 2\n",
      "6 4 1\n",
      "6 5 3\n",
      "4 5 3\n",
      "6 7 4\n",
      "8\n"
     ]
    }
   ],
   "source": [
    "# 도시 분할 계획\n",
    "n, m = map(int, input().split())\n",
    "parent = list(range(0,n+1))\n",
    "\n",
    "def find_parent(parent, x):\n",
    "    if parent[x]!=x: return find_parent(parent, parent[x])\n",
    "    else: return parent[x]\n",
    "    \n",
    "def union_parent(parent, a, b):\n",
    "    root_a = find_parent(parent, a)\n",
    "    root_b = find_parent(parent, b)\n",
    "    if root_a < root_b: parent[root_b] = root_a\n",
    "    else: parent[root_a] = root_b\n",
    "        \n",
    "edges = []\n",
    "result = []\n",
    "\n",
    "for _ in range(m):\n",
    "    a, b, cost = map(int, input().split())\n",
    "    edges.append((cost, a, b))\n",
    "    \n",
    "edges.sort()\n",
    "\n",
    "for edge in edges:\n",
    "    cost, a, b = edge\n",
    "    if find_parent(parent, a) != find_parent(parent, b):\n",
    "        union_parent(parent, a, b)\n",
    "        result.append(cost)\n",
    "        \n",
    "print(sum(result)-max(result))"
   ]
  }
 ],
 "metadata": {
  "kernelspec": {
   "display_name": "Python 3",
   "language": "python",
   "name": "python3"
  },
  "language_info": {
   "codemirror_mode": {
    "name": "ipython",
    "version": 3
   },
   "file_extension": ".py",
   "mimetype": "text/x-python",
   "name": "python",
   "nbconvert_exporter": "python",
   "pygments_lexer": "ipython3",
   "version": "3.8.3"
  }
 },
 "nbformat": 4,
 "nbformat_minor": 4
}
