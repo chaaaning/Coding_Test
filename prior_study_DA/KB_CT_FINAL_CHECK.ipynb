{
 "cells": [
  {
   "cell_type": "markdown",
   "metadata": {},
   "source": [
    "# 확인해야하는 마지막 알고리즘들\n",
    "<br><br>\n",
    "1. BFS / DFS\n",
    "2. binary_search\n",
    "3. dijkstra\n",
    "4. 플루이드 워셜\n",
    "5. 서로소 집합\n",
    "6. kruscal"
   ]
  },
  {
   "cell_type": "code",
   "execution_count": 2,
   "metadata": {},
   "outputs": [
    {
     "name": "stdout",
     "output_type": "stream",
     "text": [
      "8\n",
      "238\n",
      "17\n",
      "145\n",
      "35\n",
      "34\n",
      "7\n",
      "268\n",
      "17\n"
     ]
    }
   ],
   "source": [
    "# DFS\n",
    "n = int(input())\n",
    "\n",
    "graph = [[] for _ in range(n+1)]\n",
    "\n",
    "for i in range(1,n+1):\n",
    "    graph[i] = list(map(int, input()))\n",
    "\n",
    "visited = [False] * (n+1)\n",
    "visit_seq = []\n",
    "\n",
    "def dfs(graph, start, visited):\n",
    "    visited[start] = True\n",
    "    visit_seq.append(start)\n",
    "    \n",
    "    for connect_node in graph[start]:\n",
    "        if not visited[connect_node]:\n",
    "            dfs(graph, connect_node, visited)"
   ]
  },
  {
   "cell_type": "code",
   "execution_count": 3,
   "metadata": {},
   "outputs": [],
   "source": [
    "dfs(graph, 1, visited)"
   ]
  },
  {
   "cell_type": "code",
   "execution_count": 5,
   "metadata": {},
   "outputs": [
    {
     "data": {
      "text/plain": [
       "[1, 2, 7, 6, 8, 3, 4, 5]"
      ]
     },
     "execution_count": 5,
     "metadata": {},
     "output_type": "execute_result"
    }
   ],
   "source": [
    "visit_seq"
   ]
  },
  {
   "cell_type": "code",
   "execution_count": 12,
   "metadata": {},
   "outputs": [
    {
     "name": "stdout",
     "output_type": "stream",
     "text": [
      "8\n",
      "2 3 8\n",
      "1 7\n",
      "1 4 5\n",
      "3 5\n",
      "3 4\n",
      "7\n",
      "2 6 8\n",
      "1 7\n"
     ]
    },
    {
     "data": {
      "text/plain": [
       "[1, 2, 3, 8, 7, 4, 5, 6]"
      ]
     },
     "execution_count": 12,
     "metadata": {},
     "output_type": "execute_result"
    }
   ],
   "source": [
    "# BFS\n",
    "from collections import deque\n",
    "\n",
    "n = int(input())\n",
    "\n",
    "graph = [[] for _ in range(n+1)]\n",
    "\n",
    "for i in range(1,n+1):\n",
    "    graph[i] = list(map(int, input().split()))\n",
    "    \n",
    "visited = [False] * (n+1)\n",
    "\n",
    "\n",
    "def bfs(graph, start, visited):\n",
    "    visit_seq = []\n",
    "    q = deque([start])\n",
    "    visited[start] = True\n",
    "    while q:\n",
    "        cur_node = q.popleft()\n",
    "        visit_seq.append(cur_node)\n",
    "        for connect_node in graph[cur_node]:\n",
    "            if not visited[connect_node]:\n",
    "                q.append(connect_node)\n",
    "                visited[connect_node] = True\n",
    "                \n",
    "    return visit_seq\n",
    "bfs(graph, 1, visited)    "
   ]
  },
  {
   "cell_type": "code",
   "execution_count": 14,
   "metadata": {},
   "outputs": [
    {
     "name": "stdout",
     "output_type": "stream",
     "text": [
      "5\n"
     ]
    }
   ],
   "source": [
    "# binary_search\n",
    "\n",
    "def binary_search(arr, start, end, target):\n",
    "    if start > end: return None\n",
    "    mid = (start+end)//2\n",
    "    if arr[mid] == target: return mid\n",
    "    elif arr[mid] < target: return binary_search(arr, mid+1, end, target)\n",
    "    else: return binary_search(arr, start, mid-1, target)\n",
    "        \n",
    "print(binary_search([1,3,5,7,9,11,13], 0, 6, 11))"
   ]
  },
  {
   "cell_type": "code",
   "execution_count": 3,
   "metadata": {},
   "outputs": [
    {
     "name": "stdout",
     "output_type": "stream",
     "text": [
      "6 11\n",
      "1\n",
      "1 2 2\n",
      "1 3 5\n",
      "1 4 1\n",
      "2 3 3\n",
      "2 4 2\n",
      "3 2 3\n",
      "3 6 5\n",
      "4 3 3\n",
      "4 5 1\n",
      "5 3 1\n",
      "5 6 2\n",
      "[1000000000, 1000000000, 2, 3, 1, 2, 4]\n"
     ]
    }
   ],
   "source": [
    "# dijkstra\n",
    "import heapq\n",
    "INF = int(1e9)\n",
    "\n",
    "n, m = map(int, input().split())\n",
    "\n",
    "start = int(input())\n",
    "\n",
    "graph = [[] for _ in range(n+1)]\n",
    "distance = [INF] * (n+1)\n",
    "\n",
    "for _ in range(m):\n",
    "    a,b,cost = map(int, input().split())\n",
    "    graph[a].append((b, cost))\n",
    "    \n",
    "def dijkstra(start):\n",
    "    q = []\n",
    "    heapq.heappush(q, (0,start))\n",
    "    distance[start] = 0\n",
    "    while q:\n",
    "        dist, now = heapq.heappop(q)\n",
    "        if distance[now] < dist: continue\n",
    "            \n",
    "        for connect in graph[now]:\n",
    "            cost = dist + connect[1]\n",
    "            \n",
    "            if cost < distance[connect[0]]:\n",
    "                distance[connect[0]] = cost\n",
    "                heapq.heappush(q, (cost, connect[0]))\n",
    "                \n",
    "dijkstra(start)\n",
    "\n",
    "print(distance)"
   ]
  },
  {
   "cell_type": "code",
   "execution_count": 3,
   "metadata": {},
   "outputs": [
    {
     "name": "stdout",
     "output_type": "stream",
     "text": [
      "4 7\n",
      "1 2 4\n",
      "1 4 6\n",
      "2 1 3\n",
      "2 3 7\n",
      "3 1 5\n",
      "3 4 4\n",
      "4 3 2\n",
      "0 4 8 6 \n",
      "3 0 7 9 \n",
      "5 9 0 4 \n",
      "7 11 2 0 \n"
     ]
    }
   ],
   "source": [
    "#플루이드 워셜\n",
    "INF = int(1e9)\n",
    "\n",
    "n, m = map(int, input().split())\n",
    "graph = [[INF]*(n+1) for _ in range(n+1)]\n",
    "\n",
    "for i in range(1,n+1):\n",
    "    graph[i][i] = 0\n",
    "    \n",
    "for _ in range(m):\n",
    "    a,b,cost = map(int, input().split())\n",
    "    graph[a][b] = cost\n",
    "    \n",
    "for k in range(1, n+1):\n",
    "    for a in range(1, n+1):\n",
    "        for b in range(1, n+1):\n",
    "            graph[a][b] = min(graph[a][b], graph[a][k]+graph[k][b])\n",
    "            \n",
    "for i in range(1, n+1):\n",
    "    for j in range(1, n+1):\n",
    "        if graph[i][j] != INF:\n",
    "            print(graph[i][j], end=' ')\n",
    "    print()\n",
    "    "
   ]
  },
  {
   "cell_type": "code",
   "execution_count": 2,
   "metadata": {},
   "outputs": [
    {
     "name": "stdout",
     "output_type": "stream",
     "text": [
      "[[1000000000], [1000000000], [1000000000], [1000000000], [1000000000]]\n"
     ]
    }
   ],
   "source": [
    "print(graph)"
   ]
  },
  {
   "cell_type": "code",
   "execution_count": 8,
   "metadata": {},
   "outputs": [
    {
     "name": "stdout",
     "output_type": "stream",
     "text": [
      "6 4\n",
      "1 4\n",
      "2 3\n",
      "2 4\n",
      "5 6\n",
      "[0, 1, 1, 2, 1, 5, 5]\n"
     ]
    }
   ],
   "source": [
    "v, e = map(int, input().split())\n",
    "parent = [i for i in range(v+1)]\n",
    "\n",
    "def find_parent(parent, x):\n",
    "    if parent[x] != x:\n",
    "        parent[x] = find_parent(parent, parent[x])\n",
    "    return parent[x]\n",
    "\n",
    "def union_parent(parent, a, b):\n",
    "    p_a = find_parent(parent, a)\n",
    "    p_b = find_parent(parent, b)\n",
    "    if p_a < p_b: parent[p_b] = p_a\n",
    "    else: parent[p_a] = p_b\n",
    "        \n",
    "for _ in range(e):\n",
    "    a, b = map(int, input().split())\n",
    "    union_parent(parent,a,b)\n",
    "        \n",
    "print(parent)"
   ]
  },
  {
   "cell_type": "code",
   "execution_count": 6,
   "metadata": {},
   "outputs": [
    {
     "name": "stdout",
     "output_type": "stream",
     "text": [
      "[0, 1, 2, 2, 1, 5, 6]\n"
     ]
    }
   ],
   "source": [
    "print(parent)"
   ]
  },
  {
   "cell_type": "code",
   "execution_count": 9,
   "metadata": {},
   "outputs": [
    {
     "name": "stdout",
     "output_type": "stream",
     "text": [
      "7 9\n",
      "1 2 29\n",
      "1 5 75\n",
      "2 3 35\n",
      "2 6 34\n",
      "3 4 7\n",
      "4 6 23\n",
      "4 7 13\n",
      "5 6 53\n",
      "6 7 25\n",
      "159\n"
     ]
    }
   ],
   "source": [
    "# kruscal\n",
    "\n",
    "v, e = map(int, input().split())\n",
    "parent = [i for i in range(v+1)]\n",
    "\n",
    "def find_parent(parent, x):\n",
    "    if parent[x] != x:\n",
    "        parent[x] = find_parent(parent, parent[x])\n",
    "    return parent[x]\n",
    "\n",
    "def union_parent(parent, a,b):\n",
    "    p_a = find_parent(parent, a)\n",
    "    p_b = find_parent(parent, b)\n",
    "    if p_a < p_b: parent[p_b] = p_a\n",
    "    else: parent[p_a] = p_b\n",
    "        \n",
    "edges = []\n",
    "result = 0\n",
    "\n",
    "for _ in range(e):\n",
    "    a,b,cost = map(int, input().split())\n",
    "    edges.append((cost,a,b))\n",
    "    \n",
    "edges.sort()\n",
    "\n",
    "for edge in edges:\n",
    "    cost, a, b = edge\n",
    "    if find_parent(parent, a) != find_parent(parent, b):\n",
    "        union_parent(parent, a, b)\n",
    "        result += cost\n",
    "        \n",
    "print(result)"
   ]
  },
  {
   "cell_type": "code",
   "execution_count": null,
   "metadata": {},
   "outputs": [],
   "source": []
  }
 ],
 "metadata": {
  "kernelspec": {
   "display_name": "Python 3",
   "language": "python",
   "name": "python3"
  },
  "language_info": {
   "codemirror_mode": {
    "name": "ipython",
    "version": 3
   },
   "file_extension": ".py",
   "mimetype": "text/x-python",
   "name": "python",
   "nbconvert_exporter": "python",
   "pygments_lexer": "ipython3",
   "version": "3.8.3"
  }
 },
 "nbformat": 4,
 "nbformat_minor": 4
}
